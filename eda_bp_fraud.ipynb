{
 "cells": [
  {
   "cell_type": "markdown",
   "id": "e8703b6d-69cb-41c1-9156-154ce0b043fe",
   "metadata": {},
   "source": [
    "Becky's EDA for Fraud Case Study"
   ]
  },
  {
   "cell_type": "markdown",
   "id": "2a67f49b-c447-4789-a0e4-fce473dc82c3",
   "metadata": {},
   "source": [
    "#### Initial EDA"
   ]
  },
  {
   "cell_type": "code",
   "execution_count": 1,
   "id": "0aabe25a-0dbc-4466-b6de-df13947f9dd2",
   "metadata": {},
   "outputs": [],
   "source": [
    "import pandas as pd\n",
    "import numpy as np\n",
    "import seaborn as sns\n",
    "import matplotlib.pyplot as plt\n",
    "plt.style.use('ggplot')\n",
    "%matplotlib inline\n",
    "import seaborn as sns\n",
    "\n",
    "from sklearn.preprocessing import LabelEncoder"
   ]
  },
  {
   "cell_type": "code",
   "execution_count": 2,
   "id": "526840f3-6e80-416c-ac8c-cceb5b3658b9",
   "metadata": {},
   "outputs": [],
   "source": [
    "df = pd.read_json('~/data.json')"
   ]
  },
  {
   "cell_type": "code",
   "execution_count": 3,
   "id": "d52b99f1-0751-429e-92f8-cade86e7d2d6",
   "metadata": {},
   "outputs": [],
   "source": [
    "df.to_csv('/Users/beckyepeters/dsi_galvanize/groupprojects/fraud-detection-case-study/data/df.csv', index=False)"
   ]
  },
  {
   "cell_type": "code",
   "execution_count": 4,
   "id": "b0e31a5f-c400-4de2-80a8-5ae0b95c2c83",
   "metadata": {},
   "outputs": [
    {
     "data": {
      "text/html": [
       "<div>\n",
       "<style scoped>\n",
       "    .dataframe tbody tr th:only-of-type {\n",
       "        vertical-align: middle;\n",
       "    }\n",
       "\n",
       "    .dataframe tbody tr th {\n",
       "        vertical-align: top;\n",
       "    }\n",
       "\n",
       "    .dataframe thead th {\n",
       "        text-align: right;\n",
       "    }\n",
       "</style>\n",
       "<table border=\"1\" class=\"dataframe\">\n",
       "  <thead>\n",
       "    <tr style=\"text-align: right;\">\n",
       "      <th></th>\n",
       "      <th>acct_type</th>\n",
       "      <th>approx_payout_date</th>\n",
       "      <th>body_length</th>\n",
       "      <th>channels</th>\n",
       "      <th>country</th>\n",
       "      <th>currency</th>\n",
       "      <th>delivery_method</th>\n",
       "      <th>description</th>\n",
       "      <th>email_domain</th>\n",
       "      <th>event_created</th>\n",
       "      <th>...</th>\n",
       "      <th>ticket_types</th>\n",
       "      <th>user_age</th>\n",
       "      <th>user_created</th>\n",
       "      <th>user_type</th>\n",
       "      <th>venue_address</th>\n",
       "      <th>venue_country</th>\n",
       "      <th>venue_latitude</th>\n",
       "      <th>venue_longitude</th>\n",
       "      <th>venue_name</th>\n",
       "      <th>venue_state</th>\n",
       "    </tr>\n",
       "  </thead>\n",
       "  <tbody>\n",
       "    <tr>\n",
       "      <th>0</th>\n",
       "      <td>fraudster_event</td>\n",
       "      <td>1266062400</td>\n",
       "      <td>3852</td>\n",
       "      <td>5</td>\n",
       "      <td>US</td>\n",
       "      <td>USD</td>\n",
       "      <td>0.0</td>\n",
       "      <td>&lt;p&gt;&lt;a href=\"http://s432.photobucket.com/albums...</td>\n",
       "      <td>gmail.com</td>\n",
       "      <td>1262739706</td>\n",
       "      <td>...</td>\n",
       "      <td>[{'event_id': 527017, 'cost': 25.0, 'availabil...</td>\n",
       "      <td>36</td>\n",
       "      <td>1259613950</td>\n",
       "      <td>1</td>\n",
       "      <td>717 Washington Avenue</td>\n",
       "      <td>US</td>\n",
       "      <td>25.777471</td>\n",
       "      <td>-80.133433</td>\n",
       "      <td>INK Nightclub - South Beach</td>\n",
       "      <td>FL</td>\n",
       "    </tr>\n",
       "    <tr>\n",
       "      <th>1</th>\n",
       "      <td>premium</td>\n",
       "      <td>1296720000</td>\n",
       "      <td>3499</td>\n",
       "      <td>0</td>\n",
       "      <td>US</td>\n",
       "      <td>USD</td>\n",
       "      <td>1.0</td>\n",
       "      <td>&lt;p&gt;Join us for a quick, one-night, community-b...</td>\n",
       "      <td>ruf.org</td>\n",
       "      <td>1293832670</td>\n",
       "      <td>...</td>\n",
       "      <td>[{'event_id': 786878, 'cost': 35.0, 'availabil...</td>\n",
       "      <td>149</td>\n",
       "      <td>1280942776</td>\n",
       "      <td>3</td>\n",
       "      <td></td>\n",
       "      <td>US</td>\n",
       "      <td>32.776566</td>\n",
       "      <td>-79.930922</td>\n",
       "      <td>The Charleston, SC area</td>\n",
       "      <td>SC</td>\n",
       "    </tr>\n",
       "    <tr>\n",
       "      <th>2</th>\n",
       "      <td>premium</td>\n",
       "      <td>1296172800</td>\n",
       "      <td>2601</td>\n",
       "      <td>8</td>\n",
       "      <td>US</td>\n",
       "      <td>USD</td>\n",
       "      <td>1.0</td>\n",
       "      <td>&lt;h3&gt;&lt;span class=\"subcategory\"&gt;&lt;strong&gt;Teacher ...</td>\n",
       "      <td>pvsd.k12.ca.us</td>\n",
       "      <td>1291090956</td>\n",
       "      <td>...</td>\n",
       "      <td>[{'event_id': 787337, 'cost': 93.51, 'availabi...</td>\n",
       "      <td>214</td>\n",
       "      <td>1272559388</td>\n",
       "      <td>3</td>\n",
       "      <td>10100 Pioneer Blvd Suite 100</td>\n",
       "      <td>US</td>\n",
       "      <td>33.944201</td>\n",
       "      <td>-118.080419</td>\n",
       "      <td>Los Angeles County Office of Education</td>\n",
       "      <td>CA</td>\n",
       "    </tr>\n",
       "    <tr>\n",
       "      <th>3</th>\n",
       "      <td>premium</td>\n",
       "      <td>1388966400</td>\n",
       "      <td>12347</td>\n",
       "      <td>6</td>\n",
       "      <td>IE</td>\n",
       "      <td>EUR</td>\n",
       "      <td>1.0</td>\n",
       "      <td>&lt;p style=\"margin-bottom: 1.3em; padding-bottom...</td>\n",
       "      <td>irishtabletennis.com</td>\n",
       "      <td>1360681570</td>\n",
       "      <td>...</td>\n",
       "      <td>[{'event_id': 885645, 'cost': 25.0, 'availabil...</td>\n",
       "      <td>889</td>\n",
       "      <td>1283870102</td>\n",
       "      <td>3</td>\n",
       "      <td></td>\n",
       "      <td>None</td>\n",
       "      <td>NaN</td>\n",
       "      <td>NaN</td>\n",
       "      <td>None</td>\n",
       "      <td>None</td>\n",
       "    </tr>\n",
       "    <tr>\n",
       "      <th>4</th>\n",
       "      <td>premium</td>\n",
       "      <td>1297900800</td>\n",
       "      <td>2417</td>\n",
       "      <td>11</td>\n",
       "      <td>US</td>\n",
       "      <td>USD</td>\n",
       "      <td>0.0</td>\n",
       "      <td>&lt;p&gt;Writers and filmmakers need to understand t...</td>\n",
       "      <td>artsandbusinesscouncil.org</td>\n",
       "      <td>1291994666</td>\n",
       "      <td>...</td>\n",
       "      <td>[{'event_id': 1114349, 'cost': 150.0, 'availab...</td>\n",
       "      <td>35</td>\n",
       "      <td>1288984065</td>\n",
       "      <td>3</td>\n",
       "      <td>One Marina Park Drive</td>\n",
       "      <td>US</td>\n",
       "      <td>42.353848</td>\n",
       "      <td>-71.044276</td>\n",
       "      <td>Fish &amp; Richardson</td>\n",
       "      <td>MA</td>\n",
       "    </tr>\n",
       "  </tbody>\n",
       "</table>\n",
       "<p>5 rows × 44 columns</p>\n",
       "</div>"
      ],
      "text/plain": [
       "         acct_type  approx_payout_date  body_length  channels country  \\\n",
       "0  fraudster_event          1266062400         3852         5      US   \n",
       "1          premium          1296720000         3499         0      US   \n",
       "2          premium          1296172800         2601         8      US   \n",
       "3          premium          1388966400        12347         6      IE   \n",
       "4          premium          1297900800         2417        11      US   \n",
       "\n",
       "  currency  delivery_method  \\\n",
       "0      USD              0.0   \n",
       "1      USD              1.0   \n",
       "2      USD              1.0   \n",
       "3      EUR              1.0   \n",
       "4      USD              0.0   \n",
       "\n",
       "                                         description  \\\n",
       "0  <p><a href=\"http://s432.photobucket.com/albums...   \n",
       "1  <p>Join us for a quick, one-night, community-b...   \n",
       "2  <h3><span class=\"subcategory\"><strong>Teacher ...   \n",
       "3  <p style=\"margin-bottom: 1.3em; padding-bottom...   \n",
       "4  <p>Writers and filmmakers need to understand t...   \n",
       "\n",
       "                 email_domain  event_created  ...  \\\n",
       "0                   gmail.com     1262739706  ...   \n",
       "1                     ruf.org     1293832670  ...   \n",
       "2              pvsd.k12.ca.us     1291090956  ...   \n",
       "3        irishtabletennis.com     1360681570  ...   \n",
       "4  artsandbusinesscouncil.org     1291994666  ...   \n",
       "\n",
       "                                        ticket_types  user_age  user_created  \\\n",
       "0  [{'event_id': 527017, 'cost': 25.0, 'availabil...        36    1259613950   \n",
       "1  [{'event_id': 786878, 'cost': 35.0, 'availabil...       149    1280942776   \n",
       "2  [{'event_id': 787337, 'cost': 93.51, 'availabi...       214    1272559388   \n",
       "3  [{'event_id': 885645, 'cost': 25.0, 'availabil...       889    1283870102   \n",
       "4  [{'event_id': 1114349, 'cost': 150.0, 'availab...        35    1288984065   \n",
       "\n",
       "   user_type                 venue_address  venue_country  venue_latitude  \\\n",
       "0          1         717 Washington Avenue             US       25.777471   \n",
       "1          3                                           US       32.776566   \n",
       "2          3  10100 Pioneer Blvd Suite 100             US       33.944201   \n",
       "3          3                                         None             NaN   \n",
       "4          3        One Marina Park Drive              US       42.353848   \n",
       "\n",
       "   venue_longitude                              venue_name venue_state  \n",
       "0       -80.133433             INK Nightclub - South Beach          FL  \n",
       "1       -79.930922                 The Charleston, SC area          SC  \n",
       "2      -118.080419  Los Angeles County Office of Education          CA  \n",
       "3              NaN                                    None        None  \n",
       "4       -71.044276                       Fish & Richardson          MA  \n",
       "\n",
       "[5 rows x 44 columns]"
      ]
     },
     "execution_count": 4,
     "metadata": {},
     "output_type": "execute_result"
    }
   ],
   "source": [
    "df.head()"
   ]
  },
  {
   "cell_type": "code",
   "execution_count": 5,
   "id": "9d435360-4831-4335-83ad-8cd9545b56da",
   "metadata": {},
   "outputs": [
    {
     "name": "stdout",
     "output_type": "stream",
     "text": [
      "<class 'pandas.core.frame.DataFrame'>\n",
      "RangeIndex: 14337 entries, 0 to 14336\n",
      "Data columns (total 44 columns):\n",
      " #   Column              Non-Null Count  Dtype  \n",
      "---  ------              --------------  -----  \n",
      " 0   acct_type           14337 non-null  object \n",
      " 1   approx_payout_date  14337 non-null  int64  \n",
      " 2   body_length         14337 non-null  int64  \n",
      " 3   channels            14337 non-null  int64  \n",
      " 4   country             14256 non-null  object \n",
      " 5   currency            14337 non-null  object \n",
      " 6   delivery_method     14321 non-null  float64\n",
      " 7   description         14337 non-null  object \n",
      " 8   email_domain        14337 non-null  object \n",
      " 9   event_created       14337 non-null  int64  \n",
      " 10  event_end           14337 non-null  int64  \n",
      " 11  event_published     14238 non-null  float64\n",
      " 12  event_start         14337 non-null  int64  \n",
      " 13  fb_published        14337 non-null  int64  \n",
      " 14  gts                 14337 non-null  float64\n",
      " 15  has_analytics       14337 non-null  int64  \n",
      " 16  has_header          8928 non-null   float64\n",
      " 17  has_logo            14337 non-null  int64  \n",
      " 18  listed              14337 non-null  object \n",
      " 19  name                14337 non-null  object \n",
      " 20  name_length         14337 non-null  int64  \n",
      " 21  num_order           14337 non-null  int64  \n",
      " 22  num_payouts         14337 non-null  int64  \n",
      " 23  object_id           14337 non-null  int64  \n",
      " 24  org_desc            14337 non-null  object \n",
      " 25  org_facebook        14278 non-null  float64\n",
      " 26  org_name            14337 non-null  object \n",
      " 27  org_twitter         14278 non-null  float64\n",
      " 28  payee_name          14337 non-null  object \n",
      " 29  payout_type         14337 non-null  object \n",
      " 30  previous_payouts    14337 non-null  object \n",
      " 31  sale_duration       14182 non-null  float64\n",
      " 32  sale_duration2      14337 non-null  int64  \n",
      " 33  show_map            14337 non-null  int64  \n",
      " 34  ticket_types        14337 non-null  object \n",
      " 35  user_age            14337 non-null  int64  \n",
      " 36  user_created        14337 non-null  int64  \n",
      " 37  user_type           14337 non-null  int64  \n",
      " 38  venue_address       14337 non-null  object \n",
      " 39  venue_country       13261 non-null  object \n",
      " 40  venue_latitude      13261 non-null  float64\n",
      " 41  venue_longitude     13261 non-null  float64\n",
      " 42  venue_name          13261 non-null  object \n",
      " 43  venue_state         13261 non-null  object \n",
      "dtypes: float64(9), int64(18), object(17)\n",
      "memory usage: 4.8+ MB\n"
     ]
    }
   ],
   "source": [
    "df.info()"
   ]
  },
  {
   "cell_type": "code",
   "execution_count": 6,
   "id": "d83a0e7f-0569-4aa2-b388-14907919aad6",
   "metadata": {},
   "outputs": [
    {
     "data": {
      "text/html": [
       "<div>\n",
       "<style scoped>\n",
       "    .dataframe tbody tr th:only-of-type {\n",
       "        vertical-align: middle;\n",
       "    }\n",
       "\n",
       "    .dataframe tbody tr th {\n",
       "        vertical-align: top;\n",
       "    }\n",
       "\n",
       "    .dataframe thead th {\n",
       "        text-align: right;\n",
       "    }\n",
       "</style>\n",
       "<table border=\"1\" class=\"dataframe\">\n",
       "  <thead>\n",
       "    <tr style=\"text-align: right;\">\n",
       "      <th></th>\n",
       "      <th>approx_payout_date</th>\n",
       "      <th>body_length</th>\n",
       "      <th>channels</th>\n",
       "      <th>delivery_method</th>\n",
       "      <th>event_created</th>\n",
       "      <th>event_end</th>\n",
       "      <th>event_published</th>\n",
       "      <th>event_start</th>\n",
       "      <th>fb_published</th>\n",
       "      <th>gts</th>\n",
       "      <th>...</th>\n",
       "      <th>org_facebook</th>\n",
       "      <th>org_twitter</th>\n",
       "      <th>sale_duration</th>\n",
       "      <th>sale_duration2</th>\n",
       "      <th>show_map</th>\n",
       "      <th>user_age</th>\n",
       "      <th>user_created</th>\n",
       "      <th>user_type</th>\n",
       "      <th>venue_latitude</th>\n",
       "      <th>venue_longitude</th>\n",
       "    </tr>\n",
       "  </thead>\n",
       "  <tbody>\n",
       "    <tr>\n",
       "      <th>count</th>\n",
       "      <td>1.433700e+04</td>\n",
       "      <td>14337.000000</td>\n",
       "      <td>14337.000000</td>\n",
       "      <td>14321.000000</td>\n",
       "      <td>1.433700e+04</td>\n",
       "      <td>1.433700e+04</td>\n",
       "      <td>1.423800e+04</td>\n",
       "      <td>1.433700e+04</td>\n",
       "      <td>14337.000000</td>\n",
       "      <td>14337.000000</td>\n",
       "      <td>...</td>\n",
       "      <td>14278.000000</td>\n",
       "      <td>14278.000000</td>\n",
       "      <td>14182.000000</td>\n",
       "      <td>14337.000000</td>\n",
       "      <td>14337.000000</td>\n",
       "      <td>14337.000000</td>\n",
       "      <td>1.433700e+04</td>\n",
       "      <td>14337.000000</td>\n",
       "      <td>13261.000000</td>\n",
       "      <td>13261.000000</td>\n",
       "    </tr>\n",
       "    <tr>\n",
       "      <th>mean</th>\n",
       "      <td>1.350933e+09</td>\n",
       "      <td>3672.521936</td>\n",
       "      <td>6.176676</td>\n",
       "      <td>0.439564</td>\n",
       "      <td>1.345825e+09</td>\n",
       "      <td>1.350501e+09</td>\n",
       "      <td>1.340854e+09</td>\n",
       "      <td>1.350205e+09</td>\n",
       "      <td>0.127433</td>\n",
       "      <td>2430.231492</td>\n",
       "      <td>...</td>\n",
       "      <td>7.974436</td>\n",
       "      <td>4.306976</td>\n",
       "      <td>46.869694</td>\n",
       "      <td>50.576759</td>\n",
       "      <td>0.844179</td>\n",
       "      <td>374.226547</td>\n",
       "      <td>1.313492e+09</td>\n",
       "      <td>2.711097</td>\n",
       "      <td>35.221736</td>\n",
       "      <td>-59.490368</td>\n",
       "    </tr>\n",
       "    <tr>\n",
       "      <th>std</th>\n",
       "      <td>2.401300e+07</td>\n",
       "      <td>5758.113003</td>\n",
       "      <td>3.860333</td>\n",
       "      <td>0.591487</td>\n",
       "      <td>2.404107e+07</td>\n",
       "      <td>2.401299e+07</td>\n",
       "      <td>8.750386e+07</td>\n",
       "      <td>2.398787e+07</td>\n",
       "      <td>0.333468</td>\n",
       "      <td>9142.308260</td>\n",
       "      <td>...</td>\n",
       "      <td>11.761241</td>\n",
       "      <td>6.011520</td>\n",
       "      <td>54.825253</td>\n",
       "      <td>59.678090</td>\n",
       "      <td>0.362698</td>\n",
       "      <td>418.593616</td>\n",
       "      <td>4.152174e+07</td>\n",
       "      <td>1.606726</td>\n",
       "      <td>20.207588</td>\n",
       "      <td>66.569034</td>\n",
       "    </tr>\n",
       "    <tr>\n",
       "      <th>min</th>\n",
       "      <td>1.171256e+09</td>\n",
       "      <td>0.000000</td>\n",
       "      <td>0.000000</td>\n",
       "      <td>0.000000</td>\n",
       "      <td>1.170332e+09</td>\n",
       "      <td>1.170824e+09</td>\n",
       "      <td>0.000000e+00</td>\n",
       "      <td>1.170819e+09</td>\n",
       "      <td>0.000000</td>\n",
       "      <td>0.000000</td>\n",
       "      <td>...</td>\n",
       "      <td>0.000000</td>\n",
       "      <td>0.000000</td>\n",
       "      <td>-1094.000000</td>\n",
       "      <td>-1094.000000</td>\n",
       "      <td>0.000000</td>\n",
       "      <td>0.000000</td>\n",
       "      <td>1.011210e+09</td>\n",
       "      <td>1.000000</td>\n",
       "      <td>-45.045208</td>\n",
       "      <td>-159.390183</td>\n",
       "    </tr>\n",
       "    <tr>\n",
       "      <th>25%</th>\n",
       "      <td>1.334221e+09</td>\n",
       "      <td>750.000000</td>\n",
       "      <td>5.000000</td>\n",
       "      <td>0.000000</td>\n",
       "      <td>1.329754e+09</td>\n",
       "      <td>1.333789e+09</td>\n",
       "      <td>1.329499e+09</td>\n",
       "      <td>1.333406e+09</td>\n",
       "      <td>0.000000</td>\n",
       "      <td>116.410000</td>\n",
       "      <td>...</td>\n",
       "      <td>0.000000</td>\n",
       "      <td>0.000000</td>\n",
       "      <td>16.000000</td>\n",
       "      <td>17.000000</td>\n",
       "      <td>1.000000</td>\n",
       "      <td>13.000000</td>\n",
       "      <td>1.286824e+09</td>\n",
       "      <td>1.000000</td>\n",
       "      <td>33.959338</td>\n",
       "      <td>-96.957828</td>\n",
       "    </tr>\n",
       "    <tr>\n",
       "      <th>50%</th>\n",
       "      <td>1.355805e+09</td>\n",
       "      <td>1990.000000</td>\n",
       "      <td>6.000000</td>\n",
       "      <td>0.000000</td>\n",
       "      <td>1.351043e+09</td>\n",
       "      <td>1.355373e+09</td>\n",
       "      <td>1.351099e+09</td>\n",
       "      <td>1.355000e+09</td>\n",
       "      <td>0.000000</td>\n",
       "      <td>431.930000</td>\n",
       "      <td>...</td>\n",
       "      <td>0.000000</td>\n",
       "      <td>0.000000</td>\n",
       "      <td>32.000000</td>\n",
       "      <td>35.000000</td>\n",
       "      <td>1.000000</td>\n",
       "      <td>242.000000</td>\n",
       "      <td>1.316636e+09</td>\n",
       "      <td>3.000000</td>\n",
       "      <td>39.974104</td>\n",
       "      <td>-79.425579</td>\n",
       "    </tr>\n",
       "    <tr>\n",
       "      <th>75%</th>\n",
       "      <td>1.370646e+09</td>\n",
       "      <td>4280.000000</td>\n",
       "      <td>8.000000</td>\n",
       "      <td>1.000000</td>\n",
       "      <td>1.365346e+09</td>\n",
       "      <td>1.370214e+09</td>\n",
       "      <td>1.365478e+09</td>\n",
       "      <td>1.370048e+09</td>\n",
       "      <td>0.000000</td>\n",
       "      <td>1547.260000</td>\n",
       "      <td>...</td>\n",
       "      <td>14.000000</td>\n",
       "      <td>11.000000</td>\n",
       "      <td>59.000000</td>\n",
       "      <td>63.000000</td>\n",
       "      <td>1.000000</td>\n",
       "      <td>603.000000</td>\n",
       "      <td>1.346790e+09</td>\n",
       "      <td>3.000000</td>\n",
       "      <td>44.857040</td>\n",
       "      <td>-3.187449</td>\n",
       "    </tr>\n",
       "    <tr>\n",
       "      <th>max</th>\n",
       "      <td>1.523488e+09</td>\n",
       "      <td>65535.000000</td>\n",
       "      <td>13.000000</td>\n",
       "      <td>3.000000</td>\n",
       "      <td>1.382012e+09</td>\n",
       "      <td>1.523056e+09</td>\n",
       "      <td>1.381608e+09</td>\n",
       "      <td>1.418850e+09</td>\n",
       "      <td>1.000000</td>\n",
       "      <td>306293.930000</td>\n",
       "      <td>...</td>\n",
       "      <td>91.000000</td>\n",
       "      <td>34.000000</td>\n",
       "      <td>980.000000</td>\n",
       "      <td>980.000000</td>\n",
       "      <td>1.000000</td>\n",
       "      <td>3794.000000</td>\n",
       "      <td>1.381543e+09</td>\n",
       "      <td>103.000000</td>\n",
       "      <td>64.844022</td>\n",
       "      <td>176.169492</td>\n",
       "    </tr>\n",
       "  </tbody>\n",
       "</table>\n",
       "<p>8 rows × 27 columns</p>\n",
       "</div>"
      ],
      "text/plain": [
       "       approx_payout_date   body_length      channels  delivery_method  \\\n",
       "count        1.433700e+04  14337.000000  14337.000000     14321.000000   \n",
       "mean         1.350933e+09   3672.521936      6.176676         0.439564   \n",
       "std          2.401300e+07   5758.113003      3.860333         0.591487   \n",
       "min          1.171256e+09      0.000000      0.000000         0.000000   \n",
       "25%          1.334221e+09    750.000000      5.000000         0.000000   \n",
       "50%          1.355805e+09   1990.000000      6.000000         0.000000   \n",
       "75%          1.370646e+09   4280.000000      8.000000         1.000000   \n",
       "max          1.523488e+09  65535.000000     13.000000         3.000000   \n",
       "\n",
       "       event_created     event_end  event_published   event_start  \\\n",
       "count   1.433700e+04  1.433700e+04     1.423800e+04  1.433700e+04   \n",
       "mean    1.345825e+09  1.350501e+09     1.340854e+09  1.350205e+09   \n",
       "std     2.404107e+07  2.401299e+07     8.750386e+07  2.398787e+07   \n",
       "min     1.170332e+09  1.170824e+09     0.000000e+00  1.170819e+09   \n",
       "25%     1.329754e+09  1.333789e+09     1.329499e+09  1.333406e+09   \n",
       "50%     1.351043e+09  1.355373e+09     1.351099e+09  1.355000e+09   \n",
       "75%     1.365346e+09  1.370214e+09     1.365478e+09  1.370048e+09   \n",
       "max     1.382012e+09  1.523056e+09     1.381608e+09  1.418850e+09   \n",
       "\n",
       "       fb_published            gts  ...  org_facebook   org_twitter  \\\n",
       "count  14337.000000   14337.000000  ...  14278.000000  14278.000000   \n",
       "mean       0.127433    2430.231492  ...      7.974436      4.306976   \n",
       "std        0.333468    9142.308260  ...     11.761241      6.011520   \n",
       "min        0.000000       0.000000  ...      0.000000      0.000000   \n",
       "25%        0.000000     116.410000  ...      0.000000      0.000000   \n",
       "50%        0.000000     431.930000  ...      0.000000      0.000000   \n",
       "75%        0.000000    1547.260000  ...     14.000000     11.000000   \n",
       "max        1.000000  306293.930000  ...     91.000000     34.000000   \n",
       "\n",
       "       sale_duration  sale_duration2      show_map      user_age  \\\n",
       "count   14182.000000    14337.000000  14337.000000  14337.000000   \n",
       "mean       46.869694       50.576759      0.844179    374.226547   \n",
       "std        54.825253       59.678090      0.362698    418.593616   \n",
       "min     -1094.000000    -1094.000000      0.000000      0.000000   \n",
       "25%        16.000000       17.000000      1.000000     13.000000   \n",
       "50%        32.000000       35.000000      1.000000    242.000000   \n",
       "75%        59.000000       63.000000      1.000000    603.000000   \n",
       "max       980.000000      980.000000      1.000000   3794.000000   \n",
       "\n",
       "       user_created     user_type  venue_latitude  venue_longitude  \n",
       "count  1.433700e+04  14337.000000    13261.000000     13261.000000  \n",
       "mean   1.313492e+09      2.711097       35.221736       -59.490368  \n",
       "std    4.152174e+07      1.606726       20.207588        66.569034  \n",
       "min    1.011210e+09      1.000000      -45.045208      -159.390183  \n",
       "25%    1.286824e+09      1.000000       33.959338       -96.957828  \n",
       "50%    1.316636e+09      3.000000       39.974104       -79.425579  \n",
       "75%    1.346790e+09      3.000000       44.857040        -3.187449  \n",
       "max    1.381543e+09    103.000000       64.844022       176.169492  \n",
       "\n",
       "[8 rows x 27 columns]"
      ]
     },
     "execution_count": 6,
     "metadata": {},
     "output_type": "execute_result"
    }
   ],
   "source": [
    "df.describe()"
   ]
  },
  {
   "cell_type": "code",
   "execution_count": 7,
   "id": "5356c0e3-06ee-4080-adfb-9617fa03c756",
   "metadata": {},
   "outputs": [
    {
     "data": {
      "text/plain": [
       "'<p><em>WHEN JEKYLL MET HYDE</em></p>\\r\\n<p>The Magnetic Theatre in The Magnetic Field proudly presents the world\\xa0premiere of <em>When Jekyll Met Hyde,</em> \"a gleefully ridiculous take on the classic tale of passion,\" written and\\xa0directed by Magnetic Theatre Artistic Director Steven Samuels.</p>\\r\\n<p>Drawing on every written, dramatized, and filmed version of the Robert Louis Stevenson classic\\xa0imaginable, and relevant 19th century literary and philosophical classics, <em>When Jekyll Met Hyde</em> features an\\xa0unusual feminist twist and a surprise ending. To double the fun, and to honor the split personality at the heart of\\xa0the story, The Magnetic Theatre is mounting two different productions simultaneously, one set in the 1950s, the\\xa0other in the 1960s, with two different casts, in alternating repertory! \\xa0</p>\\r\\n<p>For a full description go to\\xa0<a href=\"http://www.themagneticfield.com/when-jekyll-met-hyde\">http://www.themagneticfield.com/when-jekyll-met-hyde</a>\\xa0</p>'"
      ]
     },
     "execution_count": 7,
     "metadata": {},
     "output_type": "execute_result"
    }
   ],
   "source": [
    "df.description[7]"
   ]
  },
  {
   "cell_type": "code",
   "execution_count": 8,
   "id": "adc1deab-47bc-4132-85ec-ab99c8054c95",
   "metadata": {},
   "outputs": [
    {
     "data": {
      "text/plain": [
       "premium             0.863012\n",
       "fraudster_event     0.059357\n",
       "fraudster           0.030481\n",
       "spammer_limited     0.015205\n",
       "spammer_warn        0.010044\n",
       "tos_warn            0.006347\n",
       "spammer_noinvite    0.005859\n",
       "tos_lock            0.005371\n",
       "locked              0.003766\n",
       "fraudster_att       0.000349\n",
       "spammer_web         0.000139\n",
       "spammer             0.000070\n",
       "Name: acct_type, dtype: float64"
      ]
     },
     "execution_count": 8,
     "metadata": {},
     "output_type": "execute_result"
    }
   ],
   "source": [
    "df.acct_type.value_counts(normalize=True)"
   ]
  },
  {
   "cell_type": "code",
   "execution_count": 9,
   "id": "e599611d-a8ae-4bde-9baf-a8d27aa13a34",
   "metadata": {},
   "outputs": [],
   "source": [
    "# Creating a fraud target for classification based on string in acct_type (per assignment)\n",
    "df['fraud'] = df.acct_type.str.contains('fraud')"
   ]
  },
  {
   "cell_type": "code",
   "execution_count": 10,
   "id": "f844af3d-c103-4c51-aa05-54aa22c2baea",
   "metadata": {},
   "outputs": [
    {
     "data": {
      "text/plain": [
       "False    0.909814\n",
       "True     0.090186\n",
       "Name: fraud, dtype: float64"
      ]
     },
     "execution_count": 10,
     "metadata": {},
     "output_type": "execute_result"
    }
   ],
   "source": [
    "# Imbalanced classes... 91 / 9 \n",
    "df.fraud.value_counts(normalize=True)"
   ]
  },
  {
   "cell_type": "code",
   "execution_count": 11,
   "id": "5d41c4f8-2bdb-47e9-b9a2-5b61f81d1b85",
   "metadata": {},
   "outputs": [
    {
     "data": {
      "text/plain": [
       "False    13044\n",
       "True      1293\n",
       "Name: fraud, dtype: int64"
      ]
     },
     "execution_count": 11,
     "metadata": {},
     "output_type": "execute_result"
    }
   ],
   "source": [
    "df.fraud.value_counts()"
   ]
  },
  {
   "cell_type": "code",
   "execution_count": 12,
   "id": "0e8762c6-8d76-4a76-99a4-3bb47caf66b3",
   "metadata": {},
   "outputs": [
    {
     "name": "stderr",
     "output_type": "stream",
     "text": [
      "<string>:6: RuntimeWarning: Converting input from bool to <class 'numpy.uint8'> for compatibility.\n"
     ]
    },
    {
     "data": {
      "text/plain": [
       "''"
      ]
     },
     "execution_count": 12,
     "metadata": {},
     "output_type": "execute_result"
    },
    {
     "data": {
      "image/png": "[encoded data removed]",
      "text/plain": [
       "<Figure size 360x360 with 1 Axes>"
      ]
     },
     "metadata": {
      "needs_background": "light"
     },
     "output_type": "display_data"
    }
   ],
   "source": [
    "# Plot ratio of classes in the dataset\n",
    "\n",
    "fig, ax = plt.subplots(figsize=(5, 5))\n",
    "sns.histplot(x='fraud', data=df, hue='fraud', palette={False: 'g', True: 'r'}, ax=ax, binwidth=.4, alpha=.6)\n",
    "ax.set(xticks=(0,1), xticklabels=(['False', 'True']), ylabel=None, xlabel='Fraud Status', title='Imbalanced Classes')\n",
    "plt.legend([],[], frameon=False)\n",
    "sns.set_style('whitegrid')\n",
    ";"
   ]
  },
  {
   "cell_type": "code",
   "execution_count": 16,
   "id": "27518307-e9e3-4860-a108-71ebd2d13153",
   "metadata": {},
   "outputs": [
    {
     "data": {
      "text/plain": [
       "[{'event_id': 786878,\n",
       "  'cost': 35.0,\n",
       "  'availability': 1,\n",
       "  'quantity_total': 50,\n",
       "  'quantity_sold': 22},\n",
       " {'event_id': 786878,\n",
       "  'cost': 35.0,\n",
       "  'availability': 1,\n",
       "  'quantity_total': 50,\n",
       "  'quantity_sold': 3}]"
      ]
     },
     "execution_count": 16,
     "metadata": {},
     "output_type": "execute_result"
    }
   ],
   "source": [
    "df.ticket_types[1]\n",
    "# nested dict in this and one other column"
   ]
  },
  {
   "cell_type": "code",
   "execution_count": 17,
   "id": "be73a99e-999d-471e-992d-d835eab66c0b",
   "metadata": {},
   "outputs": [
    {
     "data": {
      "text/plain": [
       "acct_type\n",
       "fraudster             437\n",
       "fraudster_att           5\n",
       "fraudster_event       851\n",
       "locked                 54\n",
       "premium             12373\n",
       "spammer                 1\n",
       "spammer_limited       218\n",
       "spammer_noinvite       84\n",
       "spammer_warn          144\n",
       "spammer_web             2\n",
       "tos_lock               77\n",
       "tos_warn               91\n",
       "Name: fraud, dtype: int64"
      ]
     },
     "execution_count": 17,
     "metadata": {},
     "output_type": "execute_result"
    }
   ],
   "source": [
    "# Counts of different types of accounts\n",
    "acct_df = df.groupby(['acct_type']).count()\n",
    "acct_df['fraud']\n"
   ]
  },
  {
   "cell_type": "code",
   "execution_count": 18,
   "id": "ff8ee3a9-b956-4d3c-8669-57ffa2945539",
   "metadata": {},
   "outputs": [
    {
     "data": {
      "image/png": "[encoded data removed]",
      "text/plain": [
       "<Figure size 576x360 with 1 Axes>"
      ]
     },
     "metadata": {},
     "output_type": "display_data"
    }
   ],
   "source": [
    "# Plot events included in the dataset\n",
    "\n",
    "fig, ax = plt.subplots(figsize=(8, 5))\n",
    "sns.histplot(data=df, hue=df.fraud, ax=ax, stat='count', \n",
    "             palette={True:'r', False:'g'}, y='acct_type', \n",
    "            legend=True, alpha=.6)\n",
    "ax.tick_params(axis='x', rotation=45)\n",
    "ax.set_title('Events Included in Dataset')\n",
    "sns.set_style('whitegrid')"
   ]
  },
  {
   "cell_type": "code",
   "execution_count": 19,
   "id": "9af9f216-45db-404e-9c96-f2a83c632270",
   "metadata": {},
   "outputs": [
    {
     "data": {
      "image/png": "[encoded data removed]",
      "text/plain": [
       "<Figure size 864x360 with 1 Axes>"
      ]
     },
     "metadata": {},
     "output_type": "display_data"
    }
   ],
   "source": [
    "# Histogram of Body Length Feature\n",
    "\n",
    "fig, ax = plt.subplots(figsize=(12, 5))\n",
    "sns.histplot(x=df.body_length, hue=df.fraud, palette={True:'r', False:'g'}, alpha=.6, multiple='layer')\n",
    "ax.tick_params(axis='x', rotation=45)\n",
    "ax.set_title('Body Length Feature')\n",
    "sns.set_style('whitegrid')"
   ]
  },
  {
   "cell_type": "code",
   "execution_count": 20,
   "id": "152ff732-5ec1-41fc-b7af-f99786ddce86",
   "metadata": {},
   "outputs": [
    {
     "data": {
      "image/png": "[encoded data removed]",
      "text/plain": [
       "<Figure size 864x360 with 1 Axes>"
      ]
     },
     "metadata": {},
     "output_type": "display_data"
    }
   ],
   "source": [
    "# Histogram for Channels Feature\n",
    "\n",
    "fig, ax = plt.subplots(figsize=(12, 5))\n",
    "sns.histplot(data=df, x='channels', hue='fraud', palette={True:'r', False:'g'}, multiple='stack', binwidth=.4, alpha=.6)\n",
    "ax.tick_params(axis='x', rotation=45)\n",
    "ax.set_title('Channels Feature')\n",
    "sns.set_style('whitegrid')"
   ]
  },
  {
   "cell_type": "code",
   "execution_count": 21,
   "id": "054f2155-ff6f-40b3-87db-649b33664591",
   "metadata": {},
   "outputs": [
    {
     "data": {
      "text/plain": [
       "array([ 5,  0,  8,  6, 11, 12,  4, 10, 13,  9,  7])"
      ]
     },
     "execution_count": 21,
     "metadata": {},
     "output_type": "execute_result"
    }
   ],
   "source": [
    "df.channels.unique()"
   ]
  },
  {
   "cell_type": "code",
   "execution_count": 22,
   "id": "0c25e5c7-49ec-427e-aecf-1ccb5da0bc95",
   "metadata": {},
   "outputs": [],
   "source": [
    "# Replace NaNs with Unknown for country so we can still use the rest of the data\n",
    "\n",
    "df.country.replace({np.nan: 'Unknown', '': 'Unknown'}, inplace=True)"
   ]
  },
  {
   "cell_type": "code",
   "execution_count": 23,
   "id": "a143c5a8-72f1-4a9f-8df7-71afa284f2d7",
   "metadata": {},
   "outputs": [
    {
     "data": {
      "text/plain": [
       "72"
      ]
     },
     "execution_count": 23,
     "metadata": {},
     "output_type": "execute_result"
    }
   ],
   "source": [
    "len(df.country.unique())"
   ]
  },
  {
   "cell_type": "code",
   "execution_count": 24,
   "id": "a049d1a0-3efd-4736-9776-c9658eab1bbf",
   "metadata": {},
   "outputs": [
    {
     "data": {
      "image/png": "[encoded data removed]",
      "text/plain": [
       "<Figure size 864x360 with 1 Axes>"
      ]
     },
     "metadata": {},
     "output_type": "display_data"
    }
   ],
   "source": [
    "# Histogram of all countries\n",
    "\n",
    "fig, ax = plt.subplots(figsize=(12, 5))\n",
    "sns.countplot(x=df.country, alpha=.6)\n",
    "ax.set_title('Countries Represented in the Data')\n",
    "ax.tick_params(axis='x', rotation=45)\n",
    "sns.set_style('whitegrid')"
   ]
  },
  {
   "cell_type": "code",
   "execution_count": 25,
   "id": "fb7c07e7-8223-4bac-a0e3-3564010b6451",
   "metadata": {},
   "outputs": [
    {
     "data": {
      "image/png": "[encoded data removed]",
      "text/plain": [
       "<Figure size 864x360 with 1 Axes>"
      ]
     },
     "metadata": {},
     "output_type": "display_data"
    }
   ],
   "source": [
    "# Histogram of top 5 countries\n",
    "\n",
    "fig, ax = plt.subplots(figsize=(12, 5))\n",
    "sns.countplot(x=df.country, hue=df.fraud, palette={True:'r', False:'g'}, order=df.country.value_counts().iloc[:5].index, alpha=.6)\n",
    "ax.tick_params(axis='x', rotation=45)\n",
    "ax.set_title('Fraud Events in Top 5 Countries Represented')\n",
    "sns.set_style('whitegrid')"
   ]
  },
  {
   "cell_type": "code",
   "execution_count": 26,
   "id": "5af7561c-f1ea-4125-9fc7-944b1ab34cdb",
   "metadata": {},
   "outputs": [
    {
     "data": {
      "text/plain": [
       "US         9234\n",
       "GB         2083\n",
       "CA         1262\n",
       "AU          742\n",
       "Unknown     397\n",
       "NZ           73\n",
       "IE           48\n",
       "MA           47\n",
       "DE           43\n",
       "FR           40\n",
       "Name: country, dtype: int64"
      ]
     },
     "execution_count": 26,
     "metadata": {},
     "output_type": "execute_result"
    }
   ],
   "source": [
    "df.country.value_counts()[:10]"
   ]
  },
  {
   "cell_type": "code",
   "execution_count": 27,
   "id": "9607050d-96db-46dc-9e3f-1a82ae1bfa2a",
   "metadata": {},
   "outputs": [
    {
     "data": {
      "text/plain": [
       "False    357\n",
       "True      40\n",
       "Name: fraud, dtype: int64"
      ]
     },
     "execution_count": 27,
     "metadata": {},
     "output_type": "execute_result"
    }
   ],
   "source": [
    "country_df_5 = df[df['country'].str.contains('US|GB|CA|AU|Unknown')]\n",
    "country_df_5[country_df_5['country']=='Unknown'].fraud.value_counts()"
   ]
  },
  {
   "cell_type": "code",
   "execution_count": 28,
   "id": "6456461d-fcb7-4baa-8992-2ce651f98413",
   "metadata": {},
   "outputs": [
    {
     "data": {
      "image/png": "[encoded data removed]",
      "text/plain": [
       "<Figure size 864x360 with 1 Axes>"
      ]
     },
     "metadata": {},
     "output_type": "display_data"
    }
   ],
   "source": [
    "# Top 5 countries\n",
    "\n",
    "fig, ax = plt.subplots(figsize=(12, 5))\n",
    "sns.histplot(data=country_df_5, x='country', hue='fraud', palette={True:'r', False:'g'}, multiple='stack', alpha=.6)\n",
    "ax.tick_params(axis='x', rotation=45)\n",
    "ax.set_title('Top 5 Event Countries')\n",
    "sns.set_style('whitegrid')"
   ]
  },
  {
   "cell_type": "code",
   "execution_count": 30,
   "id": "d030f18b-d72d-4ca8-bee8-82446b73a32c",
   "metadata": {},
   "outputs": [
    {
     "data": {
      "text/plain": [
       "US         9234\n",
       "GB         2083\n",
       "CA         1262\n",
       "AU          742\n",
       "Unknown     397\n",
       "Name: country, dtype: int64"
      ]
     },
     "execution_count": 30,
     "metadata": {},
     "output_type": "execute_result"
    }
   ],
   "source": [
    "df.country.value_counts()[:5]"
   ]
  },
  {
   "cell_type": "code",
   "execution_count": 31,
   "id": "01680874-7cbb-46f1-8035-63d3add9d5e9",
   "metadata": {},
   "outputs": [
    {
     "data": {
      "image/png": "[encoded data removed]",
      "text/plain": [
       "<Figure size 864x360 with 1 Axes>"
      ]
     },
     "metadata": {},
     "output_type": "display_data"
    }
   ],
   "source": [
    "# Histogram of Currency Feature\n",
    "\n",
    "fig, ax = plt.subplots(figsize=(12, 5))\n",
    "sns.histplot(x=df.currency, hue=df.fraud, palette={True:'r', False:'g'}, multiple='stack', alpha=0.6)\n",
    "ax.tick_params(axis='x', rotation=45)\n",
    "ax.set_title('Currency Feature')\n",
    "sns.set_style('whitegrid')"
   ]
  },
  {
   "cell_type": "code",
   "execution_count": 32,
   "id": "ff8cb14d-5509-4f43-9927-14d30a308123",
   "metadata": {},
   "outputs": [],
   "source": [
    "# Curious about the 'name' feature\n",
    "\n",
    "name_list = df.name.to_list()"
   ]
  },
  {
   "cell_type": "code",
   "execution_count": 33,
   "id": "9cefc70e-49e5-490c-9679-bcf2f2266a84",
   "metadata": {},
   "outputs": [
    {
     "data": {
      "text/plain": [
       "['99 HOUR \"NO SLEEP\" SUPER BOWL CELEBRITY WEEKEND GRAND FINALE',\n",
       " 'Winthrop RUF Winter Getaway',\n",
       " 'DRDP (2010) Teacher Training',\n",
       " 'ITTA Affiliation 2013',\n",
       " 'Self Defense for Writers and Filmmakers: For Artists and Attorneys',\n",
       " 'Bluegrass Stallions vs Rochester Razorsharks',\n",
       " 'Fridays at Four Frederick 2011-02-11',\n",
       " 'When Jekyll Met Hyde (1960s)',\n",
       " 'A Sweetheart Affair',\n",
       " 'When Jekyll Met Hyde (1950s)',\n",
       " 'Understanding and Supporting Families with Domestic Violence Issues',\n",
       " 'Wild Seafood: San Francisco Fishing Tour Feb 13',\n",
       " 'LinkedIn Profiles Plus (BAC) – Ft. Worth, TX, April 12, 2011',\n",
       " 'CSPA Presenting Guy Kawasaki Enchantment - The Art of Changing Hearts, Minds and Actions',\n",
       " 'Simply Stylist Seminar',\n",
       " 'Race to Nowhere, Candlewood Middle School, Dix Hills, NY',\n",
       " 'Race to Nowhere, Endicott College, hosted by ConSone Academy',\n",
       " 'Martin England & the Recontructed Benefit Show',\n",
       " 'IPCybercrime Boot Camp - Vancouver 2011',\n",
       " 'Mélange Fashion Show 2011']"
      ]
     },
     "execution_count": 33,
     "metadata": {},
     "output_type": "execute_result"
    }
   ],
   "source": [
    "name_list[:20]"
   ]
  },
  {
   "cell_type": "code",
   "execution_count": 34,
   "id": "71d58269-ee40-4ac0-962a-25bb6f22b3f8",
   "metadata": {},
   "outputs": [
    {
     "data": {
      "text/plain": [
       "0        60\n",
       "1        27\n",
       "2        28\n",
       "3        21\n",
       "4        66\n",
       "         ..\n",
       "14332    27\n",
       "14333    42\n",
       "14334    67\n",
       "14335    54\n",
       "14336    11\n",
       "Name: name_length, Length: 14337, dtype: int64"
      ]
     },
     "execution_count": 34,
     "metadata": {},
     "output_type": "execute_result"
    }
   ],
   "source": [
    "df.name_length"
   ]
  },
  {
   "cell_type": "code",
   "execution_count": 35,
   "id": "efe51cb9-c291-4986-a058-5e055afbc430",
   "metadata": {},
   "outputs": [
    {
     "data": {
      "image/png": "[encoded data removed]",
      "text/plain": [
       "<Figure size 864x360 with 1 Axes>"
      ]
     },
     "metadata": {},
     "output_type": "display_data"
    }
   ],
   "source": [
    "fig, ax = plt.subplots(figsize=(12, 5))\n",
    "sns.histplot(data=country_df_5, x='name_length', hue='fraud', palette={True:'r', False:'g'}, multiple='stack', alpha=.6)\n",
    "ax.tick_params(axis='x', rotation=45)\n",
    "ax.set_title('Name Length Feature')\n",
    "sns.set_style('whitegrid')"
   ]
  },
  {
   "cell_type": "code",
   "execution_count": 36,
   "id": "2961ddb3-fa3d-4a8c-941f-2ae665d58689",
   "metadata": {},
   "outputs": [],
   "source": [
    "corr = df.corr()"
   ]
  },
  {
   "cell_type": "code",
   "execution_count": 37,
   "id": "56880554-d379-447b-9cbb-a3403859ca34",
   "metadata": {},
   "outputs": [
    {
     "data": {
      "text/html": [
       "<div>\n",
       "<style scoped>\n",
       "    .dataframe tbody tr th:only-of-type {\n",
       "        vertical-align: middle;\n",
       "    }\n",
       "\n",
       "    .dataframe tbody tr th {\n",
       "        vertical-align: top;\n",
       "    }\n",
       "\n",
       "    .dataframe thead th {\n",
       "        text-align: right;\n",
       "    }\n",
       "</style>\n",
       "<table border=\"1\" class=\"dataframe\">\n",
       "  <thead>\n",
       "    <tr style=\"text-align: right;\">\n",
       "      <th></th>\n",
       "      <th>approx_payout_date</th>\n",
       "      <th>body_length</th>\n",
       "      <th>channels</th>\n",
       "      <th>delivery_method</th>\n",
       "      <th>event_created</th>\n",
       "      <th>event_end</th>\n",
       "      <th>event_published</th>\n",
       "      <th>event_start</th>\n",
       "      <th>fb_published</th>\n",
       "      <th>gts</th>\n",
       "      <th>...</th>\n",
       "      <th>org_twitter</th>\n",
       "      <th>sale_duration</th>\n",
       "      <th>sale_duration2</th>\n",
       "      <th>show_map</th>\n",
       "      <th>user_age</th>\n",
       "      <th>user_created</th>\n",
       "      <th>user_type</th>\n",
       "      <th>venue_latitude</th>\n",
       "      <th>venue_longitude</th>\n",
       "      <th>fraud</th>\n",
       "    </tr>\n",
       "  </thead>\n",
       "  <tbody>\n",
       "    <tr>\n",
       "      <th>approx_payout_date</th>\n",
       "      <td>1.000000</td>\n",
       "      <td>0.012119</td>\n",
       "      <td>-0.132407</td>\n",
       "      <td>0.008236</td>\n",
       "      <td>0.971428</td>\n",
       "      <td>1.000000</td>\n",
       "      <td>0.258852</td>\n",
       "      <td>0.993599</td>\n",
       "      <td>-0.042300</td>\n",
       "      <td>-0.015375</td>\n",
       "      <td>...</td>\n",
       "      <td>0.099062</td>\n",
       "      <td>0.101334</td>\n",
       "      <td>0.093127</td>\n",
       "      <td>0.178705</td>\n",
       "      <td>0.096934</td>\n",
       "      <td>0.478025</td>\n",
       "      <td>-0.038313</td>\n",
       "      <td>-0.067441</td>\n",
       "      <td>0.117174</td>\n",
       "      <td>-0.042553</td>\n",
       "    </tr>\n",
       "    <tr>\n",
       "      <th>body_length</th>\n",
       "      <td>0.012119</td>\n",
       "      <td>1.000000</td>\n",
       "      <td>0.079067</td>\n",
       "      <td>0.133757</td>\n",
       "      <td>-0.007857</td>\n",
       "      <td>0.012119</td>\n",
       "      <td>0.023029</td>\n",
       "      <td>0.010634</td>\n",
       "      <td>0.040859</td>\n",
       "      <td>0.046967</td>\n",
       "      <td>...</td>\n",
       "      <td>0.060596</td>\n",
       "      <td>0.081444</td>\n",
       "      <td>0.086428</td>\n",
       "      <td>0.023452</td>\n",
       "      <td>0.117866</td>\n",
       "      <td>-0.107214</td>\n",
       "      <td>0.055118</td>\n",
       "      <td>-0.011973</td>\n",
       "      <td>0.019340</td>\n",
       "      <td>-0.118308</td>\n",
       "    </tr>\n",
       "    <tr>\n",
       "      <th>channels</th>\n",
       "      <td>-0.132407</td>\n",
       "      <td>0.079067</td>\n",
       "      <td>1.000000</td>\n",
       "      <td>0.111843</td>\n",
       "      <td>-0.156087</td>\n",
       "      <td>-0.132408</td>\n",
       "      <td>0.013372</td>\n",
       "      <td>-0.132755</td>\n",
       "      <td>0.105567</td>\n",
       "      <td>0.041621</td>\n",
       "      <td>...</td>\n",
       "      <td>0.063206</td>\n",
       "      <td>0.108683</td>\n",
       "      <td>0.110410</td>\n",
       "      <td>0.024795</td>\n",
       "      <td>0.028107</td>\n",
       "      <td>-0.114858</td>\n",
       "      <td>0.043678</td>\n",
       "      <td>0.026885</td>\n",
       "      <td>-0.026504</td>\n",
       "      <td>-0.165358</td>\n",
       "    </tr>\n",
       "    <tr>\n",
       "      <th>delivery_method</th>\n",
       "      <td>0.008236</td>\n",
       "      <td>0.133757</td>\n",
       "      <td>0.111843</td>\n",
       "      <td>1.000000</td>\n",
       "      <td>-0.032090</td>\n",
       "      <td>0.008236</td>\n",
       "      <td>-0.011735</td>\n",
       "      <td>0.006155</td>\n",
       "      <td>0.073214</td>\n",
       "      <td>0.102155</td>\n",
       "      <td>...</td>\n",
       "      <td>0.085791</td>\n",
       "      <td>0.178369</td>\n",
       "      <td>0.176043</td>\n",
       "      <td>-0.020470</td>\n",
       "      <td>0.134883</td>\n",
       "      <td>-0.136667</td>\n",
       "      <td>0.097518</td>\n",
       "      <td>-0.008135</td>\n",
       "      <td>0.001709</td>\n",
       "      <td>-0.194046</td>\n",
       "    </tr>\n",
       "    <tr>\n",
       "      <th>event_created</th>\n",
       "      <td>0.971428</td>\n",
       "      <td>-0.007857</td>\n",
       "      <td>-0.156087</td>\n",
       "      <td>-0.032090</td>\n",
       "      <td>1.000000</td>\n",
       "      <td>0.971428</td>\n",
       "      <td>0.261456</td>\n",
       "      <td>0.976971</td>\n",
       "      <td>-0.047690</td>\n",
       "      <td>-0.049791</td>\n",
       "      <td>...</td>\n",
       "      <td>0.087655</td>\n",
       "      <td>-0.096839</td>\n",
       "      <td>-0.117546</td>\n",
       "      <td>0.181047</td>\n",
       "      <td>0.093132</td>\n",
       "      <td>0.497883</td>\n",
       "      <td>-0.045719</td>\n",
       "      <td>-0.067870</td>\n",
       "      <td>0.111316</td>\n",
       "      <td>-0.006436</td>\n",
       "    </tr>\n",
       "    <tr>\n",
       "      <th>event_end</th>\n",
       "      <td>1.000000</td>\n",
       "      <td>0.012119</td>\n",
       "      <td>-0.132408</td>\n",
       "      <td>0.008236</td>\n",
       "      <td>0.971428</td>\n",
       "      <td>1.000000</td>\n",
       "      <td>0.258852</td>\n",
       "      <td>0.993599</td>\n",
       "      <td>-0.042300</td>\n",
       "      <td>-0.015375</td>\n",
       "      <td>...</td>\n",
       "      <td>0.099062</td>\n",
       "      <td>0.101334</td>\n",
       "      <td>0.093127</td>\n",
       "      <td>0.178705</td>\n",
       "      <td>0.096934</td>\n",
       "      <td>0.478025</td>\n",
       "      <td>-0.038313</td>\n",
       "      <td>-0.067441</td>\n",
       "      <td>0.117174</td>\n",
       "      <td>-0.042553</td>\n",
       "    </tr>\n",
       "    <tr>\n",
       "      <th>event_published</th>\n",
       "      <td>0.258852</td>\n",
       "      <td>0.023029</td>\n",
       "      <td>0.013372</td>\n",
       "      <td>-0.011735</td>\n",
       "      <td>0.261456</td>\n",
       "      <td>0.258852</td>\n",
       "      <td>1.000000</td>\n",
       "      <td>0.259712</td>\n",
       "      <td>0.010358</td>\n",
       "      <td>-0.003901</td>\n",
       "      <td>...</td>\n",
       "      <td>-0.001973</td>\n",
       "      <td>-0.093951</td>\n",
       "      <td>-0.011205</td>\n",
       "      <td>0.055957</td>\n",
       "      <td>0.052626</td>\n",
       "      <td>0.104334</td>\n",
       "      <td>0.002214</td>\n",
       "      <td>-0.024138</td>\n",
       "      <td>0.044424</td>\n",
       "      <td>-0.077322</td>\n",
       "    </tr>\n",
       "    <tr>\n",
       "      <th>event_start</th>\n",
       "      <td>0.993599</td>\n",
       "      <td>0.010634</td>\n",
       "      <td>-0.132755</td>\n",
       "      <td>0.006155</td>\n",
       "      <td>0.976971</td>\n",
       "      <td>0.993599</td>\n",
       "      <td>0.259712</td>\n",
       "      <td>1.000000</td>\n",
       "      <td>-0.039954</td>\n",
       "      <td>-0.016032</td>\n",
       "      <td>...</td>\n",
       "      <td>0.101035</td>\n",
       "      <td>0.106102</td>\n",
       "      <td>0.097051</td>\n",
       "      <td>0.185659</td>\n",
       "      <td>0.097020</td>\n",
       "      <td>0.481159</td>\n",
       "      <td>-0.037735</td>\n",
       "      <td>-0.066269</td>\n",
       "      <td>0.116372</td>\n",
       "      <td>-0.044995</td>\n",
       "    </tr>\n",
       "    <tr>\n",
       "      <th>fb_published</th>\n",
       "      <td>-0.042300</td>\n",
       "      <td>0.040859</td>\n",
       "      <td>0.105567</td>\n",
       "      <td>0.073214</td>\n",
       "      <td>-0.047690</td>\n",
       "      <td>-0.042300</td>\n",
       "      <td>0.010358</td>\n",
       "      <td>-0.039954</td>\n",
       "      <td>1.000000</td>\n",
       "      <td>0.010243</td>\n",
       "      <td>...</td>\n",
       "      <td>0.067557</td>\n",
       "      <td>0.034265</td>\n",
       "      <td>0.036545</td>\n",
       "      <td>0.049417</td>\n",
       "      <td>0.030669</td>\n",
       "      <td>-0.054330</td>\n",
       "      <td>0.054787</td>\n",
       "      <td>0.007749</td>\n",
       "      <td>-0.027754</td>\n",
       "      <td>-0.099143</td>\n",
       "    </tr>\n",
       "    <tr>\n",
       "      <th>gts</th>\n",
       "      <td>-0.015375</td>\n",
       "      <td>0.046967</td>\n",
       "      <td>0.041621</td>\n",
       "      <td>0.102155</td>\n",
       "      <td>-0.049791</td>\n",
       "      <td>-0.015375</td>\n",
       "      <td>-0.003901</td>\n",
       "      <td>-0.016032</td>\n",
       "      <td>0.010243</td>\n",
       "      <td>1.000000</td>\n",
       "      <td>...</td>\n",
       "      <td>0.004569</td>\n",
       "      <td>0.158592</td>\n",
       "      <td>0.157817</td>\n",
       "      <td>-0.004129</td>\n",
       "      <td>-0.006839</td>\n",
       "      <td>-0.022876</td>\n",
       "      <td>0.016251</td>\n",
       "      <td>-0.000503</td>\n",
       "      <td>-0.015728</td>\n",
       "      <td>-0.017875</td>\n",
       "    </tr>\n",
       "    <tr>\n",
       "      <th>has_analytics</th>\n",
       "      <td>-0.027188</td>\n",
       "      <td>0.052031</td>\n",
       "      <td>0.085005</td>\n",
       "      <td>0.170422</td>\n",
       "      <td>-0.049770</td>\n",
       "      <td>-0.027187</td>\n",
       "      <td>-0.059813</td>\n",
       "      <td>-0.027417</td>\n",
       "      <td>0.070408</td>\n",
       "      <td>0.050927</td>\n",
       "      <td>...</td>\n",
       "      <td>0.125218</td>\n",
       "      <td>0.119682</td>\n",
       "      <td>0.104675</td>\n",
       "      <td>0.006020</td>\n",
       "      <td>0.096592</td>\n",
       "      <td>-0.112953</td>\n",
       "      <td>0.057144</td>\n",
       "      <td>0.004739</td>\n",
       "      <td>0.029771</td>\n",
       "      <td>-0.084626</td>\n",
       "    </tr>\n",
       "    <tr>\n",
       "      <th>has_header</th>\n",
       "      <td>0.004573</td>\n",
       "      <td>0.027713</td>\n",
       "      <td>-0.002691</td>\n",
       "      <td>0.242775</td>\n",
       "      <td>-0.013611</td>\n",
       "      <td>0.004572</td>\n",
       "      <td>-0.041018</td>\n",
       "      <td>0.005923</td>\n",
       "      <td>0.042284</td>\n",
       "      <td>0.097284</td>\n",
       "      <td>...</td>\n",
       "      <td>0.163058</td>\n",
       "      <td>0.098312</td>\n",
       "      <td>0.091683</td>\n",
       "      <td>0.009014</td>\n",
       "      <td>0.019131</td>\n",
       "      <td>-0.026748</td>\n",
       "      <td>0.030720</td>\n",
       "      <td>-0.027169</td>\n",
       "      <td>-0.059173</td>\n",
       "      <td>-0.082101</td>\n",
       "    </tr>\n",
       "    <tr>\n",
       "      <th>has_logo</th>\n",
       "      <td>0.049874</td>\n",
       "      <td>0.059343</td>\n",
       "      <td>0.109109</td>\n",
       "      <td>0.009850</td>\n",
       "      <td>0.038963</td>\n",
       "      <td>0.049874</td>\n",
       "      <td>0.040429</td>\n",
       "      <td>0.050808</td>\n",
       "      <td>0.048474</td>\n",
       "      <td>0.007713</td>\n",
       "      <td>...</td>\n",
       "      <td>0.101508</td>\n",
       "      <td>0.048688</td>\n",
       "      <td>0.054718</td>\n",
       "      <td>0.048109</td>\n",
       "      <td>0.024572</td>\n",
       "      <td>0.001148</td>\n",
       "      <td>0.043325</td>\n",
       "      <td>0.012700</td>\n",
       "      <td>0.032733</td>\n",
       "      <td>-0.169485</td>\n",
       "    </tr>\n",
       "    <tr>\n",
       "      <th>name_length</th>\n",
       "      <td>-0.065090</td>\n",
       "      <td>0.152534</td>\n",
       "      <td>0.111930</td>\n",
       "      <td>0.084275</td>\n",
       "      <td>-0.078282</td>\n",
       "      <td>-0.065090</td>\n",
       "      <td>-0.003780</td>\n",
       "      <td>-0.065096</td>\n",
       "      <td>0.081675</td>\n",
       "      <td>-0.006409</td>\n",
       "      <td>...</td>\n",
       "      <td>0.073189</td>\n",
       "      <td>0.063614</td>\n",
       "      <td>0.062317</td>\n",
       "      <td>0.018312</td>\n",
       "      <td>0.133011</td>\n",
       "      <td>-0.161188</td>\n",
       "      <td>0.071710</td>\n",
       "      <td>0.004364</td>\n",
       "      <td>-0.029361</td>\n",
       "      <td>-0.158447</td>\n",
       "    </tr>\n",
       "    <tr>\n",
       "      <th>num_order</th>\n",
       "      <td>-0.020166</td>\n",
       "      <td>0.056484</td>\n",
       "      <td>0.023223</td>\n",
       "      <td>0.086124</td>\n",
       "      <td>-0.040543</td>\n",
       "      <td>-0.020166</td>\n",
       "      <td>-0.012999</td>\n",
       "      <td>-0.019781</td>\n",
       "      <td>0.026901</td>\n",
       "      <td>0.633061</td>\n",
       "      <td>...</td>\n",
       "      <td>0.035910</td>\n",
       "      <td>0.101677</td>\n",
       "      <td>0.097043</td>\n",
       "      <td>-0.000727</td>\n",
       "      <td>0.020365</td>\n",
       "      <td>-0.041212</td>\n",
       "      <td>0.033512</td>\n",
       "      <td>0.013292</td>\n",
       "      <td>-0.043602</td>\n",
       "      <td>-0.078008</td>\n",
       "    </tr>\n",
       "    <tr>\n",
       "      <th>num_payouts</th>\n",
       "      <td>0.013977</td>\n",
       "      <td>-0.013551</td>\n",
       "      <td>-0.009769</td>\n",
       "      <td>0.176414</td>\n",
       "      <td>0.001603</td>\n",
       "      <td>0.013977</td>\n",
       "      <td>-0.121533</td>\n",
       "      <td>0.014710</td>\n",
       "      <td>-0.009380</td>\n",
       "      <td>-0.012988</td>\n",
       "      <td>...</td>\n",
       "      <td>0.115074</td>\n",
       "      <td>0.070484</td>\n",
       "      <td>0.060895</td>\n",
       "      <td>-0.031596</td>\n",
       "      <td>0.210060</td>\n",
       "      <td>-0.182056</td>\n",
       "      <td>0.072149</td>\n",
       "      <td>0.027292</td>\n",
       "      <td>-0.083594</td>\n",
       "      <td>-0.083433</td>\n",
       "    </tr>\n",
       "    <tr>\n",
       "      <th>object_id</th>\n",
       "      <td>0.921529</td>\n",
       "      <td>-0.023330</td>\n",
       "      <td>-0.178616</td>\n",
       "      <td>-0.038830</td>\n",
       "      <td>0.953224</td>\n",
       "      <td>0.921529</td>\n",
       "      <td>0.248919</td>\n",
       "      <td>0.927421</td>\n",
       "      <td>-0.045603</td>\n",
       "      <td>-0.056797</td>\n",
       "      <td>...</td>\n",
       "      <td>0.072887</td>\n",
       "      <td>-0.110147</td>\n",
       "      <td>-0.129980</td>\n",
       "      <td>0.161492</td>\n",
       "      <td>0.063347</td>\n",
       "      <td>0.496744</td>\n",
       "      <td>-0.053696</td>\n",
       "      <td>-0.073819</td>\n",
       "      <td>0.109873</td>\n",
       "      <td>0.026721</td>\n",
       "    </tr>\n",
       "    <tr>\n",
       "      <th>org_facebook</th>\n",
       "      <td>0.138102</td>\n",
       "      <td>0.036060</td>\n",
       "      <td>0.064852</td>\n",
       "      <td>0.063281</td>\n",
       "      <td>0.125289</td>\n",
       "      <td>0.138102</td>\n",
       "      <td>0.028548</td>\n",
       "      <td>0.138672</td>\n",
       "      <td>0.077651</td>\n",
       "      <td>-0.008063</td>\n",
       "      <td>...</td>\n",
       "      <td>0.514731</td>\n",
       "      <td>0.061867</td>\n",
       "      <td>0.060856</td>\n",
       "      <td>0.074731</td>\n",
       "      <td>0.035943</td>\n",
       "      <td>0.041174</td>\n",
       "      <td>0.039403</td>\n",
       "      <td>-0.029715</td>\n",
       "      <td>0.034562</td>\n",
       "      <td>-0.181792</td>\n",
       "    </tr>\n",
       "    <tr>\n",
       "      <th>org_twitter</th>\n",
       "      <td>0.099062</td>\n",
       "      <td>0.060596</td>\n",
       "      <td>0.063206</td>\n",
       "      <td>0.085791</td>\n",
       "      <td>0.087655</td>\n",
       "      <td>0.099062</td>\n",
       "      <td>-0.001973</td>\n",
       "      <td>0.101035</td>\n",
       "      <td>0.067557</td>\n",
       "      <td>0.004569</td>\n",
       "      <td>...</td>\n",
       "      <td>1.000000</td>\n",
       "      <td>0.065721</td>\n",
       "      <td>0.061010</td>\n",
       "      <td>0.060085</td>\n",
       "      <td>0.106005</td>\n",
       "      <td>-0.041606</td>\n",
       "      <td>0.085972</td>\n",
       "      <td>0.014079</td>\n",
       "      <td>0.052220</td>\n",
       "      <td>-0.205692</td>\n",
       "    </tr>\n",
       "    <tr>\n",
       "      <th>sale_duration</th>\n",
       "      <td>0.101334</td>\n",
       "      <td>0.081444</td>\n",
       "      <td>0.108683</td>\n",
       "      <td>0.178369</td>\n",
       "      <td>-0.096839</td>\n",
       "      <td>0.101334</td>\n",
       "      <td>-0.093951</td>\n",
       "      <td>0.106102</td>\n",
       "      <td>0.034265</td>\n",
       "      <td>0.158592</td>\n",
       "      <td>...</td>\n",
       "      <td>0.065721</td>\n",
       "      <td>1.000000</td>\n",
       "      <td>0.929406</td>\n",
       "      <td>0.025951</td>\n",
       "      <td>0.029540</td>\n",
       "      <td>-0.081663</td>\n",
       "      <td>0.037579</td>\n",
       "      <td>0.005491</td>\n",
       "      <td>0.026016</td>\n",
       "      <td>-0.179512</td>\n",
       "    </tr>\n",
       "    <tr>\n",
       "      <th>sale_duration2</th>\n",
       "      <td>0.093127</td>\n",
       "      <td>0.086428</td>\n",
       "      <td>0.110410</td>\n",
       "      <td>0.176043</td>\n",
       "      <td>-0.117546</td>\n",
       "      <td>0.093127</td>\n",
       "      <td>-0.011205</td>\n",
       "      <td>0.097051</td>\n",
       "      <td>0.036545</td>\n",
       "      <td>0.157817</td>\n",
       "      <td>...</td>\n",
       "      <td>0.061010</td>\n",
       "      <td>0.929406</td>\n",
       "      <td>1.000000</td>\n",
       "      <td>0.019441</td>\n",
       "      <td>0.017252</td>\n",
       "      <td>-0.083103</td>\n",
       "      <td>0.037711</td>\n",
       "      <td>0.007359</td>\n",
       "      <td>0.022422</td>\n",
       "      <td>-0.179550</td>\n",
       "    </tr>\n",
       "    <tr>\n",
       "      <th>show_map</th>\n",
       "      <td>0.178705</td>\n",
       "      <td>0.023452</td>\n",
       "      <td>0.024795</td>\n",
       "      <td>-0.020470</td>\n",
       "      <td>0.181047</td>\n",
       "      <td>0.178705</td>\n",
       "      <td>0.055957</td>\n",
       "      <td>0.185659</td>\n",
       "      <td>0.049417</td>\n",
       "      <td>-0.004129</td>\n",
       "      <td>...</td>\n",
       "      <td>0.060085</td>\n",
       "      <td>0.025951</td>\n",
       "      <td>0.019441</td>\n",
       "      <td>1.000000</td>\n",
       "      <td>-0.000931</td>\n",
       "      <td>0.105627</td>\n",
       "      <td>0.019701</td>\n",
       "      <td>0.052499</td>\n",
       "      <td>-0.001423</td>\n",
       "      <td>-0.076217</td>\n",
       "    </tr>\n",
       "    <tr>\n",
       "      <th>user_age</th>\n",
       "      <td>0.096934</td>\n",
       "      <td>0.117866</td>\n",
       "      <td>0.028107</td>\n",
       "      <td>0.134883</td>\n",
       "      <td>0.093132</td>\n",
       "      <td>0.096934</td>\n",
       "      <td>0.052626</td>\n",
       "      <td>0.097020</td>\n",
       "      <td>0.030669</td>\n",
       "      <td>-0.006839</td>\n",
       "      <td>...</td>\n",
       "      <td>0.106005</td>\n",
       "      <td>0.029540</td>\n",
       "      <td>0.017252</td>\n",
       "      <td>-0.000931</td>\n",
       "      <td>1.000000</td>\n",
       "      <td>-0.817106</td>\n",
       "      <td>0.268734</td>\n",
       "      <td>0.050604</td>\n",
       "      <td>-0.069837</td>\n",
       "      <td>-0.215929</td>\n",
       "    </tr>\n",
       "    <tr>\n",
       "      <th>user_created</th>\n",
       "      <td>0.478025</td>\n",
       "      <td>-0.107214</td>\n",
       "      <td>-0.114858</td>\n",
       "      <td>-0.136667</td>\n",
       "      <td>0.497883</td>\n",
       "      <td>0.478025</td>\n",
       "      <td>0.104334</td>\n",
       "      <td>0.481159</td>\n",
       "      <td>-0.054330</td>\n",
       "      <td>-0.022876</td>\n",
       "      <td>...</td>\n",
       "      <td>-0.041606</td>\n",
       "      <td>-0.081663</td>\n",
       "      <td>-0.083103</td>\n",
       "      <td>0.105627</td>\n",
       "      <td>-0.817106</td>\n",
       "      <td>1.000000</td>\n",
       "      <td>-0.260544</td>\n",
       "      <td>-0.083878</td>\n",
       "      <td>0.126022</td>\n",
       "      <td>0.184360</td>\n",
       "    </tr>\n",
       "    <tr>\n",
       "      <th>user_type</th>\n",
       "      <td>-0.038313</td>\n",
       "      <td>0.055118</td>\n",
       "      <td>0.043678</td>\n",
       "      <td>0.097518</td>\n",
       "      <td>-0.045719</td>\n",
       "      <td>-0.038313</td>\n",
       "      <td>0.002214</td>\n",
       "      <td>-0.037735</td>\n",
       "      <td>0.054787</td>\n",
       "      <td>0.016251</td>\n",
       "      <td>...</td>\n",
       "      <td>0.085972</td>\n",
       "      <td>0.037579</td>\n",
       "      <td>0.037711</td>\n",
       "      <td>0.019701</td>\n",
       "      <td>0.268734</td>\n",
       "      <td>-0.260544</td>\n",
       "      <td>1.000000</td>\n",
       "      <td>0.017453</td>\n",
       "      <td>-0.015281</td>\n",
       "      <td>-0.213911</td>\n",
       "    </tr>\n",
       "    <tr>\n",
       "      <th>venue_latitude</th>\n",
       "      <td>-0.067441</td>\n",
       "      <td>-0.011973</td>\n",
       "      <td>0.026885</td>\n",
       "      <td>-0.008135</td>\n",
       "      <td>-0.067870</td>\n",
       "      <td>-0.067441</td>\n",
       "      <td>-0.024138</td>\n",
       "      <td>-0.066269</td>\n",
       "      <td>0.007749</td>\n",
       "      <td>-0.000503</td>\n",
       "      <td>...</td>\n",
       "      <td>0.014079</td>\n",
       "      <td>0.005491</td>\n",
       "      <td>0.007359</td>\n",
       "      <td>0.052499</td>\n",
       "      <td>0.050604</td>\n",
       "      <td>-0.083878</td>\n",
       "      <td>0.017453</td>\n",
       "      <td>1.000000</td>\n",
       "      <td>-0.626055</td>\n",
       "      <td>0.010126</td>\n",
       "    </tr>\n",
       "    <tr>\n",
       "      <th>venue_longitude</th>\n",
       "      <td>0.117174</td>\n",
       "      <td>0.019340</td>\n",
       "      <td>-0.026504</td>\n",
       "      <td>0.001709</td>\n",
       "      <td>0.111316</td>\n",
       "      <td>0.117174</td>\n",
       "      <td>0.044424</td>\n",
       "      <td>0.116372</td>\n",
       "      <td>-0.027754</td>\n",
       "      <td>-0.015728</td>\n",
       "      <td>...</td>\n",
       "      <td>0.052220</td>\n",
       "      <td>0.026016</td>\n",
       "      <td>0.022422</td>\n",
       "      <td>-0.001423</td>\n",
       "      <td>-0.069837</td>\n",
       "      <td>0.126022</td>\n",
       "      <td>-0.015281</td>\n",
       "      <td>-0.626055</td>\n",
       "      <td>1.000000</td>\n",
       "      <td>0.066057</td>\n",
       "    </tr>\n",
       "    <tr>\n",
       "      <th>fraud</th>\n",
       "      <td>-0.042553</td>\n",
       "      <td>-0.118308</td>\n",
       "      <td>-0.165358</td>\n",
       "      <td>-0.194046</td>\n",
       "      <td>-0.006436</td>\n",
       "      <td>-0.042553</td>\n",
       "      <td>-0.077322</td>\n",
       "      <td>-0.044995</td>\n",
       "      <td>-0.099143</td>\n",
       "      <td>-0.017875</td>\n",
       "      <td>...</td>\n",
       "      <td>-0.205692</td>\n",
       "      <td>-0.179512</td>\n",
       "      <td>-0.179550</td>\n",
       "      <td>-0.076217</td>\n",
       "      <td>-0.215929</td>\n",
       "      <td>0.184360</td>\n",
       "      <td>-0.213911</td>\n",
       "      <td>0.010126</td>\n",
       "      <td>0.066057</td>\n",
       "      <td>1.000000</td>\n",
       "    </tr>\n",
       "  </tbody>\n",
       "</table>\n",
       "<p>28 rows × 28 columns</p>\n",
       "</div>"
      ],
      "text/plain": [
       "                    approx_payout_date  body_length  channels  \\\n",
       "approx_payout_date            1.000000     0.012119 -0.132407   \n",
       "body_length                   0.012119     1.000000  0.079067   \n",
       "channels                     -0.132407     0.079067  1.000000   \n",
       "delivery_method               0.008236     0.133757  0.111843   \n",
       "event_created                 0.971428    -0.007857 -0.156087   \n",
       "event_end                     1.000000     0.012119 -0.132408   \n",
       "event_published               0.258852     0.023029  0.013372   \n",
       "event_start                   0.993599     0.010634 -0.132755   \n",
       "fb_published                 -0.042300     0.040859  0.105567   \n",
       "gts                          -0.015375     0.046967  0.041621   \n",
       "has_analytics                -0.027188     0.052031  0.085005   \n",
       "has_header                    0.004573     0.027713 -0.002691   \n",
       "has_logo                      0.049874     0.059343  0.109109   \n",
       "name_length                  -0.065090     0.152534  0.111930   \n",
       "num_order                    -0.020166     0.056484  0.023223   \n",
       "num_payouts                   0.013977    -0.013551 -0.009769   \n",
       "object_id                     0.921529    -0.023330 -0.178616   \n",
       "org_facebook                  0.138102     0.036060  0.064852   \n",
       "org_twitter                   0.099062     0.060596  0.063206   \n",
       "sale_duration                 0.101334     0.081444  0.108683   \n",
       "sale_duration2                0.093127     0.086428  0.110410   \n",
       "show_map                      0.178705     0.023452  0.024795   \n",
       "user_age                      0.096934     0.117866  0.028107   \n",
       "user_created                  0.478025    -0.107214 -0.114858   \n",
       "user_type                    -0.038313     0.055118  0.043678   \n",
       "venue_latitude               -0.067441    -0.011973  0.026885   \n",
       "venue_longitude               0.117174     0.019340 -0.026504   \n",
       "fraud                        -0.042553    -0.118308 -0.165358   \n",
       "\n",
       "                    delivery_method  event_created  event_end  \\\n",
       "approx_payout_date         0.008236       0.971428   1.000000   \n",
       "body_length                0.133757      -0.007857   0.012119   \n",
       "channels                   0.111843      -0.156087  -0.132408   \n",
       "delivery_method            1.000000      -0.032090   0.008236   \n",
       "event_created             -0.032090       1.000000   0.971428   \n",
       "event_end                  0.008236       0.971428   1.000000   \n",
       "event_published           -0.011735       0.261456   0.258852   \n",
       "event_start                0.006155       0.976971   0.993599   \n",
       "fb_published               0.073214      -0.047690  -0.042300   \n",
       "gts                        0.102155      -0.049791  -0.015375   \n",
       "has_analytics              0.170422      -0.049770  -0.027187   \n",
       "has_header                 0.242775      -0.013611   0.004572   \n",
       "has_logo                   0.009850       0.038963   0.049874   \n",
       "name_length                0.084275      -0.078282  -0.065090   \n",
       "num_order                  0.086124      -0.040543  -0.020166   \n",
       "num_payouts                0.176414       0.001603   0.013977   \n",
       "object_id                 -0.038830       0.953224   0.921529   \n",
       "org_facebook               0.063281       0.125289   0.138102   \n",
       "org_twitter                0.085791       0.087655   0.099062   \n",
       "sale_duration              0.178369      -0.096839   0.101334   \n",
       "sale_duration2             0.176043      -0.117546   0.093127   \n",
       "show_map                  -0.020470       0.181047   0.178705   \n",
       "user_age                   0.134883       0.093132   0.096934   \n",
       "user_created              -0.136667       0.497883   0.478025   \n",
       "user_type                  0.097518      -0.045719  -0.038313   \n",
       "venue_latitude            -0.008135      -0.067870  -0.067441   \n",
       "venue_longitude            0.001709       0.111316   0.117174   \n",
       "fraud                     -0.194046      -0.006436  -0.042553   \n",
       "\n",
       "                    event_published  event_start  fb_published       gts  ...  \\\n",
       "approx_payout_date         0.258852     0.993599     -0.042300 -0.015375  ...   \n",
       "body_length                0.023029     0.010634      0.040859  0.046967  ...   \n",
       "channels                   0.013372    -0.132755      0.105567  0.041621  ...   \n",
       "delivery_method           -0.011735     0.006155      0.073214  0.102155  ...   \n",
       "event_created              0.261456     0.976971     -0.047690 -0.049791  ...   \n",
       "event_end                  0.258852     0.993599     -0.042300 -0.015375  ...   \n",
       "event_published            1.000000     0.259712      0.010358 -0.003901  ...   \n",
       "event_start                0.259712     1.000000     -0.039954 -0.016032  ...   \n",
       "fb_published               0.010358    -0.039954      1.000000  0.010243  ...   \n",
       "gts                       -0.003901    -0.016032      0.010243  1.000000  ...   \n",
       "has_analytics             -0.059813    -0.027417      0.070408  0.050927  ...   \n",
       "has_header                -0.041018     0.005923      0.042284  0.097284  ...   \n",
       "has_logo                   0.040429     0.050808      0.048474  0.007713  ...   \n",
       "name_length               -0.003780    -0.065096      0.081675 -0.006409  ...   \n",
       "num_order                 -0.012999    -0.019781      0.026901  0.633061  ...   \n",
       "num_payouts               -0.121533     0.014710     -0.009380 -0.012988  ...   \n",
       "object_id                  0.248919     0.927421     -0.045603 -0.056797  ...   \n",
       "org_facebook               0.028548     0.138672      0.077651 -0.008063  ...   \n",
       "org_twitter               -0.001973     0.101035      0.067557  0.004569  ...   \n",
       "sale_duration             -0.093951     0.106102      0.034265  0.158592  ...   \n",
       "sale_duration2            -0.011205     0.097051      0.036545  0.157817  ...   \n",
       "show_map                   0.055957     0.185659      0.049417 -0.004129  ...   \n",
       "user_age                   0.052626     0.097020      0.030669 -0.006839  ...   \n",
       "user_created               0.104334     0.481159     -0.054330 -0.022876  ...   \n",
       "user_type                  0.002214    -0.037735      0.054787  0.016251  ...   \n",
       "venue_latitude            -0.024138    -0.066269      0.007749 -0.000503  ...   \n",
       "venue_longitude            0.044424     0.116372     -0.027754 -0.015728  ...   \n",
       "fraud                     -0.077322    -0.044995     -0.099143 -0.017875  ...   \n",
       "\n",
       "                    org_twitter  sale_duration  sale_duration2  show_map  \\\n",
       "approx_payout_date     0.099062       0.101334        0.093127  0.178705   \n",
       "body_length            0.060596       0.081444        0.086428  0.023452   \n",
       "channels               0.063206       0.108683        0.110410  0.024795   \n",
       "delivery_method        0.085791       0.178369        0.176043 -0.020470   \n",
       "event_created          0.087655      -0.096839       -0.117546  0.181047   \n",
       "event_end              0.099062       0.101334        0.093127  0.178705   \n",
       "event_published       -0.001973      -0.093951       -0.011205  0.055957   \n",
       "event_start            0.101035       0.106102        0.097051  0.185659   \n",
       "fb_published           0.067557       0.034265        0.036545  0.049417   \n",
       "gts                    0.004569       0.158592        0.157817 -0.004129   \n",
       "has_analytics          0.125218       0.119682        0.104675  0.006020   \n",
       "has_header             0.163058       0.098312        0.091683  0.009014   \n",
       "has_logo               0.101508       0.048688        0.054718  0.048109   \n",
       "name_length            0.073189       0.063614        0.062317  0.018312   \n",
       "num_order              0.035910       0.101677        0.097043 -0.000727   \n",
       "num_payouts            0.115074       0.070484        0.060895 -0.031596   \n",
       "object_id              0.072887      -0.110147       -0.129980  0.161492   \n",
       "org_facebook           0.514731       0.061867        0.060856  0.074731   \n",
       "org_twitter            1.000000       0.065721        0.061010  0.060085   \n",
       "sale_duration          0.065721       1.000000        0.929406  0.025951   \n",
       "sale_duration2         0.061010       0.929406        1.000000  0.019441   \n",
       "show_map               0.060085       0.025951        0.019441  1.000000   \n",
       "user_age               0.106005       0.029540        0.017252 -0.000931   \n",
       "user_created          -0.041606      -0.081663       -0.083103  0.105627   \n",
       "user_type              0.085972       0.037579        0.037711  0.019701   \n",
       "venue_latitude         0.014079       0.005491        0.007359  0.052499   \n",
       "venue_longitude        0.052220       0.026016        0.022422 -0.001423   \n",
       "fraud                 -0.205692      -0.179512       -0.179550 -0.076217   \n",
       "\n",
       "                    user_age  user_created  user_type  venue_latitude  \\\n",
       "approx_payout_date  0.096934      0.478025  -0.038313       -0.067441   \n",
       "body_length         0.117866     -0.107214   0.055118       -0.011973   \n",
       "channels            0.028107     -0.114858   0.043678        0.026885   \n",
       "delivery_method     0.134883     -0.136667   0.097518       -0.008135   \n",
       "event_created       0.093132      0.497883  -0.045719       -0.067870   \n",
       "event_end           0.096934      0.478025  -0.038313       -0.067441   \n",
       "event_published     0.052626      0.104334   0.002214       -0.024138   \n",
       "event_start         0.097020      0.481159  -0.037735       -0.066269   \n",
       "fb_published        0.030669     -0.054330   0.054787        0.007749   \n",
       "gts                -0.006839     -0.022876   0.016251       -0.000503   \n",
       "has_analytics       0.096592     -0.112953   0.057144        0.004739   \n",
       "has_header          0.019131     -0.026748   0.030720       -0.027169   \n",
       "has_logo            0.024572      0.001148   0.043325        0.012700   \n",
       "name_length         0.133011     -0.161188   0.071710        0.004364   \n",
       "num_order           0.020365     -0.041212   0.033512        0.013292   \n",
       "num_payouts         0.210060     -0.182056   0.072149        0.027292   \n",
       "object_id           0.063347      0.496744  -0.053696       -0.073819   \n",
       "org_facebook        0.035943      0.041174   0.039403       -0.029715   \n",
       "org_twitter         0.106005     -0.041606   0.085972        0.014079   \n",
       "sale_duration       0.029540     -0.081663   0.037579        0.005491   \n",
       "sale_duration2      0.017252     -0.083103   0.037711        0.007359   \n",
       "show_map           -0.000931      0.105627   0.019701        0.052499   \n",
       "user_age            1.000000     -0.817106   0.268734        0.050604   \n",
       "user_created       -0.817106      1.000000  -0.260544       -0.083878   \n",
       "user_type           0.268734     -0.260544   1.000000        0.017453   \n",
       "venue_latitude      0.050604     -0.083878   0.017453        1.000000   \n",
       "venue_longitude    -0.069837      0.126022  -0.015281       -0.626055   \n",
       "fraud              -0.215929      0.184360  -0.213911        0.010126   \n",
       "\n",
       "                    venue_longitude     fraud  \n",
       "approx_payout_date         0.117174 -0.042553  \n",
       "body_length                0.019340 -0.118308  \n",
       "channels                  -0.026504 -0.165358  \n",
       "delivery_method            0.001709 -0.194046  \n",
       "event_created              0.111316 -0.006436  \n",
       "event_end                  0.117174 -0.042553  \n",
       "event_published            0.044424 -0.077322  \n",
       "event_start                0.116372 -0.044995  \n",
       "fb_published              -0.027754 -0.099143  \n",
       "gts                       -0.015728 -0.017875  \n",
       "has_analytics              0.029771 -0.084626  \n",
       "has_header                -0.059173 -0.082101  \n",
       "has_logo                   0.032733 -0.169485  \n",
       "name_length               -0.029361 -0.158447  \n",
       "num_order                 -0.043602 -0.078008  \n",
       "num_payouts               -0.083594 -0.083433  \n",
       "object_id                  0.109873  0.026721  \n",
       "org_facebook               0.034562 -0.181792  \n",
       "org_twitter                0.052220 -0.205692  \n",
       "sale_duration              0.026016 -0.179512  \n",
       "sale_duration2             0.022422 -0.179550  \n",
       "show_map                  -0.001423 -0.076217  \n",
       "user_age                  -0.069837 -0.215929  \n",
       "user_created               0.126022  0.184360  \n",
       "user_type                 -0.015281 -0.213911  \n",
       "venue_latitude            -0.626055  0.010126  \n",
       "venue_longitude            1.000000  0.066057  \n",
       "fraud                      0.066057  1.000000  \n",
       "\n",
       "[28 rows x 28 columns]"
      ]
     },
     "execution_count": 37,
     "metadata": {},
     "output_type": "execute_result"
    }
   ],
   "source": [
    "corr"
   ]
  },
  {
   "cell_type": "code",
   "execution_count": 38,
   "id": "1479b2d6-b64d-4998-b5a4-ac751db45cae",
   "metadata": {},
   "outputs": [
    {
     "data": {
      "text/plain": [
       "<AxesSubplot:>"
      ]
     },
     "execution_count": 38,
     "metadata": {},
     "output_type": "execute_result"
    },
    {
     "data": {
      "image/png": "[encoded data removed]",
      "text/plain": [
       "<Figure size 1080x1080 with 2 Axes>"
      ]
     },
     "metadata": {},
     "output_type": "display_data"
    }
   ],
   "source": [
    "fig, ax = plt.subplots(figsize=(15, 15))\n",
    "sns.heatmap(corr, ax=ax)"
   ]
  },
  {
   "cell_type": "code",
   "execution_count": 39,
   "id": "03632369-3dc4-4779-8a94-981da58d0619",
   "metadata": {},
   "outputs": [
    {
     "data": {
      "text/plain": [
       "Text(0.5, 1.0, 'Sale Duration Features')"
      ]
     },
     "execution_count": 39,
     "metadata": {},
     "output_type": "execute_result"
    },
    {
     "data": {
      "image/png": "[encoded data removed]",
      "text/plain": [
       "<Figure size 864x360 with 1 Axes>"
      ]
     },
     "metadata": {},
     "output_type": "display_data"
    }
   ],
   "source": [
    "# Two separate sale duration features; not always the same apparently \n",
    "\n",
    "fig, ax = plt.subplots(figsize=(12, 5))\n",
    "sns.scatterplot(x=df.sale_duration, y=df.sale_duration2, hue=df.fraud, palette={True:'r', False:'g'})\n",
    "ax.tick_params(axis='x', rotation=45)\n",
    "ax.set_title('Sale Duration Features')"
   ]
  },
  {
   "cell_type": "markdown",
   "id": "856a55f6-5b8d-474f-b900-9e53762cd5ef",
   "metadata": {},
   "source": [
    "### Don't forget to Establish a baseline"
   ]
  },
  {
   "cell_type": "code",
   "execution_count": 40,
   "id": "da157fc2-48fd-45f0-8ae4-7b0abb3b11c1",
   "metadata": {},
   "outputs": [],
   "source": [
    "model_df = df.copy()"
   ]
  },
  {
   "cell_type": "code",
   "execution_count": 41,
   "id": "24296303-bb2c-4b2d-a843-2f1567b02483",
   "metadata": {},
   "outputs": [],
   "source": [
    "# Dropping columns with lots of NaNs or text only \n",
    "\n",
    "model_df.drop(columns=['acct_type', 'description', 'name', \n",
    "                 'org_desc', 'previous_payouts', \n",
    "                 'ticket_types', 'venue_country', \n",
    "                 'venue_longitude', 'venue_latitude', \n",
    "                 'venue_name', 'venue_state', 'venue_address', 'has_header'], inplace=True)\n"
   ]
  },
  {
   "cell_type": "code",
   "execution_count": 42,
   "id": "a7a7a6ba-a868-4ffa-b32c-c6580fcdff55",
   "metadata": {},
   "outputs": [],
   "source": [
    "# label encoding first to make it easy... \n",
    "le = LabelEncoder()"
   ]
  },
  {
   "cell_type": "code",
   "execution_count": 43,
   "id": "83feeade-2db1-4c18-b95a-78479c82bcad",
   "metadata": {},
   "outputs": [],
   "source": [
    "# Testing out the label encoder on one column \n",
    "\n",
    "model_df['country'] = le.fit_transform(model_df['country'])\n"
   ]
  },
  {
   "cell_type": "code",
   "execution_count": 44,
   "id": "3ec8c334-10f2-4710-a826-2c250f7d9f7d",
   "metadata": {},
   "outputs": [
    {
     "data": {
      "text/plain": [
       "0        65\n",
       "1        65\n",
       "2        65\n",
       "3        30\n",
       "4        65\n",
       "         ..\n",
       "14332    65\n",
       "14333    65\n",
       "14334    67\n",
       "14335    65\n",
       "14336    24\n",
       "Name: country, Length: 14337, dtype: int64"
      ]
     },
     "execution_count": 44,
     "metadata": {},
     "output_type": "execute_result"
    }
   ],
   "source": [
    "model_df.country"
   ]
  },
  {
   "cell_type": "code",
   "execution_count": 45,
   "id": "4222d72b-948c-40b1-89ee-deeecc1bafce",
   "metadata": {},
   "outputs": [],
   "source": [
    "# Label encoding for other categorical columns \n",
    "model_df['currency'] = le.fit_transform(model_df['currency'])\n",
    "model_df['email_domain'] = le.fit_transform(model_df['email_domain'])\n",
    "model_df['listed'] = le.fit_transform(model_df['listed'])\n",
    "model_df['payee_name'] = le.fit_transform(model_df['payee_name'])\n",
    "model_df['payout_type'] = le.fit_transform(model_df['payout_type'])\n",
    "model_df['org_name'] = le.fit_transform(model_df['org_name'])\n"
   ]
  },
  {
   "cell_type": "code",
   "execution_count": 46,
   "id": "2716c626-40cc-4d0f-b304-1164081f10d8",
   "metadata": {},
   "outputs": [],
   "source": [
    "model_df.dropna(inplace=True)"
   ]
  },
  {
   "cell_type": "code",
   "execution_count": 47,
   "id": "371e48ee-9305-4f65-a16c-f1a0b9bd203f",
   "metadata": {},
   "outputs": [
    {
     "data": {
      "text/plain": [
       "(14132, 32)"
      ]
     },
     "execution_count": 47,
     "metadata": {},
     "output_type": "execute_result"
    }
   ],
   "source": [
    "model_df.shape"
   ]
  },
  {
   "cell_type": "code",
   "execution_count": 48,
   "id": "151f4c17-0ab6-45e3-9e1c-fb903d6ace33",
   "metadata": {},
   "outputs": [
    {
     "data": {
      "text/plain": [
       "False    13044\n",
       "True      1293\n",
       "Name: fraud, dtype: int64"
      ]
     },
     "execution_count": 48,
     "metadata": {},
     "output_type": "execute_result"
    }
   ],
   "source": [
    "df.fraud.value_counts()"
   ]
  },
  {
   "cell_type": "code",
   "execution_count": 49,
   "id": "97d7f1e2-6c3b-4f05-9658-e89290296812",
   "metadata": {},
   "outputs": [
    {
     "name": "stdout",
     "output_type": "stream",
     "text": [
      "<class 'pandas.core.frame.DataFrame'>\n",
      "Int64Index: 14132 entries, 0 to 14336\n",
      "Data columns (total 32 columns):\n",
      " #   Column              Non-Null Count  Dtype  \n",
      "---  ------              --------------  -----  \n",
      " 0   approx_payout_date  14132 non-null  int64  \n",
      " 1   body_length         14132 non-null  int64  \n",
      " 2   channels            14132 non-null  int64  \n",
      " 3   country             14132 non-null  int64  \n",
      " 4   currency            14132 non-null  int64  \n",
      " 5   delivery_method     14132 non-null  float64\n",
      " 6   email_domain        14132 non-null  int64  \n",
      " 7   event_created       14132 non-null  int64  \n",
      " 8   event_end           14132 non-null  int64  \n",
      " 9   event_published     14132 non-null  float64\n",
      " 10  event_start         14132 non-null  int64  \n",
      " 11  fb_published        14132 non-null  int64  \n",
      " 12  gts                 14132 non-null  float64\n",
      " 13  has_analytics       14132 non-null  int64  \n",
      " 14  has_logo            14132 non-null  int64  \n",
      " 15  listed              14132 non-null  int64  \n",
      " 16  name_length         14132 non-null  int64  \n",
      " 17  num_order           14132 non-null  int64  \n",
      " 18  num_payouts         14132 non-null  int64  \n",
      " 19  object_id           14132 non-null  int64  \n",
      " 20  org_facebook        14132 non-null  float64\n",
      " 21  org_name            14132 non-null  int64  \n",
      " 22  org_twitter         14132 non-null  float64\n",
      " 23  payee_name          14132 non-null  int64  \n",
      " 24  payout_type         14132 non-null  int64  \n",
      " 25  sale_duration       14132 non-null  float64\n",
      " 26  sale_duration2      14132 non-null  int64  \n",
      " 27  show_map            14132 non-null  int64  \n",
      " 28  user_age            14132 non-null  int64  \n",
      " 29  user_created        14132 non-null  int64  \n",
      " 30  user_type           14132 non-null  int64  \n",
      " 31  fraud               14132 non-null  bool   \n",
      "dtypes: bool(1), float64(6), int64(25)\n",
      "memory usage: 3.5 MB\n"
     ]
    }
   ],
   "source": [
    "model_df.info()"
   ]
  },
  {
   "cell_type": "code",
   "execution_count": 50,
   "id": "941a6cd4-0f5f-4bd6-8d69-a6efbe255a69",
   "metadata": {},
   "outputs": [],
   "source": [
    "# Retain new-df as a checkpoint to return to -- new_df is checkpoint, make a copy if messing with ... \n",
    "\n",
    "new_df = model_df.copy()"
   ]
  },
  {
   "cell_type": "code",
   "execution_count": 51,
   "id": "65b89448-1093-4b4d-b243-60920e8d4307",
   "metadata": {},
   "outputs": [],
   "source": [
    "from sklearn.model_selection import train_test_split"
   ]
  },
  {
   "cell_type": "code",
   "execution_count": null,
   "id": "2d47d6f6-82c9-49e7-8322-6901bf9a5075",
   "metadata": {},
   "outputs": [],
   "source": []
  },
  {
   "cell_type": "code",
   "execution_count": 52,
   "id": "121edbaf-98fb-4ded-ab08-e54da5200dea",
   "metadata": {},
   "outputs": [],
   "source": [
    "y = model_df.pop('fraud')"
   ]
  },
  {
   "cell_type": "code",
   "execution_count": 53,
   "id": "e71d7faf-3c28-43de-90ec-97e94ca9176d",
   "metadata": {},
   "outputs": [],
   "source": [
    "X = model_df.copy()"
   ]
  },
  {
   "cell_type": "code",
   "execution_count": 54,
   "id": "aab5ae46-bb39-48c6-a8f5-faad07ee24fc",
   "metadata": {},
   "outputs": [],
   "source": [
    "X_train, X_test, y_train, y_test = train_test_split(X, y, random_state=42, stratify=y)"
   ]
  },
  {
   "cell_type": "code",
   "execution_count": 55,
   "id": "79a79ed4-9b67-45eb-8575-cb9ba48c2cbf",
   "metadata": {},
   "outputs": [],
   "source": [
    "X_train.to_csv('/Users/beckyepeters/dsi_galvanize/groupprojects/fraud-detection-case-study/data/X_train.csv', index=False)"
   ]
  },
  {
   "cell_type": "code",
   "execution_count": 56,
   "id": "69107bad-69d5-43f1-a9d4-6287adcbbf04",
   "metadata": {},
   "outputs": [],
   "source": [
    "X_test.to_csv('/Users/beckyepeters/dsi_galvanize/groupprojects/fraud-detection-case-study/data/X_test.csv', index=False)"
   ]
  },
  {
   "cell_type": "code",
   "execution_count": 57,
   "id": "f7f27f73-e642-4913-a7b2-2c70ab985424",
   "metadata": {},
   "outputs": [],
   "source": [
    "y_train.to_csv('/Users/beckyepeters/dsi_galvanize/groupprojects/fraud-detection-case-study/data/y_train.csv', index=False)"
   ]
  },
  {
   "cell_type": "code",
   "execution_count": 58,
   "id": "54c40be2-7270-4c63-86c1-47a98542f2b0",
   "metadata": {},
   "outputs": [],
   "source": [
    "y_test.to_csv('/Users/beckyepeters/dsi_galvanize/groupprojects/fraud-detection-case-study/data/y_test.csv', index=False)"
   ]
  },
  {
   "cell_type": "code",
   "execution_count": 59,
   "id": "967fb522-8d63-4c01-b719-e35a0e1a523b",
   "metadata": {},
   "outputs": [
    {
     "data": {
      "text/plain": [
       "False    0.919898\n",
       "True     0.080102\n",
       "Name: fraud, dtype: float64"
      ]
     },
     "execution_count": 59,
     "metadata": {},
     "output_type": "execute_result"
    }
   ],
   "source": [
    "y_train.value_counts(normalize=True)"
   ]
  },
  {
   "cell_type": "code",
   "execution_count": 60,
   "id": "c4cc64db-7b8f-4ad8-a965-527862229e52",
   "metadata": {},
   "outputs": [
    {
     "data": {
      "text/plain": [
       "False    0.919898\n",
       "True     0.080102\n",
       "Name: fraud, dtype: float64"
      ]
     },
     "execution_count": 60,
     "metadata": {},
     "output_type": "execute_result"
    }
   ],
   "source": [
    "y_test.value_counts(normalize=True)"
   ]
  },
  {
   "cell_type": "code",
   "execution_count": 61,
   "id": "60b69d5f-565e-4d6a-add3-a9b88bef9167",
   "metadata": {},
   "outputs": [],
   "source": [
    "feature_list = list(model_df.columns)\n"
   ]
  },
  {
   "cell_type": "code",
   "execution_count": 62,
   "id": "1112b101-c585-409b-ad70-ba4b9be9f9cf",
   "metadata": {},
   "outputs": [
    {
     "name": "stdout",
     "output_type": "stream",
     "text": [
      "Training Features Shape: (10599, 31)\n",
      "Training Labels Shape: (10599,)\n",
      "Testing Features Shape: (3533, 31)\n",
      "Testing Labels Shape: (3533,)\n"
     ]
    }
   ],
   "source": [
    "print('Training Features Shape:', X_train.shape)\n",
    "print('Training Labels Shape:', y_train.shape)\n",
    "print('Testing Features Shape:', X_test.shape)\n",
    "print('Testing Labels Shape:', y_test.shape)"
   ]
  },
  {
   "cell_type": "code",
   "execution_count": 63,
   "id": "824c973b-acf0-4589-b04b-cb763e49a3ea",
   "metadata": {},
   "outputs": [
    {
     "data": {
      "text/plain": [
       "283"
      ]
     },
     "execution_count": 63,
     "metadata": {},
     "output_type": "execute_result"
    }
   ],
   "source": [
    "y_test.sum()\n"
   ]
  },
  {
   "cell_type": "code",
   "execution_count": 64,
   "id": "6615dd09-efe3-471b-a568-83695a7db8be",
   "metadata": {},
   "outputs": [
    {
     "data": {
      "text/plain": [
       "3250"
      ]
     },
     "execution_count": 64,
     "metadata": {},
     "output_type": "execute_result"
    }
   ],
   "source": [
    "len(y_test) - y_test.sum()"
   ]
  },
  {
   "cell_type": "code",
   "execution_count": null,
   "id": "20dd3c6d-aaa7-4ca2-9e8a-c5e723f45549",
   "metadata": {},
   "outputs": [],
   "source": []
  },
  {
   "cell_type": "code",
   "execution_count": 65,
   "id": "930878d7-1d2d-41d2-b8e9-40f3f4ad13e4",
   "metadata": {},
   "outputs": [],
   "source": [
    "from sklearn.ensemble import RandomForestClassifier\n",
    "from sklearn.model_selection import StratifiedKFold\n"
   ]
  },
  {
   "cell_type": "code",
   "execution_count": 66,
   "id": "6a41d6c8-11a1-4554-877e-2d0eb504d02f",
   "metadata": {},
   "outputs": [],
   "source": [
    "rf = RandomForestClassifier(class_weight='balanced', random_state=42)"
   ]
  },
  {
   "cell_type": "code",
   "execution_count": 67,
   "id": "b49ba896-e33e-49f9-9585-42c5984da716",
   "metadata": {},
   "outputs": [],
   "source": [
    "rf_classifier = rf.fit(X_train, y_train)"
   ]
  },
  {
   "cell_type": "code",
   "execution_count": 68,
   "id": "600b172d-5add-4567-81af-ab1051ddad46",
   "metadata": {},
   "outputs": [],
   "source": [
    "preds = rf_classifier.predict(X_test)"
   ]
  },
  {
   "cell_type": "code",
   "execution_count": 69,
   "id": "0a3da587-a4e0-4b2a-8e93-fe057feed9c2",
   "metadata": {},
   "outputs": [],
   "source": [
    "from sklearn import metrics"
   ]
  },
  {
   "cell_type": "code",
   "execution_count": 70,
   "id": "e5dd055c-debd-45f3-aa66-835f77ed5d1f",
   "metadata": {},
   "outputs": [
    {
     "name": "stdout",
     "output_type": "stream",
     "text": [
      "Accuracy: 0.97594112652137\n",
      "Precision: 0.9267241379310345\n",
      "Recall: 0.7597173144876325\n",
      "F1: 0.8349514563106797\n"
     ]
    }
   ],
   "source": [
    "print(\"Accuracy:\",metrics.accuracy_score(y_test, preds))\n",
    "print(\"Precision:\",metrics.precision_score(y_test, preds))\n",
    "print(\"Recall:\",metrics.recall_score(y_test, preds))\n",
    "print(\"F1:\",metrics.f1_score(y_test, preds))\n"
   ]
  },
  {
   "cell_type": "code",
   "execution_count": 71,
   "id": "514d48be-0e7f-428c-9c1c-f7133daf9686",
   "metadata": {},
   "outputs": [
    {
     "data": {
      "text/plain": [
       "Text(0.8, 0.06, 'F1 Score')"
      ]
     },
     "execution_count": 71,
     "metadata": {},
     "output_type": "execute_result"
    },
    {
     "data": {
      "image/png": "[encoded data removed]",
      "text/plain": [
       "<Figure size 252x360 with 1 Axes>"
      ]
     },
     "metadata": {},
     "output_type": "display_data"
    }
   ],
   "source": [
    "sns.set_style('whitegrid')\n",
    "scores = ['scores']\n",
    "fig, ax = plt.subplots(figsize=(3.5, 5))\n",
    "sns.scatterplot(x=scores, y=metrics.accuracy_score(y_test, preds), marker='D', color='#4878d0', s=140, ax=ax)\n",
    "sns.scatterplot(x=scores, y=metrics.precision_score(y_test, preds), marker='D', color='#ee854a', s=140, ax=ax)\n",
    "sns.scatterplot(x=scores, y=metrics.recall_score(y_test, preds), marker='D', color='#d5bb67', s=140, ax=ax)\n",
    "sns.scatterplot(x=scores, y=metrics.f1_score(y_test, preds), marker='D', color='#82c6e2', s=140, ax=ax)\n",
    "ax.annotate('Accuracy',\n",
    "            xy=(.54, 0.96),\n",
    "            xytext=(0.8, 0.98),\n",
    "            xycoords=('axes fraction'),\n",
    "            fontsize=14,\n",
    "            arrowprops=dict(facecolor='black'), \n",
    "           horizontalalignment='center', verticalalignment='top')\n",
    "ax.annotate('Precision',\n",
    "            xy=(.54, 0.75),\n",
    "            xytext=(0.8, 0.77),\n",
    "            xycoords='axes fraction',\n",
    "            fontsize=14,\n",
    "            arrowprops=dict(facecolor='black'), \n",
    "           horizontalalignment='center', verticalalignment='top')\n",
    "ax.annotate('Recall',\n",
    "            xy=(.54, 0.36),\n",
    "            xytext=(0.8, 0.38),\n",
    "            xycoords='axes fraction',\n",
    "            fontsize=14,\n",
    "            arrowprops=dict(facecolor='black'), \n",
    "           horizontalalignment='center', verticalalignment='top')\n",
    "ax.annotate('F1 Score',\n",
    "            xy=(.54, 0.04),\n",
    "            xytext=(0.8, 0.06),\n",
    "            xycoords='axes fraction',\n",
    "            fontsize=14,\n",
    "            arrowprops=dict(facecolor='black'), \n",
    "           horizontalalignment='center', verticalalignment='top')\n"
   ]
  },
  {
   "cell_type": "code",
   "execution_count": 72,
   "id": "886181c8-4996-4f12-988a-82db4c31196a",
   "metadata": {},
   "outputs": [],
   "source": [
    "pred_prob = rf.predict_proba(X_test)"
   ]
  },
  {
   "cell_type": "code",
   "execution_count": 73,
   "id": "433605dc-ce83-47c3-b85d-6b7beed87f76",
   "metadata": {},
   "outputs": [],
   "source": [
    "# Just keep probabilities for positive class (fraud)\n",
    "y_hat_fraud = pred_prob[:, 1]"
   ]
  },
  {
   "cell_type": "code",
   "execution_count": 74,
   "id": "88dcb795-fc9f-48c8-bc14-11360a51153b",
   "metadata": {},
   "outputs": [
    {
     "data": {
      "text/plain": [
       "array([0.01, 0.  , 0.  , ..., 0.93, 0.01, 0.01])"
      ]
     },
     "execution_count": 74,
     "metadata": {},
     "output_type": "execute_result"
    }
   ],
   "source": [
    "y_hat_fraud"
   ]
  },
  {
   "cell_type": "code",
   "execution_count": 75,
   "id": "e1d66730-4259-4320-8465-a75085a4d53c",
   "metadata": {},
   "outputs": [],
   "source": [
    "from sklearn.metrics import roc_curve"
   ]
  },
  {
   "cell_type": "code",
   "execution_count": 76,
   "id": "4dbd6a8e-8ab8-40c7-9def-c1104248811b",
   "metadata": {},
   "outputs": [],
   "source": [
    "fpr, tpr, thresh = roc_curve(y_test, y_hat_fraud)"
   ]
  },
  {
   "cell_type": "code",
   "execution_count": 77,
   "id": "2bb1de2c-d885-4df5-a5fe-262c8b98b7fd",
   "metadata": {},
   "outputs": [
    {
     "data": {
      "image/png": "[encoded data removed]",
      "text/plain": [
       "<Figure size 576x396 with 1 Axes>"
      ]
     },
     "metadata": {},
     "output_type": "display_data"
    }
   ],
   "source": [
    "plt.style.use('seaborn')\n",
    "sns.set_style('whitegrid')\n",
    "\n",
    "plt.plot(fpr, tpr, linestyle='--',color='red', marker='.', alpha=0.6, label='Random Forest')\n",
    "plt.plot([0,1], [0,1], linestyle='--', label='Random Guess')\n",
    "\n",
    "plt.title('ROC curve for Test Set')\n",
    "plt.xlabel('False Positive Rate')\n",
    "plt.ylabel('True Positive rate')\n",
    "plt.xlabel('False Positive Rate')\n",
    "plt.ylabel('True Positive Rate')\n",
    "\n",
    "plt.legend(loc='best')\n",
    "plt.show();"
   ]
  },
  {
   "cell_type": "code",
   "execution_count": 78,
   "id": "d0bf7741-63d4-46a2-81ea-052d45722c5b",
   "metadata": {},
   "outputs": [],
   "source": [
    "gmeans = np.sqrt(tpr * (1-fpr))"
   ]
  },
  {
   "cell_type": "code",
   "execution_count": 79,
   "id": "f59fae5c-8ee0-4b1f-8827-143b40a1d66b",
   "metadata": {},
   "outputs": [],
   "source": [
    "ix = np.argmax(gmeans)"
   ]
  },
  {
   "cell_type": "code",
   "execution_count": 80,
   "id": "b608667d-8519-4ca1-bda2-2c0a88f1fa1e",
   "metadata": {},
   "outputs": [
    {
     "name": "stdout",
     "output_type": "stream",
     "text": [
      "Best Threshold = 0.060000, G-mean=0.946\n"
     ]
    }
   ],
   "source": [
    "print('Best Threshold = %f, G-mean=%.3f' % (thresh[ix], gmeans[ix]))"
   ]
  },
  {
   "cell_type": "code",
   "execution_count": 81,
   "id": "fdab5680-6b41-49b4-9971-95d122771ed7",
   "metadata": {},
   "outputs": [
    {
     "data": {
      "image/png": "[encoded data removed]",
      "text/plain": [
       "<Figure size 576x396 with 1 Axes>"
      ]
     },
     "metadata": {},
     "output_type": "display_data"
    }
   ],
   "source": [
    "fig, ax = plt.subplots()\n",
    "plt.style.use('seaborn')\n",
    "sns.set_style('whitegrid')\n",
    "\n",
    "plt.plot(fpr, tpr, linestyle='--',color='red', marker='.', alpha=0.6, label='Random Forest')\n",
    "plt.plot([0,1], [0,1], linestyle='--', label='Random Guess')\n",
    "plt.scatter(fpr[ix], tpr[ix], marker='o', color='black', label='Best')\n",
    "\n",
    "ax.annotate('Best Threshold',\n",
    "            xy=(0.15, 0.9),\n",
    "            xytext=(.6, 0.8),\n",
    "            xycoords='axes fraction',\n",
    "            fontsize=15,\n",
    "            arrowprops=dict(facecolor='black'), \n",
    "           horizontalalignment='right', verticalalignment='top')\n",
    "plt.title('ROC curve for Test Set')\n",
    "plt.xlabel('False Positive Rate')\n",
    "plt.ylabel('True Positive rate')\n",
    "plt.xlabel('False Positive Rate')\n",
    "plt.ylabel('True Positive Rate')\n",
    "\n",
    "plt.legend(loc='best')\n",
    "plt.show();"
   ]
  },
  {
   "cell_type": "code",
   "execution_count": 82,
   "id": "69d2b6c0-5d40-443a-8002-ca12c2323d77",
   "metadata": {},
   "outputs": [
    {
     "data": {
      "text/plain": [
       "0.06"
      ]
     },
     "execution_count": 82,
     "metadata": {},
     "output_type": "execute_result"
    }
   ],
   "source": [
    "J = tpr-fpr\n",
    "ix = np.argmax(J)\n",
    "best_thresh = thresh[ix]\n",
    "best_thresh"
   ]
  },
  {
   "cell_type": "code",
   "execution_count": 83,
   "id": "61e89ecc-271a-41da-88b0-186503d7102b",
   "metadata": {},
   "outputs": [],
   "source": [
    "from sklearn.metrics import precision_recall_curve"
   ]
  },
  {
   "cell_type": "code",
   "execution_count": 84,
   "id": "9bdcdcc8-2a1d-4392-88b9-99ba4b16c9b6",
   "metadata": {},
   "outputs": [],
   "source": [
    "precision, recall, thresholds = precision_recall_curve(y_test, preds)"
   ]
  },
  {
   "cell_type": "code",
   "execution_count": 85,
   "id": "72d89d51-61ff-412a-a2d5-dd35013f459e",
   "metadata": {},
   "outputs": [],
   "source": [
    "no_skill = len(y_test[y_test=='True']) / len(y_test)"
   ]
  },
  {
   "cell_type": "code",
   "execution_count": 86,
   "id": "66e64780-b57b-4160-bc19-07c1a64e236a",
   "metadata": {},
   "outputs": [
    {
     "data": {
      "image/png": "[encoded data removed]",
      "text/plain": [
       "<Figure size 576x396 with 1 Axes>"
      ]
     },
     "metadata": {},
     "output_type": "display_data"
    }
   ],
   "source": [
    "plt.plot([0, 1], [no_skill, no_skill], linestyle='--', label='Random Guess')\n",
    "plt.plot(recall, precision, marker = '.', label = 'Random Forest')\n",
    "plt.xlabel('Recall')\n",
    "plt.ylabel('Precision')\n",
    "plt.legend()\n",
    "plt.show();"
   ]
  },
  {
   "cell_type": "code",
   "execution_count": 87,
   "id": "297e7c09-a8f7-48eb-8c71-2bcbe0769b0f",
   "metadata": {},
   "outputs": [
    {
     "name": "stdout",
     "output_type": "stream",
     "text": [
      "Best Threshold to balance Precision, Recall = 1.000000, F-Score=0.835\n"
     ]
    }
   ],
   "source": [
    "#Use F score to determine a good balance between precision and recall; see how low that makes precision and if we want to bump it for recall \n",
    "fscore = (2 * precision * recall) / (precision + recall)\n",
    "ix = np.argmax(fscore)\n",
    "print('Best Threshold to balance Precision, Recall = %f, F-Score=%.3f' % (thresh[ix], fscore[ix]))"
   ]
  },
  {
   "cell_type": "code",
   "execution_count": 88,
   "id": "6e05c8c4-9472-4f14-ac64-435943a02d01",
   "metadata": {},
   "outputs": [],
   "source": [
    "threshold = 0.06\n",
    "\n",
    "pred_prob = rf.predict_proba(X_test)\n",
    "predicted = (pred_prob [:, 1] >= threshold).astype('int')\n",
    "accuracy = metrics.accuracy_score(y_test, predicted)\n",
    "recall = metrics.recall_score(y_test, predicted)\n",
    "precision = metrics.precision_score(y_test, predicted)\n",
    "f1 = metrics.f1_score(y_test, predicted)"
   ]
  },
  {
   "cell_type": "code",
   "execution_count": 89,
   "id": "426a9a8f-3813-4f33-a55d-dd1553bc9e2f",
   "metadata": {},
   "outputs": [
    {
     "data": {
      "text/plain": [
       "(0.9241437871497311, 0.9717314487632509, 0.514018691588785, 0.6723716381418092)"
      ]
     },
     "execution_count": 89,
     "metadata": {},
     "output_type": "execute_result"
    }
   ],
   "source": [
    "accuracy, recall, precision, f1"
   ]
  },
  {
   "cell_type": "code",
   "execution_count": 99,
   "id": "19d91ab4-1180-49ee-bffa-b8b9ab4e1fc1",
   "metadata": {},
   "outputs": [
    {
     "data": {
      "text/plain": [
       "array([[2990,  260],\n",
       "       [   8,  275]])"
      ]
     },
     "execution_count": 99,
     "metadata": {},
     "output_type": "execute_result"
    }
   ],
   "source": [
    "from sklearn.metrics import confusion_matrix\n",
    "cf_thresh = confusion_matrix(y_test, predicted)\n",
    "cf_thresh"
   ]
  },
  {
   "cell_type": "code",
   "execution_count": 100,
   "id": "4e6d267b-2204-4bfe-9585-2b18312caf58",
   "metadata": {},
   "outputs": [],
   "source": [
    "thresholds = np.linspace(0, 1, 100)\n",
    "thresholds = thresholds.round(2)\n",
    "accuracy = []\n",
    "recall = []\n",
    "precision = []\n",
    "f1 = []\n",
    "df = pd.DataFrame(index=thresholds)\n",
    "for thresh in thresholds: \n",
    "    pred_prob = rf.predict_proba(X_test)\n",
    "    predicted = (pred_prob[:, 1] >= thresh).astype('int')\n",
    "    acc = metrics.accuracy_score(y_test, predicted)\n",
    "    rec = metrics.recall_score(y_test, predicted)\n",
    "    prec = metrics.precision_score(y_test, predicted)\n",
    "    f1sc = metrics.f1_score(y_test, predicted)\n",
    "    accuracy.append(acc)\n",
    "    recall.append(rec)\n",
    "    precision.append(prec)\n",
    "    f1.append(f1sc)\n",
    "\n",
    "df['accuracy'] = accuracy\n",
    "df['recall'] = recall\n",
    "df['precision'] = precision\n",
    "df['f1'] = f1\n",
    "\n"
   ]
  },
  {
   "cell_type": "code",
   "execution_count": 101,
   "id": "1fd04da9-26c3-426a-b83a-5fe1bea204b9",
   "metadata": {},
   "outputs": [
    {
     "data": {
      "text/html": [
       "<div>\n",
       "<style scoped>\n",
       "    .dataframe tbody tr th:only-of-type {\n",
       "        vertical-align: middle;\n",
       "    }\n",
       "\n",
       "    .dataframe tbody tr th {\n",
       "        vertical-align: top;\n",
       "    }\n",
       "\n",
       "    .dataframe thead th {\n",
       "        text-align: right;\n",
       "    }\n",
       "</style>\n",
       "<table border=\"1\" class=\"dataframe\">\n",
       "  <thead>\n",
       "    <tr style=\"text-align: right;\">\n",
       "      <th></th>\n",
       "      <th>accuracy</th>\n",
       "      <th>recall</th>\n",
       "      <th>precision</th>\n",
       "      <th>f1</th>\n",
       "    </tr>\n",
       "  </thead>\n",
       "  <tbody>\n",
       "    <tr>\n",
       "      <th>0.00</th>\n",
       "      <td>0.080102</td>\n",
       "      <td>1.000000</td>\n",
       "      <td>0.080102</td>\n",
       "      <td>0.148323</td>\n",
       "    </tr>\n",
       "    <tr>\n",
       "      <th>0.01</th>\n",
       "      <td>0.627512</td>\n",
       "      <td>0.996466</td>\n",
       "      <td>0.176581</td>\n",
       "      <td>0.300000</td>\n",
       "    </tr>\n",
       "    <tr>\n",
       "      <th>0.02</th>\n",
       "      <td>0.779224</td>\n",
       "      <td>0.996466</td>\n",
       "      <td>0.265787</td>\n",
       "      <td>0.419643</td>\n",
       "    </tr>\n",
       "    <tr>\n",
       "      <th>0.03</th>\n",
       "      <td>0.838381</td>\n",
       "      <td>0.996466</td>\n",
       "      <td>0.330986</td>\n",
       "      <td>0.496916</td>\n",
       "    </tr>\n",
       "    <tr>\n",
       "      <th>0.04</th>\n",
       "      <td>0.880838</td>\n",
       "      <td>0.989399</td>\n",
       "      <td>0.401146</td>\n",
       "      <td>0.570846</td>\n",
       "    </tr>\n",
       "    <tr>\n",
       "      <th>...</th>\n",
       "      <td>...</td>\n",
       "      <td>...</td>\n",
       "      <td>...</td>\n",
       "      <td>...</td>\n",
       "    </tr>\n",
       "    <tr>\n",
       "      <th>0.96</th>\n",
       "      <td>0.938579</td>\n",
       "      <td>0.236749</td>\n",
       "      <td>0.985294</td>\n",
       "      <td>0.381766</td>\n",
       "    </tr>\n",
       "    <tr>\n",
       "      <th>0.97</th>\n",
       "      <td>0.935749</td>\n",
       "      <td>0.201413</td>\n",
       "      <td>0.982759</td>\n",
       "      <td>0.334311</td>\n",
       "    </tr>\n",
       "    <tr>\n",
       "      <th>0.98</th>\n",
       "      <td>0.931503</td>\n",
       "      <td>0.144876</td>\n",
       "      <td>1.000000</td>\n",
       "      <td>0.253086</td>\n",
       "    </tr>\n",
       "    <tr>\n",
       "      <th>0.99</th>\n",
       "      <td>0.927540</td>\n",
       "      <td>0.095406</td>\n",
       "      <td>1.000000</td>\n",
       "      <td>0.174194</td>\n",
       "    </tr>\n",
       "    <tr>\n",
       "      <th>1.00</th>\n",
       "      <td>0.923578</td>\n",
       "      <td>0.045936</td>\n",
       "      <td>1.000000</td>\n",
       "      <td>0.087838</td>\n",
       "    </tr>\n",
       "  </tbody>\n",
       "</table>\n",
       "<p>100 rows × 4 columns</p>\n",
       "</div>"
      ],
      "text/plain": [
       "      accuracy    recall  precision        f1\n",
       "0.00  0.080102  1.000000   0.080102  0.148323\n",
       "0.01  0.627512  0.996466   0.176581  0.300000\n",
       "0.02  0.779224  0.996466   0.265787  0.419643\n",
       "0.03  0.838381  0.996466   0.330986  0.496916\n",
       "0.04  0.880838  0.989399   0.401146  0.570846\n",
       "...        ...       ...        ...       ...\n",
       "0.96  0.938579  0.236749   0.985294  0.381766\n",
       "0.97  0.935749  0.201413   0.982759  0.334311\n",
       "0.98  0.931503  0.144876   1.000000  0.253086\n",
       "0.99  0.927540  0.095406   1.000000  0.174194\n",
       "1.00  0.923578  0.045936   1.000000  0.087838\n",
       "\n",
       "[100 rows x 4 columns]"
      ]
     },
     "execution_count": 101,
     "metadata": {},
     "output_type": "execute_result"
    }
   ],
   "source": [
    "df"
   ]
  },
  {
   "cell_type": "code",
   "execution_count": 102,
   "id": "b4caac88-30e7-45f9-a039-6b0fa4a2c17a",
   "metadata": {},
   "outputs": [],
   "source": [
    "thresholds_df = df.copy"
   ]
  },
  {
   "cell_type": "code",
   "execution_count": 103,
   "id": "af19b7f1-03bd-42ae-9ead-83120d433c75",
   "metadata": {},
   "outputs": [
    {
     "name": "stdout",
     "output_type": "stream",
     "text": [
      "['#4878d0', '#ee854a', '#6acc64', '#d65f5f', '#956cb4', '#8c613c', '#dc7ec0', '#797979', '#d5bb67', '#82c6e2']\n"
     ]
    },
    {
     "data": {
      "text/html": [
       "<svg  width=\"550\" height=\"55\"><rect x=\"0\" y=\"0\" width=\"55\" height=\"55\" style=\"fill:#4878d0;stroke-width:2;stroke:rgb(255,255,255)\"/><rect x=\"55\" y=\"0\" width=\"55\" height=\"55\" style=\"fill:#ee854a;stroke-width:2;stroke:rgb(255,255,255)\"/><rect x=\"110\" y=\"0\" width=\"55\" height=\"55\" style=\"fill:#6acc64;stroke-width:2;stroke:rgb(255,255,255)\"/><rect x=\"165\" y=\"0\" width=\"55\" height=\"55\" style=\"fill:#d65f5f;stroke-width:2;stroke:rgb(255,255,255)\"/><rect x=\"220\" y=\"0\" width=\"55\" height=\"55\" style=\"fill:#956cb4;stroke-width:2;stroke:rgb(255,255,255)\"/><rect x=\"275\" y=\"0\" width=\"55\" height=\"55\" style=\"fill:#8c613c;stroke-width:2;stroke:rgb(255,255,255)\"/><rect x=\"330\" y=\"0\" width=\"55\" height=\"55\" style=\"fill:#dc7ec0;stroke-width:2;stroke:rgb(255,255,255)\"/><rect x=\"385\" y=\"0\" width=\"55\" height=\"55\" style=\"fill:#797979;stroke-width:2;stroke:rgb(255,255,255)\"/><rect x=\"440\" y=\"0\" width=\"55\" height=\"55\" style=\"fill:#d5bb67;stroke-width:2;stroke:rgb(255,255,255)\"/><rect x=\"495\" y=\"0\" width=\"55\" height=\"55\" style=\"fill:#82c6e2;stroke-width:2;stroke:rgb(255,255,255)\"/></svg>"
      ],
      "text/plain": [
       "['#4878d0',\n",
       " '#ee854a',\n",
       " '#6acc64',\n",
       " '#d65f5f',\n",
       " '#956cb4',\n",
       " '#8c613c',\n",
       " '#dc7ec0',\n",
       " '#797979',\n",
       " '#d5bb67',\n",
       " '#82c6e2']"
      ]
     },
     "execution_count": 103,
     "metadata": {},
     "output_type": "execute_result"
    }
   ],
   "source": [
    "pal = sns.color_palette('muted')\n",
    "hexes = pal.as_hex()\n",
    "print(hexes)\n",
    "hexes"
   ]
  },
  {
   "cell_type": "code",
   "execution_count": 104,
   "id": "18d9ebff-09e5-475c-9ce2-14e3c944666b",
   "metadata": {},
   "outputs": [
    {
     "data": {
      "text/plain": [
       "Text(0.5, 0, 'Classification Thresholds')"
      ]
     },
     "execution_count": 104,
     "metadata": {},
     "output_type": "execute_result"
    },
    {
     "data": {
      "image/png": "[encoded data removed]",
      "text/plain": [
       "<Figure size 1080x432 with 1 Axes>"
      ]
     },
     "metadata": {},
     "output_type": "display_data"
    }
   ],
   "source": [
    "fig, ax = plt.subplots(figsize=(15, 6))\n",
    "sns.set_style('whitegrid')\n",
    "\n",
    "sns.lineplot(x=thresholds, y=precision, ax=ax, color='#ee854a', label='Precision', linewidth=4)\n",
    "sns.lineplot(x=thresholds, y=recall, ax=ax, color='#d5bb67', label='Recall', linewidth=4)\n",
    "sns.lineplot(x=thresholds, y=accuracy, ax=ax, color='#4878d0', label='Accuracy', alpha=0.5)\n",
    "sns.lineplot(x=thresholds, y=f1, ax=ax, color='#82c6e2', label='F1 Score', alpha=0.5)\n",
    "ax.set_title('Model Evaluation Scores for Classification Thresholds', fontsize=16)\n",
    "ax.legend(fontsize=14)\n",
    "ax.set_ylabel('Score')\n",
    "ax.set_xlabel('Classification Thresholds')"
   ]
  },
  {
   "cell_type": "code",
   "execution_count": 105,
   "id": "74fb0731-1607-42aa-b5a3-dda9fb52958e",
   "metadata": {},
   "outputs": [
    {
     "name": "stdout",
     "output_type": "stream",
     "text": [
      "{1.0}\n"
     ]
    },
    {
     "data": {
      "text/plain": [
       "Float64Index([], dtype='float64')"
      ]
     },
     "execution_count": 105,
     "metadata": {},
     "output_type": "execute_result"
    }
   ],
   "source": [
    "intersection_set = set.intersection(set(precision), set(recall))\n",
    "print(intersection_set)\n",
    "df.index[df['precision'] == 0.8409893992932862]\n"
   ]
  },
  {
   "cell_type": "code",
   "execution_count": 106,
   "id": "209e56c9-922e-4478-8c91-fce2e8d12325",
   "metadata": {},
   "outputs": [
    {
     "data": {
      "text/plain": [
       "283"
      ]
     },
     "execution_count": 106,
     "metadata": {},
     "output_type": "execute_result"
    }
   ],
   "source": [
    "fraud_count = np.sum(y_test)\n",
    "fraud_count"
   ]
  },
  {
   "cell_type": "code",
   "execution_count": 107,
   "id": "744d43cc-0ad3-4e1b-baef-27b03ca705d1",
   "metadata": {},
   "outputs": [
    {
     "data": {
      "text/plain": [
       "accuracy     0.975375\n",
       "recall       0.844523\n",
       "precision    0.847518\n",
       "f1           0.846018\n",
       "Name: 0.28, dtype: float64"
      ]
     },
     "execution_count": 107,
     "metadata": {},
     "output_type": "execute_result"
    }
   ],
   "source": [
    "df.loc[0.28]"
   ]
  },
  {
   "cell_type": "code",
   "execution_count": 108,
   "id": "8a6053d8-26b7-4159-9fdf-a6959b30a62f",
   "metadata": {},
   "outputs": [],
   "source": [
    "# thresh of 0.28 where P / R are 'balanced'\n"
   ]
  },
  {
   "cell_type": "code",
   "execution_count": 109,
   "id": "25940390-bc12-4030-a36d-6acfd825ff2f",
   "metadata": {},
   "outputs": [],
   "source": [
    "threshold = 0.28\n",
    "\n",
    "pred_prob = rf.predict_proba(X_test)\n",
    "predicted = (pred_prob [:, 1] >= threshold).astype('int')\n",
    "accuracy = metrics.accuracy_score(y_test, predicted)\n",
    "recall = metrics.recall_score(y_test, predicted)\n",
    "precision = metrics.precision_score(y_test, predicted)\n",
    "f1 = metrics.f1_score(y_test, predicted)"
   ]
  },
  {
   "cell_type": "code",
   "execution_count": 110,
   "id": "7e5dbf7a-3726-4756-bfbb-b1973c93c93b",
   "metadata": {},
   "outputs": [
    {
     "data": {
      "text/plain": [
       "(0.9753750353806963,\n",
       " 0.8475177304964538,\n",
       " 0.8445229681978799,\n",
       " 0.8460176991150442)"
      ]
     },
     "execution_count": 110,
     "metadata": {},
     "output_type": "execute_result"
    }
   ],
   "source": [
    "accuracy, precision, recall, f1"
   ]
  },
  {
   "cell_type": "code",
   "execution_count": 111,
   "id": "ae4443fd-5989-4593-a1e1-3c79b3518165",
   "metadata": {},
   "outputs": [
    {
     "data": {
      "text/plain": [
       "array([[3207,   43],\n",
       "       [  44,  239]])"
      ]
     },
     "execution_count": 111,
     "metadata": {},
     "output_type": "execute_result"
    }
   ],
   "source": [
    "confusion = confusion_matrix(y_test, predicted)\n",
    "confusion"
   ]
  },
  {
   "cell_type": "code",
   "execution_count": 112,
   "id": "1ac35dff-030c-4570-9aef-446a9eb29014",
   "metadata": {},
   "outputs": [
    {
     "data": {
      "text/plain": [
       "(0.75, 1.0)"
      ]
     },
     "execution_count": 112,
     "metadata": {},
     "output_type": "execute_result"
    },
    {
     "data": {
      "image/png": "[encoded data removed]",
      "text/plain": [
       "<Figure size 288x360 with 1 Axes>"
      ]
     },
     "metadata": {},
     "output_type": "display_data"
    }
   ],
   "source": [
    "sns.set_style('whitegrid')\n",
    "scores = ['scores']\n",
    "fig, ax = plt.subplots(figsize=(4, 5))\n",
    "sns.scatterplot(x=scores, y=metrics.accuracy_score(y_test, predicted), marker='D', color='#4878d0', s=140, ax=ax)\n",
    "# sns.scatterplot(x=scores, y=metrics.precision_score(y_test, predicted), marker='D', color='#ee854a', s=210, ax=ax)\n",
    "sns.scatterplot(x=scores, y=metrics.recall_score(y_test, predicted), marker='D', color='#d5bb67', s=180, ax=ax)\n",
    "# sns.scatterplot(x=scores, y=metrics.f1_score(y_test, predicted), marker='D', color='#82c6e2', s=140, ax=ax)\n",
    "ax.annotate('Accuracy',\n",
    "            xy=(.54, 0.90),\n",
    "            xytext=(0.8, 0.92),\n",
    "            xycoords=('axes fraction'),\n",
    "            fontsize=14,\n",
    "            arrowprops=dict(facecolor='black'), \n",
    "           horizontalalignment='center', verticalalignment='top')\n",
    "ax.annotate('Precision,\\n Recall, and \\n F1',\n",
    "            xy=(.54, 0.38),\n",
    "            xytext=(0.8, 0.40),\n",
    "            xycoords='axes fraction',\n",
    "            fontsize=14,\n",
    "            arrowprops=dict(facecolor='black'), \n",
    "           horizontalalignment='center', verticalalignment='top')\n",
    "ax.set_ylim(0.75,1)"
   ]
  },
  {
   "cell_type": "code",
   "execution_count": null,
   "id": "ea00f3dd-50e7-4e84-a1ef-794f210fc617",
   "metadata": {},
   "outputs": [],
   "source": []
  },
  {
   "cell_type": "code",
   "execution_count": null,
   "id": "daf1da94-a030-4c21-bd55-a11f6882c7f3",
   "metadata": {},
   "outputs": [],
   "source": []
  },
  {
   "cell_type": "code",
   "execution_count": 67,
   "id": "3c0cab66-7b7a-462d-85eb-e2ed838e7b45",
   "metadata": {},
   "outputs": [],
   "source": [
    "from sklearn.linear_model import LogisticRegression"
   ]
  },
  {
   "cell_type": "code",
   "execution_count": 68,
   "id": "feb170b1-ec2c-4bdb-84a3-970126b0d057",
   "metadata": {},
   "outputs": [],
   "source": [
    "lr = LogisticRegression(class_weight='balanced', random_state=42)"
   ]
  },
  {
   "cell_type": "code",
   "execution_count": 69,
   "id": "1e4949aa-6342-4843-9689-7fc3d91bf955",
   "metadata": {},
   "outputs": [
    {
     "data": {
      "text/plain": [
       "LogisticRegression(class_weight='balanced', random_state=42)"
      ]
     },
     "execution_count": 69,
     "metadata": {},
     "output_type": "execute_result"
    }
   ],
   "source": [
    "lr.fit(X_train, y_train)"
   ]
  },
  {
   "cell_type": "code",
   "execution_count": 70,
   "id": "6142eaa7-3b9e-490e-b94f-a6a747f0978c",
   "metadata": {},
   "outputs": [],
   "source": [
    "pred_lr = lr.predict(X_test)"
   ]
  },
  {
   "cell_type": "code",
   "execution_count": 71,
   "id": "f05cef34-0b9f-4128-9a96-74c2fd840952",
   "metadata": {},
   "outputs": [
    {
     "name": "stdout",
     "output_type": "stream",
     "text": [
      "Accuracy: 0.7449759411265213\n",
      "Precision: 0.22162162162162163\n",
      "Recall: 0.8692579505300353\n",
      "F1: 0.353194544149318\n"
     ]
    }
   ],
   "source": [
    "print(\"Accuracy:\",metrics.accuracy_score(y_test, pred_lr))\n",
    "print(\"Precision:\",metrics.precision_score(y_test, pred_lr))\n",
    "print(\"Recall:\",metrics.recall_score(y_test, pred_lr))\n",
    "print(\"F1:\",metrics.f1_score(y_test, pred_lr))\n"
   ]
  },
  {
   "cell_type": "code",
   "execution_count": null,
   "id": "d6fc7de5-8027-4f4f-bd2e-2df467e3e62a",
   "metadata": {},
   "outputs": [],
   "source": []
  },
  {
   "cell_type": "code",
   "execution_count": null,
   "id": "91b2d377-d680-4232-b456-7cb2a337e647",
   "metadata": {},
   "outputs": [],
   "source": []
  },
  {
   "cell_type": "code",
   "execution_count": 72,
   "id": "d5166e0f-84da-4007-888b-d1e23e789820",
   "metadata": {},
   "outputs": [],
   "source": [
    "from sklearn.metrics import confusion_matrix"
   ]
  },
  {
   "cell_type": "code",
   "execution_count": 73,
   "id": "b5a43361-aaea-4397-a28f-40ef53c69fe6",
   "metadata": {},
   "outputs": [],
   "source": [
    "conf_mat = confusion_matrix(y_test, preds)\n",
    "conf_mat_lr = confusion_matrix(y_test, pred_lr)"
   ]
  },
  {
   "cell_type": "code",
   "execution_count": 74,
   "id": "55cb8352-8cf0-4b2b-8d9c-562aa3cdeb3d",
   "metadata": {},
   "outputs": [
    {
     "data": {
      "text/plain": [
       "(array([[3234,   16],\n",
       "        [  67,  216]]),\n",
       " array([[2386,  864],\n",
       "        [  37,  246]]))"
      ]
     },
     "execution_count": 74,
     "metadata": {},
     "output_type": "execute_result"
    }
   ],
   "source": [
    "# tn, fp, fn, tp\n",
    "conf_mat, conf_mat_lr"
   ]
  },
  {
   "cell_type": "code",
   "execution_count": 113,
   "id": "2751f01d-06d8-49d6-bb6d-5396bf58c96b",
   "metadata": {},
   "outputs": [
    {
     "data": {
      "text/plain": [
       "sale_duration2        0.163538\n",
       "sale_duration         0.142902\n",
       "num_payouts           0.080024\n",
       "user_age              0.078747\n",
       "user_type             0.051374\n",
       "payout_type           0.049480\n",
       "num_order             0.042945\n",
       "org_twitter           0.040303\n",
       "body_length           0.037765\n",
       "gts                   0.034375\n",
       "user_created          0.033973\n",
       "org_facebook          0.031938\n",
       "email_domain          0.024920\n",
       "name_length           0.017897\n",
       "event_published       0.017178\n",
       "approx_payout_date    0.016276\n",
       "org_name              0.016208\n",
       "event_end             0.015849\n",
       "delivery_method       0.015753\n",
       "event_start           0.014811\n",
       "event_created         0.014544\n",
       "object_id             0.014372\n",
       "payee_name            0.011791\n",
       "channels              0.009397\n",
       "country               0.006173\n",
       "currency              0.005848\n",
       "has_logo              0.003547\n",
       "fb_published          0.003171\n",
       "show_map              0.002604\n",
       "listed                0.001860\n",
       "has_analytics         0.000437\n",
       "dtype: float64"
      ]
     },
     "execution_count": 113,
     "metadata": {},
     "output_type": "execute_result"
    }
   ],
   "source": [
    "feature_imp = pd.Series(rf.feature_importances_,index=feature_list).sort_values(ascending=False)\n",
    "feature_imp"
   ]
  },
  {
   "cell_type": "code",
   "execution_count": 114,
   "id": "22b7ddc7-660e-48b9-98cc-76c1edb00a43",
   "metadata": {},
   "outputs": [
    {
     "data": {
      "image/png": "[encoded data removed]",
      "text/plain": [
       "<Figure size 936x360 with 1 Axes>"
      ]
     },
     "metadata": {},
     "output_type": "display_data"
    }
   ],
   "source": [
    "fig, ax = plt.subplots(figsize=(13, 5))\n",
    "sns.lineplot(data=feature_imp, ax=ax)\n",
    "ax.tick_params(axis='x', rotation=45)"
   ]
  },
  {
   "cell_type": "code",
   "execution_count": 115,
   "id": "d718bf00-3c2e-4514-a1f0-a35dd25bd2eb",
   "metadata": {},
   "outputs": [
    {
     "data": {
      "text/plain": [
       "{'bootstrap': True,\n",
       " 'ccp_alpha': 0.0,\n",
       " 'class_weight': 'balanced',\n",
       " 'criterion': 'gini',\n",
       " 'max_depth': None,\n",
       " 'max_features': 'auto',\n",
       " 'max_leaf_nodes': None,\n",
       " 'max_samples': None,\n",
       " 'min_impurity_decrease': 0.0,\n",
       " 'min_impurity_split': None,\n",
       " 'min_samples_leaf': 1,\n",
       " 'min_samples_split': 2,\n",
       " 'min_weight_fraction_leaf': 0.0,\n",
       " 'n_estimators': 100,\n",
       " 'n_jobs': None,\n",
       " 'oob_score': False,\n",
       " 'random_state': 42,\n",
       " 'verbose': 0,\n",
       " 'warm_start': False}"
      ]
     },
     "execution_count": 115,
     "metadata": {},
     "output_type": "execute_result"
    }
   ],
   "source": [
    "rf.get_params()"
   ]
  },
  {
   "cell_type": "code",
   "execution_count": 116,
   "id": "f87fecbf-8d56-428d-aff1-367ef03485a4",
   "metadata": {},
   "outputs": [
    {
     "data": {
      "text/plain": [
       "array([False,  True])"
      ]
     },
     "execution_count": 116,
     "metadata": {},
     "output_type": "execute_result"
    }
   ],
   "source": [
    "np.unique( preds )"
   ]
  },
  {
   "cell_type": "code",
   "execution_count": 117,
   "id": "130eb65a-a2e3-48f9-96ee-d3ad3687ff86",
   "metadata": {},
   "outputs": [],
   "source": [
    "param_grid = {'n_estimators': [140, 150, 175], 'criterion': ['gini', 'entropy'], \n",
    "             'max_depth': [10, 20, 40], 'max_features': [5, 10, 20]}"
   ]
  },
  {
   "cell_type": "code",
   "execution_count": 118,
   "id": "33bdc142-b895-4423-b809-09da3b72847a",
   "metadata": {},
   "outputs": [],
   "source": [
    "from sklearn.model_selection import GridSearchCV, StratifiedKFold"
   ]
  },
  {
   "cell_type": "code",
   "execution_count": 119,
   "id": "cb8f87e1-5351-49fe-8292-ee9b8abeb7b0",
   "metadata": {},
   "outputs": [],
   "source": [
    "skf = StratifiedKFold()"
   ]
  },
  {
   "cell_type": "code",
   "execution_count": 120,
   "id": "95840e38-c50d-4330-9abe-270536abec97",
   "metadata": {},
   "outputs": [
    {
     "ename": "KeyboardInterrupt",
     "evalue": "",
     "output_type": "error",
     "traceback": [
      "\u001b[0;31m---------------------------------------------------------------------------\u001b[0m",
      "\u001b[0;31mKeyboardInterrupt\u001b[0m                         Traceback (most recent call last)",
      "\u001b[0;32m<ipython-input-120-930ffde2c8ec>\u001b[0m in \u001b[0;36m<module>\u001b[0;34m\u001b[0m\n\u001b[1;32m      1\u001b[0m \u001b[0mgrid_rf\u001b[0m \u001b[0;34m=\u001b[0m \u001b[0mGridSearchCV\u001b[0m\u001b[0;34m(\u001b[0m\u001b[0mrf\u001b[0m\u001b[0;34m,\u001b[0m \u001b[0mparam_grid\u001b[0m\u001b[0;34m,\u001b[0m \u001b[0mcv\u001b[0m\u001b[0;34m=\u001b[0m\u001b[0mskf\u001b[0m\u001b[0;34m)\u001b[0m\u001b[0;34m\u001b[0m\u001b[0;34m\u001b[0m\u001b[0m\n\u001b[0;32m----> 2\u001b[0;31m \u001b[0mgrid_rf\u001b[0m\u001b[0;34m.\u001b[0m\u001b[0mfit\u001b[0m\u001b[0;34m(\u001b[0m\u001b[0mX_train\u001b[0m\u001b[0;34m,\u001b[0m \u001b[0my_train\u001b[0m\u001b[0;34m)\u001b[0m\u001b[0;34m\u001b[0m\u001b[0;34m\u001b[0m\u001b[0m\n\u001b[0m",
      "\u001b[0;32m/opt/anaconda3/lib/python3.7/site-packages/sklearn/utils/validation.py\u001b[0m in \u001b[0;36minner_f\u001b[0;34m(*args, **kwargs)\u001b[0m\n\u001b[1;32m     61\u001b[0m             \u001b[0mextra_args\u001b[0m \u001b[0;34m=\u001b[0m \u001b[0mlen\u001b[0m\u001b[0;34m(\u001b[0m\u001b[0margs\u001b[0m\u001b[0;34m)\u001b[0m \u001b[0;34m-\u001b[0m \u001b[0mlen\u001b[0m\u001b[0;34m(\u001b[0m\u001b[0mall_args\u001b[0m\u001b[0;34m)\u001b[0m\u001b[0;34m\u001b[0m\u001b[0;34m\u001b[0m\u001b[0m\n\u001b[1;32m     62\u001b[0m             \u001b[0;32mif\u001b[0m \u001b[0mextra_args\u001b[0m \u001b[0;34m<=\u001b[0m \u001b[0;36m0\u001b[0m\u001b[0;34m:\u001b[0m\u001b[0;34m\u001b[0m\u001b[0;34m\u001b[0m\u001b[0m\n\u001b[0;32m---> 63\u001b[0;31m                 \u001b[0;32mreturn\u001b[0m \u001b[0mf\u001b[0m\u001b[0;34m(\u001b[0m\u001b[0;34m*\u001b[0m\u001b[0margs\u001b[0m\u001b[0;34m,\u001b[0m \u001b[0;34m**\u001b[0m\u001b[0mkwargs\u001b[0m\u001b[0;34m)\u001b[0m\u001b[0;34m\u001b[0m\u001b[0;34m\u001b[0m\u001b[0m\n\u001b[0m\u001b[1;32m     64\u001b[0m \u001b[0;34m\u001b[0m\u001b[0m\n\u001b[1;32m     65\u001b[0m             \u001b[0;31m# extra_args > 0\u001b[0m\u001b[0;34m\u001b[0m\u001b[0;34m\u001b[0m\u001b[0;34m\u001b[0m\u001b[0m\n",
      "\u001b[0;32m/opt/anaconda3/lib/python3.7/site-packages/sklearn/model_selection/_search.py\u001b[0m in \u001b[0;36mfit\u001b[0;34m(self, X, y, groups, **fit_params)\u001b[0m\n\u001b[1;32m    839\u001b[0m                 \u001b[0;32mreturn\u001b[0m \u001b[0mresults\u001b[0m\u001b[0;34m\u001b[0m\u001b[0;34m\u001b[0m\u001b[0m\n\u001b[1;32m    840\u001b[0m \u001b[0;34m\u001b[0m\u001b[0m\n\u001b[0;32m--> 841\u001b[0;31m             \u001b[0mself\u001b[0m\u001b[0;34m.\u001b[0m\u001b[0m_run_search\u001b[0m\u001b[0;34m(\u001b[0m\u001b[0mevaluate_candidates\u001b[0m\u001b[0;34m)\u001b[0m\u001b[0;34m\u001b[0m\u001b[0;34m\u001b[0m\u001b[0m\n\u001b[0m\u001b[1;32m    842\u001b[0m \u001b[0;34m\u001b[0m\u001b[0m\n\u001b[1;32m    843\u001b[0m             \u001b[0;31m# multimetric is determined here because in the case of a callable\u001b[0m\u001b[0;34m\u001b[0m\u001b[0;34m\u001b[0m\u001b[0;34m\u001b[0m\u001b[0m\n",
      "\u001b[0;32m/opt/anaconda3/lib/python3.7/site-packages/sklearn/model_selection/_search.py\u001b[0m in \u001b[0;36m_run_search\u001b[0;34m(self, evaluate_candidates)\u001b[0m\n\u001b[1;32m   1294\u001b[0m     \u001b[0;32mdef\u001b[0m \u001b[0m_run_search\u001b[0m\u001b[0;34m(\u001b[0m\u001b[0mself\u001b[0m\u001b[0;34m,\u001b[0m \u001b[0mevaluate_candidates\u001b[0m\u001b[0;34m)\u001b[0m\u001b[0;34m:\u001b[0m\u001b[0;34m\u001b[0m\u001b[0;34m\u001b[0m\u001b[0m\n\u001b[1;32m   1295\u001b[0m         \u001b[0;34m\"\"\"Search all candidates in param_grid\"\"\"\u001b[0m\u001b[0;34m\u001b[0m\u001b[0;34m\u001b[0m\u001b[0m\n\u001b[0;32m-> 1296\u001b[0;31m         \u001b[0mevaluate_candidates\u001b[0m\u001b[0;34m(\u001b[0m\u001b[0mParameterGrid\u001b[0m\u001b[0;34m(\u001b[0m\u001b[0mself\u001b[0m\u001b[0;34m.\u001b[0m\u001b[0mparam_grid\u001b[0m\u001b[0;34m)\u001b[0m\u001b[0;34m)\u001b[0m\u001b[0;34m\u001b[0m\u001b[0;34m\u001b[0m\u001b[0m\n\u001b[0m\u001b[1;32m   1297\u001b[0m \u001b[0;34m\u001b[0m\u001b[0m\n\u001b[1;32m   1298\u001b[0m \u001b[0;34m\u001b[0m\u001b[0m\n",
      "\u001b[0;32m/opt/anaconda3/lib/python3.7/site-packages/sklearn/model_selection/_search.py\u001b[0m in \u001b[0;36mevaluate_candidates\u001b[0;34m(candidate_params, cv, more_results)\u001b[0m\n\u001b[1;32m    807\u001b[0m                                    (split_idx, (train, test)) in product(\n\u001b[1;32m    808\u001b[0m                                    \u001b[0menumerate\u001b[0m\u001b[0;34m(\u001b[0m\u001b[0mcandidate_params\u001b[0m\u001b[0;34m)\u001b[0m\u001b[0;34m,\u001b[0m\u001b[0;34m\u001b[0m\u001b[0;34m\u001b[0m\u001b[0m\n\u001b[0;32m--> 809\u001b[0;31m                                    enumerate(cv.split(X, y, groups))))\n\u001b[0m\u001b[1;32m    810\u001b[0m \u001b[0;34m\u001b[0m\u001b[0m\n\u001b[1;32m    811\u001b[0m                 \u001b[0;32mif\u001b[0m \u001b[0mlen\u001b[0m\u001b[0;34m(\u001b[0m\u001b[0mout\u001b[0m\u001b[0;34m)\u001b[0m \u001b[0;34m<\u001b[0m \u001b[0;36m1\u001b[0m\u001b[0;34m:\u001b[0m\u001b[0;34m\u001b[0m\u001b[0;34m\u001b[0m\u001b[0m\n",
      "\u001b[0;32m/opt/anaconda3/lib/python3.7/site-packages/joblib/parallel.py\u001b[0m in \u001b[0;36m__call__\u001b[0;34m(self, iterable)\u001b[0m\n\u001b[1;32m   1042\u001b[0m                 \u001b[0mself\u001b[0m\u001b[0;34m.\u001b[0m\u001b[0m_iterating\u001b[0m \u001b[0;34m=\u001b[0m \u001b[0mself\u001b[0m\u001b[0;34m.\u001b[0m\u001b[0m_original_iterator\u001b[0m \u001b[0;32mis\u001b[0m \u001b[0;32mnot\u001b[0m \u001b[0;32mNone\u001b[0m\u001b[0;34m\u001b[0m\u001b[0;34m\u001b[0m\u001b[0m\n\u001b[1;32m   1043\u001b[0m \u001b[0;34m\u001b[0m\u001b[0m\n\u001b[0;32m-> 1044\u001b[0;31m             \u001b[0;32mwhile\u001b[0m \u001b[0mself\u001b[0m\u001b[0;34m.\u001b[0m\u001b[0mdispatch_one_batch\u001b[0m\u001b[0;34m(\u001b[0m\u001b[0miterator\u001b[0m\u001b[0;34m)\u001b[0m\u001b[0;34m:\u001b[0m\u001b[0;34m\u001b[0m\u001b[0;34m\u001b[0m\u001b[0m\n\u001b[0m\u001b[1;32m   1045\u001b[0m                 \u001b[0;32mpass\u001b[0m\u001b[0;34m\u001b[0m\u001b[0;34m\u001b[0m\u001b[0m\n\u001b[1;32m   1046\u001b[0m \u001b[0;34m\u001b[0m\u001b[0m\n",
      "\u001b[0;32m/opt/anaconda3/lib/python3.7/site-packages/joblib/parallel.py\u001b[0m in \u001b[0;36mdispatch_one_batch\u001b[0;34m(self, iterator)\u001b[0m\n\u001b[1;32m    857\u001b[0m                 \u001b[0;32mreturn\u001b[0m \u001b[0;32mFalse\u001b[0m\u001b[0;34m\u001b[0m\u001b[0;34m\u001b[0m\u001b[0m\n\u001b[1;32m    858\u001b[0m             \u001b[0;32melse\u001b[0m\u001b[0;34m:\u001b[0m\u001b[0;34m\u001b[0m\u001b[0;34m\u001b[0m\u001b[0m\n\u001b[0;32m--> 859\u001b[0;31m                 \u001b[0mself\u001b[0m\u001b[0;34m.\u001b[0m\u001b[0m_dispatch\u001b[0m\u001b[0;34m(\u001b[0m\u001b[0mtasks\u001b[0m\u001b[0;34m)\u001b[0m\u001b[0;34m\u001b[0m\u001b[0;34m\u001b[0m\u001b[0m\n\u001b[0m\u001b[1;32m    860\u001b[0m                 \u001b[0;32mreturn\u001b[0m \u001b[0;32mTrue\u001b[0m\u001b[0;34m\u001b[0m\u001b[0;34m\u001b[0m\u001b[0m\n\u001b[1;32m    861\u001b[0m \u001b[0;34m\u001b[0m\u001b[0m\n",
      "\u001b[0;32m/opt/anaconda3/lib/python3.7/site-packages/joblib/parallel.py\u001b[0m in \u001b[0;36m_dispatch\u001b[0;34m(self, batch)\u001b[0m\n\u001b[1;32m    775\u001b[0m         \u001b[0;32mwith\u001b[0m \u001b[0mself\u001b[0m\u001b[0;34m.\u001b[0m\u001b[0m_lock\u001b[0m\u001b[0;34m:\u001b[0m\u001b[0;34m\u001b[0m\u001b[0;34m\u001b[0m\u001b[0m\n\u001b[1;32m    776\u001b[0m             \u001b[0mjob_idx\u001b[0m \u001b[0;34m=\u001b[0m \u001b[0mlen\u001b[0m\u001b[0;34m(\u001b[0m\u001b[0mself\u001b[0m\u001b[0;34m.\u001b[0m\u001b[0m_jobs\u001b[0m\u001b[0;34m)\u001b[0m\u001b[0;34m\u001b[0m\u001b[0;34m\u001b[0m\u001b[0m\n\u001b[0;32m--> 777\u001b[0;31m             \u001b[0mjob\u001b[0m \u001b[0;34m=\u001b[0m \u001b[0mself\u001b[0m\u001b[0;34m.\u001b[0m\u001b[0m_backend\u001b[0m\u001b[0;34m.\u001b[0m\u001b[0mapply_async\u001b[0m\u001b[0;34m(\u001b[0m\u001b[0mbatch\u001b[0m\u001b[0;34m,\u001b[0m \u001b[0mcallback\u001b[0m\u001b[0;34m=\u001b[0m\u001b[0mcb\u001b[0m\u001b[0;34m)\u001b[0m\u001b[0;34m\u001b[0m\u001b[0;34m\u001b[0m\u001b[0m\n\u001b[0m\u001b[1;32m    778\u001b[0m             \u001b[0;31m# A job can complete so quickly than its callback is\u001b[0m\u001b[0;34m\u001b[0m\u001b[0;34m\u001b[0m\u001b[0;34m\u001b[0m\u001b[0m\n\u001b[1;32m    779\u001b[0m             \u001b[0;31m# called before we get here, causing self._jobs to\u001b[0m\u001b[0;34m\u001b[0m\u001b[0;34m\u001b[0m\u001b[0;34m\u001b[0m\u001b[0m\n",
      "\u001b[0;32m/opt/anaconda3/lib/python3.7/site-packages/joblib/_parallel_backends.py\u001b[0m in \u001b[0;36mapply_async\u001b[0;34m(self, func, callback)\u001b[0m\n\u001b[1;32m    206\u001b[0m     \u001b[0;32mdef\u001b[0m \u001b[0mapply_async\u001b[0m\u001b[0;34m(\u001b[0m\u001b[0mself\u001b[0m\u001b[0;34m,\u001b[0m \u001b[0mfunc\u001b[0m\u001b[0;34m,\u001b[0m \u001b[0mcallback\u001b[0m\u001b[0;34m=\u001b[0m\u001b[0;32mNone\u001b[0m\u001b[0;34m)\u001b[0m\u001b[0;34m:\u001b[0m\u001b[0;34m\u001b[0m\u001b[0;34m\u001b[0m\u001b[0m\n\u001b[1;32m    207\u001b[0m         \u001b[0;34m\"\"\"Schedule a func to be run\"\"\"\u001b[0m\u001b[0;34m\u001b[0m\u001b[0;34m\u001b[0m\u001b[0m\n\u001b[0;32m--> 208\u001b[0;31m         \u001b[0mresult\u001b[0m \u001b[0;34m=\u001b[0m \u001b[0mImmediateResult\u001b[0m\u001b[0;34m(\u001b[0m\u001b[0mfunc\u001b[0m\u001b[0;34m)\u001b[0m\u001b[0;34m\u001b[0m\u001b[0;34m\u001b[0m\u001b[0m\n\u001b[0m\u001b[1;32m    209\u001b[0m         \u001b[0;32mif\u001b[0m \u001b[0mcallback\u001b[0m\u001b[0;34m:\u001b[0m\u001b[0;34m\u001b[0m\u001b[0;34m\u001b[0m\u001b[0m\n\u001b[1;32m    210\u001b[0m             \u001b[0mcallback\u001b[0m\u001b[0;34m(\u001b[0m\u001b[0mresult\u001b[0m\u001b[0;34m)\u001b[0m\u001b[0;34m\u001b[0m\u001b[0;34m\u001b[0m\u001b[0m\n",
      "\u001b[0;32m/opt/anaconda3/lib/python3.7/site-packages/joblib/_parallel_backends.py\u001b[0m in \u001b[0;36m__init__\u001b[0;34m(self, batch)\u001b[0m\n\u001b[1;32m    570\u001b[0m         \u001b[0;31m# Don't delay the application, to avoid keeping the input\u001b[0m\u001b[0;34m\u001b[0m\u001b[0;34m\u001b[0m\u001b[0;34m\u001b[0m\u001b[0m\n\u001b[1;32m    571\u001b[0m         \u001b[0;31m# arguments in memory\u001b[0m\u001b[0;34m\u001b[0m\u001b[0;34m\u001b[0m\u001b[0;34m\u001b[0m\u001b[0m\n\u001b[0;32m--> 572\u001b[0;31m         \u001b[0mself\u001b[0m\u001b[0;34m.\u001b[0m\u001b[0mresults\u001b[0m \u001b[0;34m=\u001b[0m \u001b[0mbatch\u001b[0m\u001b[0;34m(\u001b[0m\u001b[0;34m)\u001b[0m\u001b[0;34m\u001b[0m\u001b[0;34m\u001b[0m\u001b[0m\n\u001b[0m\u001b[1;32m    573\u001b[0m \u001b[0;34m\u001b[0m\u001b[0m\n\u001b[1;32m    574\u001b[0m     \u001b[0;32mdef\u001b[0m \u001b[0mget\u001b[0m\u001b[0;34m(\u001b[0m\u001b[0mself\u001b[0m\u001b[0;34m)\u001b[0m\u001b[0;34m:\u001b[0m\u001b[0;34m\u001b[0m\u001b[0;34m\u001b[0m\u001b[0m\n",
      "\u001b[0;32m/opt/anaconda3/lib/python3.7/site-packages/joblib/parallel.py\u001b[0m in \u001b[0;36m__call__\u001b[0;34m(self)\u001b[0m\n\u001b[1;32m    261\u001b[0m         \u001b[0;32mwith\u001b[0m \u001b[0mparallel_backend\u001b[0m\u001b[0;34m(\u001b[0m\u001b[0mself\u001b[0m\u001b[0;34m.\u001b[0m\u001b[0m_backend\u001b[0m\u001b[0;34m,\u001b[0m \u001b[0mn_jobs\u001b[0m\u001b[0;34m=\u001b[0m\u001b[0mself\u001b[0m\u001b[0;34m.\u001b[0m\u001b[0m_n_jobs\u001b[0m\u001b[0;34m)\u001b[0m\u001b[0;34m:\u001b[0m\u001b[0;34m\u001b[0m\u001b[0;34m\u001b[0m\u001b[0m\n\u001b[1;32m    262\u001b[0m             return [func(*args, **kwargs)\n\u001b[0;32m--> 263\u001b[0;31m                     for func, args, kwargs in self.items]\n\u001b[0m\u001b[1;32m    264\u001b[0m \u001b[0;34m\u001b[0m\u001b[0m\n\u001b[1;32m    265\u001b[0m     \u001b[0;32mdef\u001b[0m \u001b[0m__reduce__\u001b[0m\u001b[0;34m(\u001b[0m\u001b[0mself\u001b[0m\u001b[0;34m)\u001b[0m\u001b[0;34m:\u001b[0m\u001b[0;34m\u001b[0m\u001b[0;34m\u001b[0m\u001b[0m\n",
      "\u001b[0;32m/opt/anaconda3/lib/python3.7/site-packages/joblib/parallel.py\u001b[0m in \u001b[0;36m<listcomp>\u001b[0;34m(.0)\u001b[0m\n\u001b[1;32m    261\u001b[0m         \u001b[0;32mwith\u001b[0m \u001b[0mparallel_backend\u001b[0m\u001b[0;34m(\u001b[0m\u001b[0mself\u001b[0m\u001b[0;34m.\u001b[0m\u001b[0m_backend\u001b[0m\u001b[0;34m,\u001b[0m \u001b[0mn_jobs\u001b[0m\u001b[0;34m=\u001b[0m\u001b[0mself\u001b[0m\u001b[0;34m.\u001b[0m\u001b[0m_n_jobs\u001b[0m\u001b[0;34m)\u001b[0m\u001b[0;34m:\u001b[0m\u001b[0;34m\u001b[0m\u001b[0;34m\u001b[0m\u001b[0m\n\u001b[1;32m    262\u001b[0m             return [func(*args, **kwargs)\n\u001b[0;32m--> 263\u001b[0;31m                     for func, args, kwargs in self.items]\n\u001b[0m\u001b[1;32m    264\u001b[0m \u001b[0;34m\u001b[0m\u001b[0m\n\u001b[1;32m    265\u001b[0m     \u001b[0;32mdef\u001b[0m \u001b[0m__reduce__\u001b[0m\u001b[0;34m(\u001b[0m\u001b[0mself\u001b[0m\u001b[0;34m)\u001b[0m\u001b[0;34m:\u001b[0m\u001b[0;34m\u001b[0m\u001b[0;34m\u001b[0m\u001b[0m\n",
      "\u001b[0;32m/opt/anaconda3/lib/python3.7/site-packages/sklearn/utils/fixes.py\u001b[0m in \u001b[0;36m__call__\u001b[0;34m(self, *args, **kwargs)\u001b[0m\n\u001b[1;32m    220\u001b[0m     \u001b[0;32mdef\u001b[0m \u001b[0m__call__\u001b[0m\u001b[0;34m(\u001b[0m\u001b[0mself\u001b[0m\u001b[0;34m,\u001b[0m \u001b[0;34m*\u001b[0m\u001b[0margs\u001b[0m\u001b[0;34m,\u001b[0m \u001b[0;34m**\u001b[0m\u001b[0mkwargs\u001b[0m\u001b[0;34m)\u001b[0m\u001b[0;34m:\u001b[0m\u001b[0;34m\u001b[0m\u001b[0;34m\u001b[0m\u001b[0m\n\u001b[1;32m    221\u001b[0m         \u001b[0;32mwith\u001b[0m \u001b[0mconfig_context\u001b[0m\u001b[0;34m(\u001b[0m\u001b[0;34m**\u001b[0m\u001b[0mself\u001b[0m\u001b[0;34m.\u001b[0m\u001b[0mconfig\u001b[0m\u001b[0;34m)\u001b[0m\u001b[0;34m:\u001b[0m\u001b[0;34m\u001b[0m\u001b[0;34m\u001b[0m\u001b[0m\n\u001b[0;32m--> 222\u001b[0;31m             \u001b[0;32mreturn\u001b[0m \u001b[0mself\u001b[0m\u001b[0;34m.\u001b[0m\u001b[0mfunction\u001b[0m\u001b[0;34m(\u001b[0m\u001b[0;34m*\u001b[0m\u001b[0margs\u001b[0m\u001b[0;34m,\u001b[0m \u001b[0;34m**\u001b[0m\u001b[0mkwargs\u001b[0m\u001b[0;34m)\u001b[0m\u001b[0;34m\u001b[0m\u001b[0;34m\u001b[0m\u001b[0m\n\u001b[0m",
      "\u001b[0;32m/opt/anaconda3/lib/python3.7/site-packages/sklearn/model_selection/_validation.py\u001b[0m in \u001b[0;36m_fit_and_score\u001b[0;34m(estimator, X, y, scorer, train, test, verbose, parameters, fit_params, return_train_score, return_parameters, return_n_test_samples, return_times, return_estimator, split_progress, candidate_progress, error_score)\u001b[0m\n\u001b[1;32m    596\u001b[0m             \u001b[0mestimator\u001b[0m\u001b[0;34m.\u001b[0m\u001b[0mfit\u001b[0m\u001b[0;34m(\u001b[0m\u001b[0mX_train\u001b[0m\u001b[0;34m,\u001b[0m \u001b[0;34m**\u001b[0m\u001b[0mfit_params\u001b[0m\u001b[0;34m)\u001b[0m\u001b[0;34m\u001b[0m\u001b[0;34m\u001b[0m\u001b[0m\n\u001b[1;32m    597\u001b[0m         \u001b[0;32melse\u001b[0m\u001b[0;34m:\u001b[0m\u001b[0;34m\u001b[0m\u001b[0;34m\u001b[0m\u001b[0m\n\u001b[0;32m--> 598\u001b[0;31m             \u001b[0mestimator\u001b[0m\u001b[0;34m.\u001b[0m\u001b[0mfit\u001b[0m\u001b[0;34m(\u001b[0m\u001b[0mX_train\u001b[0m\u001b[0;34m,\u001b[0m \u001b[0my_train\u001b[0m\u001b[0;34m,\u001b[0m \u001b[0;34m**\u001b[0m\u001b[0mfit_params\u001b[0m\u001b[0;34m)\u001b[0m\u001b[0;34m\u001b[0m\u001b[0;34m\u001b[0m\u001b[0m\n\u001b[0m\u001b[1;32m    599\u001b[0m \u001b[0;34m\u001b[0m\u001b[0m\n\u001b[1;32m    600\u001b[0m     \u001b[0;32mexcept\u001b[0m \u001b[0mException\u001b[0m \u001b[0;32mas\u001b[0m \u001b[0me\u001b[0m\u001b[0;34m:\u001b[0m\u001b[0;34m\u001b[0m\u001b[0;34m\u001b[0m\u001b[0m\n",
      "\u001b[0;32m/opt/anaconda3/lib/python3.7/site-packages/sklearn/ensemble/_forest.py\u001b[0m in \u001b[0;36mfit\u001b[0;34m(self, X, y, sample_weight)\u001b[0m\n\u001b[1;32m    391\u001b[0m                     \u001b[0mverbose\u001b[0m\u001b[0;34m=\u001b[0m\u001b[0mself\u001b[0m\u001b[0;34m.\u001b[0m\u001b[0mverbose\u001b[0m\u001b[0;34m,\u001b[0m \u001b[0mclass_weight\u001b[0m\u001b[0;34m=\u001b[0m\u001b[0mself\u001b[0m\u001b[0;34m.\u001b[0m\u001b[0mclass_weight\u001b[0m\u001b[0;34m,\u001b[0m\u001b[0;34m\u001b[0m\u001b[0;34m\u001b[0m\u001b[0m\n\u001b[1;32m    392\u001b[0m                     n_samples_bootstrap=n_samples_bootstrap)\n\u001b[0;32m--> 393\u001b[0;31m                 for i, t in enumerate(trees))\n\u001b[0m\u001b[1;32m    394\u001b[0m \u001b[0;34m\u001b[0m\u001b[0m\n\u001b[1;32m    395\u001b[0m             \u001b[0;31m# Collect newly grown trees\u001b[0m\u001b[0;34m\u001b[0m\u001b[0;34m\u001b[0m\u001b[0;34m\u001b[0m\u001b[0m\n",
      "\u001b[0;32m/opt/anaconda3/lib/python3.7/site-packages/joblib/parallel.py\u001b[0m in \u001b[0;36m__call__\u001b[0;34m(self, iterable)\u001b[0m\n\u001b[1;32m   1042\u001b[0m                 \u001b[0mself\u001b[0m\u001b[0;34m.\u001b[0m\u001b[0m_iterating\u001b[0m \u001b[0;34m=\u001b[0m \u001b[0mself\u001b[0m\u001b[0;34m.\u001b[0m\u001b[0m_original_iterator\u001b[0m \u001b[0;32mis\u001b[0m \u001b[0;32mnot\u001b[0m \u001b[0;32mNone\u001b[0m\u001b[0;34m\u001b[0m\u001b[0;34m\u001b[0m\u001b[0m\n\u001b[1;32m   1043\u001b[0m \u001b[0;34m\u001b[0m\u001b[0m\n\u001b[0;32m-> 1044\u001b[0;31m             \u001b[0;32mwhile\u001b[0m \u001b[0mself\u001b[0m\u001b[0;34m.\u001b[0m\u001b[0mdispatch_one_batch\u001b[0m\u001b[0;34m(\u001b[0m\u001b[0miterator\u001b[0m\u001b[0;34m)\u001b[0m\u001b[0;34m:\u001b[0m\u001b[0;34m\u001b[0m\u001b[0;34m\u001b[0m\u001b[0m\n\u001b[0m\u001b[1;32m   1045\u001b[0m                 \u001b[0;32mpass\u001b[0m\u001b[0;34m\u001b[0m\u001b[0;34m\u001b[0m\u001b[0m\n\u001b[1;32m   1046\u001b[0m \u001b[0;34m\u001b[0m\u001b[0m\n",
      "\u001b[0;32m/opt/anaconda3/lib/python3.7/site-packages/joblib/parallel.py\u001b[0m in \u001b[0;36mdispatch_one_batch\u001b[0;34m(self, iterator)\u001b[0m\n\u001b[1;32m    857\u001b[0m                 \u001b[0;32mreturn\u001b[0m \u001b[0;32mFalse\u001b[0m\u001b[0;34m\u001b[0m\u001b[0;34m\u001b[0m\u001b[0m\n\u001b[1;32m    858\u001b[0m             \u001b[0;32melse\u001b[0m\u001b[0;34m:\u001b[0m\u001b[0;34m\u001b[0m\u001b[0;34m\u001b[0m\u001b[0m\n\u001b[0;32m--> 859\u001b[0;31m                 \u001b[0mself\u001b[0m\u001b[0;34m.\u001b[0m\u001b[0m_dispatch\u001b[0m\u001b[0;34m(\u001b[0m\u001b[0mtasks\u001b[0m\u001b[0;34m)\u001b[0m\u001b[0;34m\u001b[0m\u001b[0;34m\u001b[0m\u001b[0m\n\u001b[0m\u001b[1;32m    860\u001b[0m                 \u001b[0;32mreturn\u001b[0m \u001b[0;32mTrue\u001b[0m\u001b[0;34m\u001b[0m\u001b[0;34m\u001b[0m\u001b[0m\n\u001b[1;32m    861\u001b[0m \u001b[0;34m\u001b[0m\u001b[0m\n",
      "\u001b[0;32m/opt/anaconda3/lib/python3.7/site-packages/joblib/parallel.py\u001b[0m in \u001b[0;36m_dispatch\u001b[0;34m(self, batch)\u001b[0m\n\u001b[1;32m    775\u001b[0m         \u001b[0;32mwith\u001b[0m \u001b[0mself\u001b[0m\u001b[0;34m.\u001b[0m\u001b[0m_lock\u001b[0m\u001b[0;34m:\u001b[0m\u001b[0;34m\u001b[0m\u001b[0;34m\u001b[0m\u001b[0m\n\u001b[1;32m    776\u001b[0m             \u001b[0mjob_idx\u001b[0m \u001b[0;34m=\u001b[0m \u001b[0mlen\u001b[0m\u001b[0;34m(\u001b[0m\u001b[0mself\u001b[0m\u001b[0;34m.\u001b[0m\u001b[0m_jobs\u001b[0m\u001b[0;34m)\u001b[0m\u001b[0;34m\u001b[0m\u001b[0;34m\u001b[0m\u001b[0m\n\u001b[0;32m--> 777\u001b[0;31m             \u001b[0mjob\u001b[0m \u001b[0;34m=\u001b[0m \u001b[0mself\u001b[0m\u001b[0;34m.\u001b[0m\u001b[0m_backend\u001b[0m\u001b[0;34m.\u001b[0m\u001b[0mapply_async\u001b[0m\u001b[0;34m(\u001b[0m\u001b[0mbatch\u001b[0m\u001b[0;34m,\u001b[0m \u001b[0mcallback\u001b[0m\u001b[0;34m=\u001b[0m\u001b[0mcb\u001b[0m\u001b[0;34m)\u001b[0m\u001b[0;34m\u001b[0m\u001b[0;34m\u001b[0m\u001b[0m\n\u001b[0m\u001b[1;32m    778\u001b[0m             \u001b[0;31m# A job can complete so quickly than its callback is\u001b[0m\u001b[0;34m\u001b[0m\u001b[0;34m\u001b[0m\u001b[0;34m\u001b[0m\u001b[0m\n\u001b[1;32m    779\u001b[0m             \u001b[0;31m# called before we get here, causing self._jobs to\u001b[0m\u001b[0;34m\u001b[0m\u001b[0;34m\u001b[0m\u001b[0;34m\u001b[0m\u001b[0m\n",
      "\u001b[0;32m/opt/anaconda3/lib/python3.7/site-packages/joblib/_parallel_backends.py\u001b[0m in \u001b[0;36mapply_async\u001b[0;34m(self, func, callback)\u001b[0m\n\u001b[1;32m    206\u001b[0m     \u001b[0;32mdef\u001b[0m \u001b[0mapply_async\u001b[0m\u001b[0;34m(\u001b[0m\u001b[0mself\u001b[0m\u001b[0;34m,\u001b[0m \u001b[0mfunc\u001b[0m\u001b[0;34m,\u001b[0m \u001b[0mcallback\u001b[0m\u001b[0;34m=\u001b[0m\u001b[0;32mNone\u001b[0m\u001b[0;34m)\u001b[0m\u001b[0;34m:\u001b[0m\u001b[0;34m\u001b[0m\u001b[0;34m\u001b[0m\u001b[0m\n\u001b[1;32m    207\u001b[0m         \u001b[0;34m\"\"\"Schedule a func to be run\"\"\"\u001b[0m\u001b[0;34m\u001b[0m\u001b[0;34m\u001b[0m\u001b[0m\n\u001b[0;32m--> 208\u001b[0;31m         \u001b[0mresult\u001b[0m \u001b[0;34m=\u001b[0m \u001b[0mImmediateResult\u001b[0m\u001b[0;34m(\u001b[0m\u001b[0mfunc\u001b[0m\u001b[0;34m)\u001b[0m\u001b[0;34m\u001b[0m\u001b[0;34m\u001b[0m\u001b[0m\n\u001b[0m\u001b[1;32m    209\u001b[0m         \u001b[0;32mif\u001b[0m \u001b[0mcallback\u001b[0m\u001b[0;34m:\u001b[0m\u001b[0;34m\u001b[0m\u001b[0;34m\u001b[0m\u001b[0m\n\u001b[1;32m    210\u001b[0m             \u001b[0mcallback\u001b[0m\u001b[0;34m(\u001b[0m\u001b[0mresult\u001b[0m\u001b[0;34m)\u001b[0m\u001b[0;34m\u001b[0m\u001b[0;34m\u001b[0m\u001b[0m\n",
      "\u001b[0;32m/opt/anaconda3/lib/python3.7/site-packages/joblib/_parallel_backends.py\u001b[0m in \u001b[0;36m__init__\u001b[0;34m(self, batch)\u001b[0m\n\u001b[1;32m    570\u001b[0m         \u001b[0;31m# Don't delay the application, to avoid keeping the input\u001b[0m\u001b[0;34m\u001b[0m\u001b[0;34m\u001b[0m\u001b[0;34m\u001b[0m\u001b[0m\n\u001b[1;32m    571\u001b[0m         \u001b[0;31m# arguments in memory\u001b[0m\u001b[0;34m\u001b[0m\u001b[0;34m\u001b[0m\u001b[0;34m\u001b[0m\u001b[0m\n\u001b[0;32m--> 572\u001b[0;31m         \u001b[0mself\u001b[0m\u001b[0;34m.\u001b[0m\u001b[0mresults\u001b[0m \u001b[0;34m=\u001b[0m \u001b[0mbatch\u001b[0m\u001b[0;34m(\u001b[0m\u001b[0;34m)\u001b[0m\u001b[0;34m\u001b[0m\u001b[0;34m\u001b[0m\u001b[0m\n\u001b[0m\u001b[1;32m    573\u001b[0m \u001b[0;34m\u001b[0m\u001b[0m\n\u001b[1;32m    574\u001b[0m     \u001b[0;32mdef\u001b[0m \u001b[0mget\u001b[0m\u001b[0;34m(\u001b[0m\u001b[0mself\u001b[0m\u001b[0;34m)\u001b[0m\u001b[0;34m:\u001b[0m\u001b[0;34m\u001b[0m\u001b[0;34m\u001b[0m\u001b[0m\n",
      "\u001b[0;32m/opt/anaconda3/lib/python3.7/site-packages/joblib/parallel.py\u001b[0m in \u001b[0;36m__call__\u001b[0;34m(self)\u001b[0m\n\u001b[1;32m    261\u001b[0m         \u001b[0;32mwith\u001b[0m \u001b[0mparallel_backend\u001b[0m\u001b[0;34m(\u001b[0m\u001b[0mself\u001b[0m\u001b[0;34m.\u001b[0m\u001b[0m_backend\u001b[0m\u001b[0;34m,\u001b[0m \u001b[0mn_jobs\u001b[0m\u001b[0;34m=\u001b[0m\u001b[0mself\u001b[0m\u001b[0;34m.\u001b[0m\u001b[0m_n_jobs\u001b[0m\u001b[0;34m)\u001b[0m\u001b[0;34m:\u001b[0m\u001b[0;34m\u001b[0m\u001b[0;34m\u001b[0m\u001b[0m\n\u001b[1;32m    262\u001b[0m             return [func(*args, **kwargs)\n\u001b[0;32m--> 263\u001b[0;31m                     for func, args, kwargs in self.items]\n\u001b[0m\u001b[1;32m    264\u001b[0m \u001b[0;34m\u001b[0m\u001b[0m\n\u001b[1;32m    265\u001b[0m     \u001b[0;32mdef\u001b[0m \u001b[0m__reduce__\u001b[0m\u001b[0;34m(\u001b[0m\u001b[0mself\u001b[0m\u001b[0;34m)\u001b[0m\u001b[0;34m:\u001b[0m\u001b[0;34m\u001b[0m\u001b[0;34m\u001b[0m\u001b[0m\n",
      "\u001b[0;32m/opt/anaconda3/lib/python3.7/site-packages/joblib/parallel.py\u001b[0m in \u001b[0;36m<listcomp>\u001b[0;34m(.0)\u001b[0m\n\u001b[1;32m    261\u001b[0m         \u001b[0;32mwith\u001b[0m \u001b[0mparallel_backend\u001b[0m\u001b[0;34m(\u001b[0m\u001b[0mself\u001b[0m\u001b[0;34m.\u001b[0m\u001b[0m_backend\u001b[0m\u001b[0;34m,\u001b[0m \u001b[0mn_jobs\u001b[0m\u001b[0;34m=\u001b[0m\u001b[0mself\u001b[0m\u001b[0;34m.\u001b[0m\u001b[0m_n_jobs\u001b[0m\u001b[0;34m)\u001b[0m\u001b[0;34m:\u001b[0m\u001b[0;34m\u001b[0m\u001b[0;34m\u001b[0m\u001b[0m\n\u001b[1;32m    262\u001b[0m             return [func(*args, **kwargs)\n\u001b[0;32m--> 263\u001b[0;31m                     for func, args, kwargs in self.items]\n\u001b[0m\u001b[1;32m    264\u001b[0m \u001b[0;34m\u001b[0m\u001b[0m\n\u001b[1;32m    265\u001b[0m     \u001b[0;32mdef\u001b[0m \u001b[0m__reduce__\u001b[0m\u001b[0;34m(\u001b[0m\u001b[0mself\u001b[0m\u001b[0;34m)\u001b[0m\u001b[0;34m:\u001b[0m\u001b[0;34m\u001b[0m\u001b[0;34m\u001b[0m\u001b[0m\n",
      "\u001b[0;32m/opt/anaconda3/lib/python3.7/site-packages/sklearn/utils/fixes.py\u001b[0m in \u001b[0;36m__call__\u001b[0;34m(self, *args, **kwargs)\u001b[0m\n\u001b[1;32m    220\u001b[0m     \u001b[0;32mdef\u001b[0m \u001b[0m__call__\u001b[0m\u001b[0;34m(\u001b[0m\u001b[0mself\u001b[0m\u001b[0;34m,\u001b[0m \u001b[0;34m*\u001b[0m\u001b[0margs\u001b[0m\u001b[0;34m,\u001b[0m \u001b[0;34m**\u001b[0m\u001b[0mkwargs\u001b[0m\u001b[0;34m)\u001b[0m\u001b[0;34m:\u001b[0m\u001b[0;34m\u001b[0m\u001b[0;34m\u001b[0m\u001b[0m\n\u001b[1;32m    221\u001b[0m         \u001b[0;32mwith\u001b[0m \u001b[0mconfig_context\u001b[0m\u001b[0;34m(\u001b[0m\u001b[0;34m**\u001b[0m\u001b[0mself\u001b[0m\u001b[0;34m.\u001b[0m\u001b[0mconfig\u001b[0m\u001b[0;34m)\u001b[0m\u001b[0;34m:\u001b[0m\u001b[0;34m\u001b[0m\u001b[0;34m\u001b[0m\u001b[0m\n\u001b[0;32m--> 222\u001b[0;31m             \u001b[0;32mreturn\u001b[0m \u001b[0mself\u001b[0m\u001b[0;34m.\u001b[0m\u001b[0mfunction\u001b[0m\u001b[0;34m(\u001b[0m\u001b[0;34m*\u001b[0m\u001b[0margs\u001b[0m\u001b[0;34m,\u001b[0m \u001b[0;34m**\u001b[0m\u001b[0mkwargs\u001b[0m\u001b[0;34m)\u001b[0m\u001b[0;34m\u001b[0m\u001b[0;34m\u001b[0m\u001b[0m\n\u001b[0m",
      "\u001b[0;32m/opt/anaconda3/lib/python3.7/site-packages/sklearn/ensemble/_forest.py\u001b[0m in \u001b[0;36m_parallel_build_trees\u001b[0;34m(tree, forest, X, y, sample_weight, tree_idx, n_trees, verbose, class_weight, n_samples_bootstrap)\u001b[0m\n\u001b[1;32m    167\u001b[0m                                                         indices=indices)\n\u001b[1;32m    168\u001b[0m \u001b[0;34m\u001b[0m\u001b[0m\n\u001b[0;32m--> 169\u001b[0;31m         \u001b[0mtree\u001b[0m\u001b[0;34m.\u001b[0m\u001b[0mfit\u001b[0m\u001b[0;34m(\u001b[0m\u001b[0mX\u001b[0m\u001b[0;34m,\u001b[0m \u001b[0my\u001b[0m\u001b[0;34m,\u001b[0m \u001b[0msample_weight\u001b[0m\u001b[0;34m=\u001b[0m\u001b[0mcurr_sample_weight\u001b[0m\u001b[0;34m,\u001b[0m \u001b[0mcheck_input\u001b[0m\u001b[0;34m=\u001b[0m\u001b[0;32mFalse\u001b[0m\u001b[0;34m)\u001b[0m\u001b[0;34m\u001b[0m\u001b[0;34m\u001b[0m\u001b[0m\n\u001b[0m\u001b[1;32m    170\u001b[0m     \u001b[0;32melse\u001b[0m\u001b[0;34m:\u001b[0m\u001b[0;34m\u001b[0m\u001b[0;34m\u001b[0m\u001b[0m\n\u001b[1;32m    171\u001b[0m         \u001b[0mtree\u001b[0m\u001b[0;34m.\u001b[0m\u001b[0mfit\u001b[0m\u001b[0;34m(\u001b[0m\u001b[0mX\u001b[0m\u001b[0;34m,\u001b[0m \u001b[0my\u001b[0m\u001b[0;34m,\u001b[0m \u001b[0msample_weight\u001b[0m\u001b[0;34m=\u001b[0m\u001b[0msample_weight\u001b[0m\u001b[0;34m,\u001b[0m \u001b[0mcheck_input\u001b[0m\u001b[0;34m=\u001b[0m\u001b[0;32mFalse\u001b[0m\u001b[0;34m)\u001b[0m\u001b[0;34m\u001b[0m\u001b[0;34m\u001b[0m\u001b[0m\n",
      "\u001b[0;32m/opt/anaconda3/lib/python3.7/site-packages/sklearn/tree/_classes.py\u001b[0m in \u001b[0;36mfit\u001b[0;34m(self, X, y, sample_weight, check_input, X_idx_sorted)\u001b[0m\n\u001b[1;32m    905\u001b[0m             \u001b[0msample_weight\u001b[0m\u001b[0;34m=\u001b[0m\u001b[0msample_weight\u001b[0m\u001b[0;34m,\u001b[0m\u001b[0;34m\u001b[0m\u001b[0;34m\u001b[0m\u001b[0m\n\u001b[1;32m    906\u001b[0m             \u001b[0mcheck_input\u001b[0m\u001b[0;34m=\u001b[0m\u001b[0mcheck_input\u001b[0m\u001b[0;34m,\u001b[0m\u001b[0;34m\u001b[0m\u001b[0;34m\u001b[0m\u001b[0m\n\u001b[0;32m--> 907\u001b[0;31m             X_idx_sorted=X_idx_sorted)\n\u001b[0m\u001b[1;32m    908\u001b[0m         \u001b[0;32mreturn\u001b[0m \u001b[0mself\u001b[0m\u001b[0;34m\u001b[0m\u001b[0;34m\u001b[0m\u001b[0m\n\u001b[1;32m    909\u001b[0m \u001b[0;34m\u001b[0m\u001b[0m\n",
      "\u001b[0;32m/opt/anaconda3/lib/python3.7/site-packages/sklearn/tree/_classes.py\u001b[0m in \u001b[0;36mfit\u001b[0;34m(self, X, y, sample_weight, check_input, X_idx_sorted)\u001b[0m\n\u001b[1;32m    392\u001b[0m                                            min_impurity_split)\n\u001b[1;32m    393\u001b[0m \u001b[0;34m\u001b[0m\u001b[0m\n\u001b[0;32m--> 394\u001b[0;31m         \u001b[0mbuilder\u001b[0m\u001b[0;34m.\u001b[0m\u001b[0mbuild\u001b[0m\u001b[0;34m(\u001b[0m\u001b[0mself\u001b[0m\u001b[0;34m.\u001b[0m\u001b[0mtree_\u001b[0m\u001b[0;34m,\u001b[0m \u001b[0mX\u001b[0m\u001b[0;34m,\u001b[0m \u001b[0my\u001b[0m\u001b[0;34m,\u001b[0m \u001b[0msample_weight\u001b[0m\u001b[0;34m)\u001b[0m\u001b[0;34m\u001b[0m\u001b[0;34m\u001b[0m\u001b[0m\n\u001b[0m\u001b[1;32m    395\u001b[0m \u001b[0;34m\u001b[0m\u001b[0m\n\u001b[1;32m    396\u001b[0m         \u001b[0;32mif\u001b[0m \u001b[0mself\u001b[0m\u001b[0;34m.\u001b[0m\u001b[0mn_outputs_\u001b[0m \u001b[0;34m==\u001b[0m \u001b[0;36m1\u001b[0m \u001b[0;32mand\u001b[0m \u001b[0mis_classifier\u001b[0m\u001b[0;34m(\u001b[0m\u001b[0mself\u001b[0m\u001b[0;34m)\u001b[0m\u001b[0;34m:\u001b[0m\u001b[0;34m\u001b[0m\u001b[0;34m\u001b[0m\u001b[0m\n",
      "\u001b[0;31mKeyboardInterrupt\u001b[0m: "
     ]
    }
   ],
   "source": [
    "grid_rf = GridSearchCV(rf, param_grid, cv=skf)\n",
    "grid_rf.fit(X_train, y_train)"
   ]
  },
  {
   "cell_type": "code",
   "execution_count": null,
   "id": "70ebd3de-824e-4d94-939e-8ceafb74cd42",
   "metadata": {},
   "outputs": [],
   "source": [
    "grid_rf.best_estimator_"
   ]
  },
  {
   "cell_type": "code",
   "execution_count": null,
   "id": "efd3b2b7-4d3e-4c4b-9258-ecaa0ed55448",
   "metadata": {},
   "outputs": [],
   "source": [
    "grid_rf.best_params_"
   ]
  },
  {
   "cell_type": "code",
   "execution_count": null,
   "id": "c981c989-6b47-4cc0-a437-c1b573efb445",
   "metadata": {},
   "outputs": [],
   "source": [
    "y_test.shape"
   ]
  },
  {
   "cell_type": "code",
   "execution_count": null,
   "id": "45a39092-2113-45de-b120-00a87bce77e8",
   "metadata": {},
   "outputs": [],
   "source": []
  },
  {
   "cell_type": "code",
   "execution_count": 121,
   "id": "7383f222-c979-4b9e-b1f5-92a7edf71fa1",
   "metadata": {},
   "outputs": [],
   "source": [
    "rf_hyp = RandomForestClassifier(class_weight='balanced', criterion='entropy',\n",
    "                       max_depth=20, max_features=10, n_estimators=175,\n",
    "                       random_state=42)"
   ]
  },
  {
   "cell_type": "code",
   "execution_count": null,
   "id": "ad4e3d73-b5c2-49f1-9801-87188647b7a5",
   "metadata": {},
   "outputs": [],
   "source": []
  },
  {
   "cell_type": "code",
   "execution_count": 122,
   "id": "dbd4bfc8-2f9e-4c58-8e73-cb6eb2467315",
   "metadata": {},
   "outputs": [],
   "source": [
    "rf_hyp_clf = rf_hyp.fit(X_train, y_train)"
   ]
  },
  {
   "cell_type": "code",
   "execution_count": 123,
   "id": "d3f0f65d-0da0-4914-974c-e9e686ee8f14",
   "metadata": {},
   "outputs": [],
   "source": [
    "preds_rf_hyp = rf_hyp_clf.predict(X_test)"
   ]
  },
  {
   "cell_type": "code",
   "execution_count": 124,
   "id": "f5bf9863-5a05-4375-9aa0-366284f7e61f",
   "metadata": {},
   "outputs": [
    {
     "name": "stdout",
     "output_type": "stream",
     "text": [
      "Accuracy: 0.9765072176620436\n",
      "Precision: 0.9273504273504274\n",
      "Recall: 0.7667844522968198\n",
      "F1: 0.8394584139264991\n"
     ]
    }
   ],
   "source": [
    "print(\"Accuracy:\",metrics.accuracy_score(y_test, preds_rf_hyp))\n",
    "print(\"Precision:\",metrics.precision_score(y_test, preds_rf_hyp))\n",
    "print(\"Recall:\",metrics.recall_score(y_test, preds_rf_hyp))\n",
    "print(\"F1:\",metrics.f1_score(y_test, preds_rf_hyp))\n"
   ]
  },
  {
   "cell_type": "code",
   "execution_count": 125,
   "id": "363e1f7b-40e2-4f6d-ab7f-c007e745dcfd",
   "metadata": {},
   "outputs": [
    {
     "data": {
      "text/plain": [
       "array([[3233,   17],\n",
       "       [  66,  217]])"
      ]
     },
     "execution_count": 125,
     "metadata": {},
     "output_type": "execute_result"
    }
   ],
   "source": [
    "cf_hyp = confusion_matrix(y_test, preds_rf_hyp)\n",
    "cf_hyp"
   ]
  },
  {
   "cell_type": "code",
   "execution_count": null,
   "id": "efc11cc5-e9dd-44be-8e65-c92d59abc1d4",
   "metadata": {},
   "outputs": [],
   "source": []
  },
  {
   "cell_type": "code",
   "execution_count": null,
   "id": "1b14e07f-3e17-42c8-a9b4-61a0294db411",
   "metadata": {},
   "outputs": [],
   "source": []
  },
  {
   "cell_type": "code",
   "execution_count": 525,
   "id": "9a2b58ff-563c-4685-956f-a281f2eb9de3",
   "metadata": {},
   "outputs": [],
   "source": [
    "from sklearn.ensemble import GradientBoostingClassifier\n"
   ]
  },
  {
   "cell_type": "code",
   "execution_count": 526,
   "id": "08b89bf1-81a0-4252-8036-84fc185455ae",
   "metadata": {},
   "outputs": [],
   "source": [
    "gbc = GradientBoostingClassifier(random_state=42)"
   ]
  },
  {
   "cell_type": "code",
   "execution_count": 527,
   "id": "6bf1aedc-43da-40c4-894c-551a935edb86",
   "metadata": {},
   "outputs": [
    {
     "data": {
      "text/plain": [
       "GradientBoostingClassifier(random_state=42)"
      ]
     },
     "execution_count": 527,
     "metadata": {},
     "output_type": "execute_result"
    }
   ],
   "source": [
    "gbc.fit(X_train, y_train)"
   ]
  },
  {
   "cell_type": "code",
   "execution_count": 528,
   "id": "e733708b-7afc-456c-b74b-db4760d267fe",
   "metadata": {},
   "outputs": [],
   "source": [
    "preds_gbc = gbc.predict(X_test)"
   ]
  },
  {
   "cell_type": "code",
   "execution_count": 529,
   "id": "13d36cf9-53c5-42d8-b0d2-26d3e771f368",
   "metadata": {},
   "outputs": [
    {
     "name": "stdout",
     "output_type": "stream",
     "text": [
      "Accuracy: 0.9767902632323804\n",
      "Precision: 0.9102040816326531\n",
      "Recall: 0.7879858657243817\n",
      "F1: 0.8446969696969697\n"
     ]
    }
   ],
   "source": [
    "print(\"Accuracy:\",metrics.accuracy_score(y_test, preds_gbc))\n",
    "print(\"Precision:\",metrics.precision_score(y_test, preds_gbc))\n",
    "print(\"Recall:\",metrics.recall_score(y_test, preds_gbc))\n",
    "print(\"F1:\",metrics.f1_score(y_test, preds_gbc))\n"
   ]
  },
  {
   "cell_type": "code",
   "execution_count": null,
   "id": "b0e86ccc-d28e-4367-a053-f304cccd8683",
   "metadata": {},
   "outputs": [],
   "source": []
  },
  {
   "cell_type": "markdown",
   "id": "236d59aa-915a-4f02-b40f-7fded64cb24f",
   "metadata": {},
   "source": [
    "Try without Sale Duration 2 and see if better results: Nope, same results"
   ]
  },
  {
   "cell_type": "code",
   "execution_count": 246,
   "id": "d585a428-acfc-4f1f-9f9d-54a38755db3c",
   "metadata": {},
   "outputs": [],
   "source": [
    "sd_df = new_df.copy()"
   ]
  },
  {
   "cell_type": "code",
   "execution_count": 247,
   "id": "6779413f-b228-402c-9141-aeac2ad289a6",
   "metadata": {},
   "outputs": [],
   "source": [
    "sd_df.drop(columns='sale_duration2', inplace=True)"
   ]
  },
  {
   "cell_type": "code",
   "execution_count": null,
   "id": "84dca819-edc2-40da-b8d5-d660fbcf53bf",
   "metadata": {},
   "outputs": [],
   "source": [
    "X_train, X_test, y_train, y_test = train_test_split()"
   ]
  },
  {
   "cell_type": "code",
   "execution_count": 248,
   "id": "28c5b2fe-9ca3-4e94-8b95-8f4d0a836af8",
   "metadata": {},
   "outputs": [],
   "source": [
    "sd_rf = RandomForestClassifier(class_weight='balanced', random_state=42)"
   ]
  },
  {
   "cell_type": "code",
   "execution_count": 249,
   "id": "50547bbc-925c-4be8-ae15-e7f936519ad5",
   "metadata": {},
   "outputs": [
    {
     "data": {
      "text/plain": [
       "RandomForestClassifier(class_weight='balanced', random_state=42)"
      ]
     },
     "execution_count": 249,
     "metadata": {},
     "output_type": "execute_result"
    }
   ],
   "source": [
    "sd_rf.fit(X_train, y_train)"
   ]
  },
  {
   "cell_type": "code",
   "execution_count": 250,
   "id": "3138d298-67dd-415e-aa5b-b14b31ce2dd8",
   "metadata": {},
   "outputs": [],
   "source": [
    "sd_preds = sd_rf.predict(X_test)"
   ]
  },
  {
   "cell_type": "code",
   "execution_count": 251,
   "id": "d287db79-f6b8-4b31-85dd-6a29acae04a6",
   "metadata": {},
   "outputs": [
    {
     "name": "stdout",
     "output_type": "stream",
     "text": [
      "Accuracy: 0.9750919898103595\n",
      "Precision: 0.892\n",
      "Recall: 0.7852112676056338\n",
      "F1: 0.8352059925093632\n"
     ]
    }
   ],
   "source": [
    "print(\"Accuracy:\",metrics.accuracy_score(y_test, sd_preds))\n",
    "print(\"Precision:\",metrics.precision_score(y_test, sd_preds))\n",
    "print(\"Recall:\",metrics.recall_score(y_test, sd_preds))\n",
    "print(\"F1:\",metrics.f1_score(y_test, sd_preds))"
   ]
  },
  {
   "cell_type": "code",
   "execution_count": 253,
   "id": "31fdff00-d588-40d4-9a76-1f3a5e753d89",
   "metadata": {},
   "outputs": [
    {
     "data": {
      "text/plain": [
       "array([[3222,   27],\n",
       "       [  61,  223]])"
      ]
     },
     "execution_count": 253,
     "metadata": {},
     "output_type": "execute_result"
    }
   ],
   "source": [
    "sd_cm = confusion_matrix(y_test, sd_preds)\n",
    "sd_cm"
   ]
  },
  {
   "cell_type": "code",
   "execution_count": null,
   "id": "0a02fd3c-fb6d-40a9-a3e1-f94e928450fb",
   "metadata": {},
   "outputs": [],
   "source": []
  },
  {
   "cell_type": "code",
   "execution_count": null,
   "id": "ca971642-a52b-405b-8a25-b71cfd68be8b",
   "metadata": {},
   "outputs": [],
   "source": []
  },
  {
   "cell_type": "code",
   "execution_count": null,
   "id": "d9141102-2597-4513-a1aa-a761dcab7ae1",
   "metadata": {},
   "outputs": [],
   "source": []
  },
  {
   "cell_type": "markdown",
   "id": "d9845739-d7dd-421d-b489-6136ed2e905e",
   "metadata": {},
   "source": [
    "#### Trying a Min Max Scaler to see if we get better results; Nope, same. "
   ]
  },
  {
   "cell_type": "code",
   "execution_count": 265,
   "id": "673658a9-2ce2-4d4f-9b1a-6db6dba018d3",
   "metadata": {},
   "outputs": [],
   "source": [
    "mm_df = new_df.copy()"
   ]
  },
  {
   "cell_type": "code",
   "execution_count": 259,
   "id": "80bfc8c3-e82f-443d-b910-bf62bf0dfe51",
   "metadata": {},
   "outputs": [],
   "source": [
    "from sklearn.preprocessing import MinMaxScaler"
   ]
  },
  {
   "cell_type": "code",
   "execution_count": 266,
   "id": "2bd59a4d-40fd-4555-8489-f4acadd00e1a",
   "metadata": {},
   "outputs": [],
   "source": [
    "y = mm_df.pop('fraud')\n",
    "X = mm_df.copy()"
   ]
  },
  {
   "cell_type": "code",
   "execution_count": 267,
   "id": "8ce82e01-6abb-423e-ba57-06cf764f2b79",
   "metadata": {},
   "outputs": [],
   "source": [
    "X_train, X_test, y_train, y_test = train_test_split(X, y, random_state = 42)"
   ]
  },
  {
   "cell_type": "code",
   "execution_count": 260,
   "id": "54860785-2b01-4c25-8020-1105dd11a961",
   "metadata": {},
   "outputs": [],
   "source": [
    "scaler = MinMaxScaler()"
   ]
  },
  {
   "cell_type": "code",
   "execution_count": 268,
   "id": "44704346-8534-48fd-bd7e-237c3fbd7abb",
   "metadata": {},
   "outputs": [],
   "source": [
    "X_train_scaled = scaler.fit_transform(X_train)"
   ]
  },
  {
   "cell_type": "code",
   "execution_count": 269,
   "id": "c5b203a1-3d26-43fb-9f0b-1c5ecd15b84b",
   "metadata": {},
   "outputs": [],
   "source": [
    "mm_model = RandomForestClassifier(class_weight='balanced', random_state = 42)"
   ]
  },
  {
   "cell_type": "code",
   "execution_count": 270,
   "id": "cd9f49d8-53a3-4a26-b1a7-789a8ebe9640",
   "metadata": {},
   "outputs": [
    {
     "data": {
      "text/plain": [
       "RandomForestClassifier(class_weight='balanced', random_state=42)"
      ]
     },
     "execution_count": 270,
     "metadata": {},
     "output_type": "execute_result"
    }
   ],
   "source": [
    "mm_model.fit(X_train_scaled, y_train)"
   ]
  },
  {
   "cell_type": "code",
   "execution_count": 271,
   "id": "63340fb3-8152-4056-a168-905b9cb9bf47",
   "metadata": {},
   "outputs": [],
   "source": [
    "X_test_scaled = scaler.transform(X_test)\n",
    "mm_pred = mm_model.predict(X_test_scaled)"
   ]
  },
  {
   "cell_type": "code",
   "execution_count": 272,
   "id": "2904d58b-2730-4d02-b7c0-4d523be7e614",
   "metadata": {},
   "outputs": [
    {
     "name": "stdout",
     "output_type": "stream",
     "text": [
      "Accuracy: 0.9748089442400226\n",
      "Precision: 0.891566265060241\n",
      "Recall: 0.7816901408450704\n",
      "F1: 0.8330206378986865\n"
     ]
    }
   ],
   "source": [
    "print(\"Accuracy:\",metrics.accuracy_score(y_test, mm_pred))\n",
    "print(\"Precision:\",metrics.precision_score(y_test, mm_pred))\n",
    "print(\"Recall:\",metrics.recall_score(y_test, mm_pred))\n",
    "print(\"F1:\",metrics.f1_score(y_test, mm_pred))"
   ]
  },
  {
   "cell_type": "code",
   "execution_count": 126,
   "id": "b91184e8-0ad1-467a-a11a-5aae5c2675a7",
   "metadata": {},
   "outputs": [],
   "source": [
    "import joblib"
   ]
  },
  {
   "cell_type": "code",
   "execution_count": 127,
   "id": "050f2b85-ec66-433a-af8b-0b7b5e8f37ab",
   "metadata": {},
   "outputs": [
    {
     "data": {
      "text/plain": [
       "['tuned_balanced_rf.sav']"
      ]
     },
     "execution_count": 127,
     "metadata": {},
     "output_type": "execute_result"
    }
   ],
   "source": [
    "filename = 'tuned_balanced_rf.sav'\n",
    "joblib.dump(rf_hyp, filename)"
   ]
  },
  {
   "cell_type": "code",
   "execution_count": null,
   "id": "85a29981-f274-407e-9f96-884fb5f10518",
   "metadata": {},
   "outputs": [],
   "source": []
  },
  {
   "cell_type": "code",
   "execution_count": 143,
   "id": "342e0847-1d73-45ee-82cc-aa6afe5b5b21",
   "metadata": {},
   "outputs": [
    {
     "data": {
      "text/plain": [
       "31"
      ]
     },
     "execution_count": 143,
     "metadata": {},
     "output_type": "execute_result"
    }
   ],
   "source": [
    "len(X_train.columns)"
   ]
  },
  {
   "cell_type": "code",
   "execution_count": 133,
   "id": "bf28bb51-5370-4bd7-95c0-13c477bd6eb0",
   "metadata": {},
   "outputs": [
    {
     "data": {
      "text/plain": [
       "pandas.core.frame.DataFrame"
      ]
     },
     "execution_count": 133,
     "metadata": {},
     "output_type": "execute_result"
    }
   ],
   "source": [
    "type(X_train)"
   ]
  },
  {
   "cell_type": "code",
   "execution_count": 145,
   "id": "1aa11f20-e618-4e3a-9014-aec75386a220",
   "metadata": {},
   "outputs": [
    {
     "data": {
      "text/html": [
       "<div>\n",
       "<style scoped>\n",
       "    .dataframe tbody tr th:only-of-type {\n",
       "        vertical-align: middle;\n",
       "    }\n",
       "\n",
       "    .dataframe tbody tr th {\n",
       "        vertical-align: top;\n",
       "    }\n",
       "\n",
       "    .dataframe thead th {\n",
       "        text-align: right;\n",
       "    }\n",
       "</style>\n",
       "<table border=\"1\" class=\"dataframe\">\n",
       "  <thead>\n",
       "    <tr style=\"text-align: right;\">\n",
       "      <th></th>\n",
       "      <th>approx_payout_date</th>\n",
       "      <th>body_length</th>\n",
       "      <th>channels</th>\n",
       "      <th>country</th>\n",
       "      <th>currency</th>\n",
       "      <th>delivery_method</th>\n",
       "      <th>email_domain</th>\n",
       "      <th>event_created</th>\n",
       "      <th>event_end</th>\n",
       "      <th>event_published</th>\n",
       "      <th>...</th>\n",
       "      <th>org_name</th>\n",
       "      <th>org_twitter</th>\n",
       "      <th>payee_name</th>\n",
       "      <th>payout_type</th>\n",
       "      <th>sale_duration</th>\n",
       "      <th>sale_duration2</th>\n",
       "      <th>show_map</th>\n",
       "      <th>user_age</th>\n",
       "      <th>user_created</th>\n",
       "      <th>user_type</th>\n",
       "    </tr>\n",
       "  </thead>\n",
       "  <tbody>\n",
       "    <tr>\n",
       "      <th>4366</th>\n",
       "      <td>1369980000</td>\n",
       "      <td>568</td>\n",
       "      <td>11</td>\n",
       "      <td>9</td>\n",
       "      <td>1</td>\n",
       "      <td>0.0</td>\n",
       "      <td>2716</td>\n",
       "      <td>1365791994</td>\n",
       "      <td>1369548000</td>\n",
       "      <td>1.365800e+09</td>\n",
       "      <td>...</td>\n",
       "      <td>6</td>\n",
       "      <td>14.0</td>\n",
       "      <td>0</td>\n",
       "      <td>1</td>\n",
       "      <td>43.0</td>\n",
       "      <td>43</td>\n",
       "      <td>1</td>\n",
       "      <td>2</td>\n",
       "      <td>1365624871</td>\n",
       "      <td>3</td>\n",
       "    </tr>\n",
       "    <tr>\n",
       "      <th>2205</th>\n",
       "      <td>1350851400</td>\n",
       "      <td>735</td>\n",
       "      <td>8</td>\n",
       "      <td>24</td>\n",
       "      <td>3</td>\n",
       "      <td>0.0</td>\n",
       "      <td>5582</td>\n",
       "      <td>1345553145</td>\n",
       "      <td>1350419400</td>\n",
       "      <td>1.345553e+09</td>\n",
       "      <td>...</td>\n",
       "      <td>4291</td>\n",
       "      <td>0.0</td>\n",
       "      <td>0</td>\n",
       "      <td>1</td>\n",
       "      <td>56.0</td>\n",
       "      <td>56</td>\n",
       "      <td>1</td>\n",
       "      <td>1155</td>\n",
       "      <td>1245757610</td>\n",
       "      <td>4</td>\n",
       "    </tr>\n",
       "    <tr>\n",
       "      <th>12787</th>\n",
       "      <td>1362528000</td>\n",
       "      <td>100</td>\n",
       "      <td>0</td>\n",
       "      <td>65</td>\n",
       "      <td>6</td>\n",
       "      <td>0.0</td>\n",
       "      <td>173</td>\n",
       "      <td>1356024888</td>\n",
       "      <td>1362096000</td>\n",
       "      <td>1.356025e+09</td>\n",
       "      <td>...</td>\n",
       "      <td>7786</td>\n",
       "      <td>12.0</td>\n",
       "      <td>0</td>\n",
       "      <td>1</td>\n",
       "      <td>70.0</td>\n",
       "      <td>70</td>\n",
       "      <td>1</td>\n",
       "      <td>1222</td>\n",
       "      <td>1250441017</td>\n",
       "      <td>4</td>\n",
       "    </tr>\n",
       "    <tr>\n",
       "      <th>10622</th>\n",
       "      <td>1329670800</td>\n",
       "      <td>10416</td>\n",
       "      <td>8</td>\n",
       "      <td>9</td>\n",
       "      <td>1</td>\n",
       "      <td>0.0</td>\n",
       "      <td>3691</td>\n",
       "      <td>1327071641</td>\n",
       "      <td>1329238800</td>\n",
       "      <td>1.327868e+09</td>\n",
       "      <td>...</td>\n",
       "      <td>5348</td>\n",
       "      <td>0.0</td>\n",
       "      <td>0</td>\n",
       "      <td>1</td>\n",
       "      <td>16.0</td>\n",
       "      <td>25</td>\n",
       "      <td>1</td>\n",
       "      <td>51</td>\n",
       "      <td>1322687314</td>\n",
       "      <td>3</td>\n",
       "    </tr>\n",
       "    <tr>\n",
       "      <th>1912</th>\n",
       "      <td>1374624000</td>\n",
       "      <td>2326</td>\n",
       "      <td>5</td>\n",
       "      <td>24</td>\n",
       "      <td>3</td>\n",
       "      <td>0.0</td>\n",
       "      <td>1786</td>\n",
       "      <td>1368709337</td>\n",
       "      <td>1374192000</td>\n",
       "      <td>1.368725e+09</td>\n",
       "      <td>...</td>\n",
       "      <td>6028</td>\n",
       "      <td>18.0</td>\n",
       "      <td>0</td>\n",
       "      <td>1</td>\n",
       "      <td>63.0</td>\n",
       "      <td>63</td>\n",
       "      <td>1</td>\n",
       "      <td>338</td>\n",
       "      <td>1339499843</td>\n",
       "      <td>4</td>\n",
       "    </tr>\n",
       "    <tr>\n",
       "      <th>...</th>\n",
       "      <td>...</td>\n",
       "      <td>...</td>\n",
       "      <td>...</td>\n",
       "      <td>...</td>\n",
       "      <td>...</td>\n",
       "      <td>...</td>\n",
       "      <td>...</td>\n",
       "      <td>...</td>\n",
       "      <td>...</td>\n",
       "      <td>...</td>\n",
       "      <td>...</td>\n",
       "      <td>...</td>\n",
       "      <td>...</td>\n",
       "      <td>...</td>\n",
       "      <td>...</td>\n",
       "      <td>...</td>\n",
       "      <td>...</td>\n",
       "      <td>...</td>\n",
       "      <td>...</td>\n",
       "      <td>...</td>\n",
       "      <td>...</td>\n",
       "    </tr>\n",
       "    <tr>\n",
       "      <th>12924</th>\n",
       "      <td>1375588800</td>\n",
       "      <td>9838</td>\n",
       "      <td>8</td>\n",
       "      <td>4</td>\n",
       "      <td>0</td>\n",
       "      <td>0.0</td>\n",
       "      <td>4105</td>\n",
       "      <td>1370768089</td>\n",
       "      <td>1375156800</td>\n",
       "      <td>1.370871e+09</td>\n",
       "      <td>...</td>\n",
       "      <td>6503</td>\n",
       "      <td>0.0</td>\n",
       "      <td>0</td>\n",
       "      <td>1</td>\n",
       "      <td>49.0</td>\n",
       "      <td>50</td>\n",
       "      <td>1</td>\n",
       "      <td>138</td>\n",
       "      <td>1358855720</td>\n",
       "      <td>4</td>\n",
       "    </tr>\n",
       "    <tr>\n",
       "      <th>5647</th>\n",
       "      <td>1343413800</td>\n",
       "      <td>1091</td>\n",
       "      <td>8</td>\n",
       "      <td>24</td>\n",
       "      <td>3</td>\n",
       "      <td>0.0</td>\n",
       "      <td>3335</td>\n",
       "      <td>1332499333</td>\n",
       "      <td>1342981800</td>\n",
       "      <td>1.332500e+09</td>\n",
       "      <td>...</td>\n",
       "      <td>5333</td>\n",
       "      <td>11.0</td>\n",
       "      <td>0</td>\n",
       "      <td>1</td>\n",
       "      <td>121.0</td>\n",
       "      <td>121</td>\n",
       "      <td>1</td>\n",
       "      <td>653</td>\n",
       "      <td>1276126545</td>\n",
       "      <td>4</td>\n",
       "    </tr>\n",
       "    <tr>\n",
       "      <th>5881</th>\n",
       "      <td>1371009600</td>\n",
       "      <td>1767</td>\n",
       "      <td>8</td>\n",
       "      <td>9</td>\n",
       "      <td>1</td>\n",
       "      <td>0.0</td>\n",
       "      <td>5183</td>\n",
       "      <td>1369321904</td>\n",
       "      <td>1370577600</td>\n",
       "      <td>1.369322e+09</td>\n",
       "      <td>...</td>\n",
       "      <td>0</td>\n",
       "      <td>0.0</td>\n",
       "      <td>0</td>\n",
       "      <td>1</td>\n",
       "      <td>14.0</td>\n",
       "      <td>14</td>\n",
       "      <td>1</td>\n",
       "      <td>1129</td>\n",
       "      <td>1271776754</td>\n",
       "      <td>4</td>\n",
       "    </tr>\n",
       "    <tr>\n",
       "      <th>10306</th>\n",
       "      <td>1366956000</td>\n",
       "      <td>273</td>\n",
       "      <td>8</td>\n",
       "      <td>65</td>\n",
       "      <td>6</td>\n",
       "      <td>0.0</td>\n",
       "      <td>2084</td>\n",
       "      <td>1358508254</td>\n",
       "      <td>1366524000</td>\n",
       "      <td>1.358509e+09</td>\n",
       "      <td>...</td>\n",
       "      <td>6817</td>\n",
       "      <td>0.0</td>\n",
       "      <td>0</td>\n",
       "      <td>1</td>\n",
       "      <td>92.0</td>\n",
       "      <td>92</td>\n",
       "      <td>1</td>\n",
       "      <td>0</td>\n",
       "      <td>1358508252</td>\n",
       "      <td>1</td>\n",
       "    </tr>\n",
       "    <tr>\n",
       "      <th>6002</th>\n",
       "      <td>1310272200</td>\n",
       "      <td>1116</td>\n",
       "      <td>10</td>\n",
       "      <td>65</td>\n",
       "      <td>6</td>\n",
       "      <td>0.0</td>\n",
       "      <td>2775</td>\n",
       "      <td>1304010520</td>\n",
       "      <td>1309840200</td>\n",
       "      <td>1.304013e+09</td>\n",
       "      <td>...</td>\n",
       "      <td>1846</td>\n",
       "      <td>0.0</td>\n",
       "      <td>480</td>\n",
       "      <td>2</td>\n",
       "      <td>67.0</td>\n",
       "      <td>67</td>\n",
       "      <td>1</td>\n",
       "      <td>416</td>\n",
       "      <td>1268075877</td>\n",
       "      <td>1</td>\n",
       "    </tr>\n",
       "  </tbody>\n",
       "</table>\n",
       "<p>10599 rows × 31 columns</p>\n",
       "</div>"
      ],
      "text/plain": [
       "       approx_payout_date  body_length  channels  country  currency  \\\n",
       "4366           1369980000          568        11        9         1   \n",
       "2205           1350851400          735         8       24         3   \n",
       "12787          1362528000          100         0       65         6   \n",
       "10622          1329670800        10416         8        9         1   \n",
       "1912           1374624000         2326         5       24         3   \n",
       "...                   ...          ...       ...      ...       ...   \n",
       "12924          1375588800         9838         8        4         0   \n",
       "5647           1343413800         1091         8       24         3   \n",
       "5881           1371009600         1767         8        9         1   \n",
       "10306          1366956000          273         8       65         6   \n",
       "6002           1310272200         1116        10       65         6   \n",
       "\n",
       "       delivery_method  email_domain  event_created   event_end  \\\n",
       "4366               0.0          2716     1365791994  1369548000   \n",
       "2205               0.0          5582     1345553145  1350419400   \n",
       "12787              0.0           173     1356024888  1362096000   \n",
       "10622              0.0          3691     1327071641  1329238800   \n",
       "1912               0.0          1786     1368709337  1374192000   \n",
       "...                ...           ...            ...         ...   \n",
       "12924              0.0          4105     1370768089  1375156800   \n",
       "5647               0.0          3335     1332499333  1342981800   \n",
       "5881               0.0          5183     1369321904  1370577600   \n",
       "10306              0.0          2084     1358508254  1366524000   \n",
       "6002               0.0          2775     1304010520  1309840200   \n",
       "\n",
       "       event_published  ...  org_name  org_twitter  payee_name  payout_type  \\\n",
       "4366      1.365800e+09  ...         6         14.0           0            1   \n",
       "2205      1.345553e+09  ...      4291          0.0           0            1   \n",
       "12787     1.356025e+09  ...      7786         12.0           0            1   \n",
       "10622     1.327868e+09  ...      5348          0.0           0            1   \n",
       "1912      1.368725e+09  ...      6028         18.0           0            1   \n",
       "...                ...  ...       ...          ...         ...          ...   \n",
       "12924     1.370871e+09  ...      6503          0.0           0            1   \n",
       "5647      1.332500e+09  ...      5333         11.0           0            1   \n",
       "5881      1.369322e+09  ...         0          0.0           0            1   \n",
       "10306     1.358509e+09  ...      6817          0.0           0            1   \n",
       "6002      1.304013e+09  ...      1846          0.0         480            2   \n",
       "\n",
       "       sale_duration  sale_duration2  show_map  user_age  user_created  \\\n",
       "4366            43.0              43         1         2    1365624871   \n",
       "2205            56.0              56         1      1155    1245757610   \n",
       "12787           70.0              70         1      1222    1250441017   \n",
       "10622           16.0              25         1        51    1322687314   \n",
       "1912            63.0              63         1       338    1339499843   \n",
       "...              ...             ...       ...       ...           ...   \n",
       "12924           49.0              50         1       138    1358855720   \n",
       "5647           121.0             121         1       653    1276126545   \n",
       "5881            14.0              14         1      1129    1271776754   \n",
       "10306           92.0              92         1         0    1358508252   \n",
       "6002            67.0              67         1       416    1268075877   \n",
       "\n",
       "       user_type  \n",
       "4366           3  \n",
       "2205           4  \n",
       "12787          4  \n",
       "10622          3  \n",
       "1912           4  \n",
       "...          ...  \n",
       "12924          4  \n",
       "5647           4  \n",
       "5881           4  \n",
       "10306          1  \n",
       "6002           1  \n",
       "\n",
       "[10599 rows x 31 columns]"
      ]
     },
     "execution_count": 145,
     "metadata": {},
     "output_type": "execute_result"
    }
   ],
   "source": [
    "X_train"
   ]
  },
  {
   "cell_type": "code",
   "execution_count": 146,
   "id": "986e5c47-6163-49eb-8480-a475cf3daf6a",
   "metadata": {},
   "outputs": [],
   "source": [
    "sample = X_train.loc[2205].tolist()"
   ]
  },
  {
   "cell_type": "code",
   "execution_count": 147,
   "id": "4ea8813e-37a7-468d-9b87-fe608d69a751",
   "metadata": {},
   "outputs": [
    {
     "data": {
      "text/plain": [
       "31"
      ]
     },
     "execution_count": 147,
     "metadata": {},
     "output_type": "execute_result"
    }
   ],
   "source": [
    "len(sample)"
   ]
  },
  {
   "cell_type": "code",
   "execution_count": 148,
   "id": "fd413cd8-979a-47fb-9e80-8d0b702698fd",
   "metadata": {},
   "outputs": [
    {
     "data": {
      "text/plain": [
       "[1350851400.0,\n",
       " 735.0,\n",
       " 8.0,\n",
       " 24.0,\n",
       " 3.0,\n",
       " 0.0,\n",
       " 5582.0,\n",
       " 1345553145.0,\n",
       " 1350419400.0,\n",
       " 1345553417.0,\n",
       " 1350405000.0,\n",
       " 0.0,\n",
       " 411.07,\n",
       " 0.0,\n",
       " 1.0,\n",
       " 1.0,\n",
       " 23.0,\n",
       " 4.0,\n",
       " 1.0,\n",
       " 4165664.0,\n",
       " 50.0,\n",
       " 4291.0,\n",
       " 0.0,\n",
       " 0.0,\n",
       " 1.0,\n",
       " 56.0,\n",
       " 56.0,\n",
       " 1.0,\n",
       " 1155.0,\n",
       " 1245757610.0,\n",
       " 4.0]"
      ]
     },
     "execution_count": 148,
     "metadata": {},
     "output_type": "execute_result"
    }
   ],
   "source": [
    "sample"
   ]
  },
  {
   "cell_type": "code",
   "execution_count": null,
   "id": "313ef54f-1116-4fd4-bc0e-c8d737ba0550",
   "metadata": {},
   "outputs": [],
   "source": []
  }
 ],
 "metadata": {
  "kernelspec": {
   "display_name": "Python 3",
   "language": "python",
   "name": "python3"
  },
  "language_info": {
   "codemirror_mode": {
    "name": "ipython",
    "version": 3
   },
   "file_extension": ".py",
   "mimetype": "text/x-python",
   "name": "python",
   "nbconvert_exporter": "python",
   "pygments_lexer": "ipython3",
   "version": "3.7.7"
  }
 },
 "nbformat": 4,
 "nbformat_minor": 5
}
