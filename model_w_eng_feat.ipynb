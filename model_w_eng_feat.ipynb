{
 "cells": [
  {
   "cell_type": "markdown",
   "id": "e8703b6d-69cb-41c1-9156-154ce0b043fe",
   "metadata": {},
   "source": [
    "Becky's EDA for Fraud Case Study"
   ]
  },
  {
   "cell_type": "markdown",
   "id": "2a67f49b-c447-4789-a0e4-fce473dc82c3",
   "metadata": {},
   "source": [
    "#### Initial EDA"
   ]
  },
  {
   "cell_type": "code",
   "execution_count": 144,
   "id": "0aabe25a-0dbc-4466-b6de-df13947f9dd2",
   "metadata": {},
   "outputs": [],
   "source": [
    "import pandas as pd\n",
    "import numpy as np\n",
    "import seaborn as sns\n",
    "import matplotlib.pyplot as plt\n",
    "plt.style.use('ggplot')\n",
    "%matplotlib inline\n",
    "import seaborn as sns\n",
    "\n",
    "from sklearn.preprocessing import LabelEncoder"
   ]
  },
  {
   "cell_type": "code",
   "execution_count": 145,
   "id": "526840f3-6e80-416c-ac8c-cceb5b3658b9",
   "metadata": {},
   "outputs": [],
   "source": [
    "df = pd.read_json('~/data.json')"
   ]
  },
  {
   "cell_type": "code",
   "execution_count": 146,
   "id": "e599611d-a8ae-4bde-9baf-a8d27aa13a34",
   "metadata": {},
   "outputs": [],
   "source": [
    "# Creating a fraud target for classification based on string in acct_type (per assignment)\n",
    "df['fraud'] = df.acct_type.str.contains('fraud')"
   ]
  },
  {
   "cell_type": "code",
   "execution_count": 147,
   "id": "f844af3d-c103-4c51-aa05-54aa22c2baea",
   "metadata": {},
   "outputs": [
    {
     "data": {
      "text/plain": [
       "False    0.909814\n",
       "True     0.090186\n",
       "Name: fraud, dtype: float64"
      ]
     },
     "execution_count": 147,
     "metadata": {},
     "output_type": "execute_result"
    }
   ],
   "source": [
    "# Imbalanced classes... 91 / 9 \n",
    "df.fraud.value_counts(normalize=True)"
   ]
  },
  {
   "cell_type": "code",
   "execution_count": null,
   "id": "5d41c4f8-2bdb-47e9-b9a2-5b61f81d1b85",
   "metadata": {},
   "outputs": [],
   "source": []
  },
  {
   "cell_type": "code",
   "execution_count": 148,
   "id": "0c25e5c7-49ec-427e-aecf-1ccb5da0bc95",
   "metadata": {},
   "outputs": [],
   "source": [
    "# Replace NaNs with Unknown for country so we can still use the rest of the data\n",
    "\n",
    "df.country.replace({np.nan: 'Unknown', '': 'Unknown'}, inplace=True)"
   ]
  },
  {
   "cell_type": "code",
   "execution_count": 149,
   "id": "d030f18b-d72d-4ca8-bee8-82446b73a32c",
   "metadata": {},
   "outputs": [
    {
     "data": {
      "text/plain": [
       "US         9234\n",
       "GB         2083\n",
       "CA         1262\n",
       "AU          742\n",
       "Unknown     397\n",
       "Name: country, dtype: int64"
      ]
     },
     "execution_count": 149,
     "metadata": {},
     "output_type": "execute_result"
    }
   ],
   "source": [
    "df.country.value_counts()[:5]"
   ]
  },
  {
   "cell_type": "markdown",
   "id": "856a55f6-5b8d-474f-b900-9e53762cd5ef",
   "metadata": {},
   "source": [
    "### Don't forget to Establish a baseline"
   ]
  },
  {
   "cell_type": "code",
   "execution_count": 150,
   "id": "7f098447-72b5-4e44-930c-353785776aed",
   "metadata": {},
   "outputs": [],
   "source": [
    "import re as re\n",
    "import string"
   ]
  },
  {
   "cell_type": "code",
   "execution_count": 151,
   "id": "a4e8fdcb-3452-4123-98f8-18ba00340f86",
   "metadata": {},
   "outputs": [],
   "source": [
    "# Try adding in engineered features on the language"
   ]
  },
  {
   "cell_type": "code",
   "execution_count": 198,
   "id": "da157fc2-48fd-45f0-8ae4-7b0abb3b11c1",
   "metadata": {},
   "outputs": [],
   "source": [
    "model_df = df.copy()"
   ]
  },
  {
   "cell_type": "code",
   "execution_count": 199,
   "id": "c350d716-abfe-4381-9bc5-fc03d9caf268",
   "metadata": {},
   "outputs": [],
   "source": [
    "def remove_html_tags(string):\n",
    "    result = re.sub('(<[^>]+>|/\\r?\\n|\\r/g&amp\\xa0)','',string)\n",
    "    result = re.sub('\\n', '', result)\n",
    "    result = re.sub('\\r', '', result)\n",
    "    return result\n"
   ]
  },
  {
   "cell_type": "code",
   "execution_count": 200,
   "id": "1bcd6214-6c0e-42e1-acae-2270da90e904",
   "metadata": {},
   "outputs": [],
   "source": [
    "model_df['desc_no_html']=model_df['description'].apply(lambda cw : remove_html_tags(cw))"
   ]
  },
  {
   "cell_type": "code",
   "execution_count": 201,
   "id": "0df26840-4158-49a8-be81-0851332f9b87",
   "metadata": {},
   "outputs": [],
   "source": [
    "# maybe fraudulent events have more punctuation or caps in their name or description?? \n",
    "\n",
    "def punctuation_ratio(str): \n",
    "    punc = 0\n",
    "    for ch in str: \n",
    "        if ch in string.punctuation: \n",
    "            punc += 1\n",
    "    if len(str) == 0: \n",
    "        return 0\n",
    "    else: \n",
    "        return punc / len(str)\n",
    "    \n",
    "def caps_ratio(str): \n",
    "    caps = 0\n",
    "    for ch in str: \n",
    "        if ch.isupper(): \n",
    "            caps += 1\n",
    "    if len(str) == 0: \n",
    "        return 0\n",
    "    else: \n",
    "        return caps / len(str)"
   ]
  },
  {
   "cell_type": "code",
   "execution_count": 202,
   "id": "cea0a9db-7e74-4f98-83d1-b2d0122199bb",
   "metadata": {},
   "outputs": [],
   "source": [
    "model_df['name_punc_ratio'] = model_df['name'].apply(punctuation_ratio)\n",
    "model_df['desc_no_html']=model_df['description'].apply(lambda cw : remove_html_tags(cw))\n",
    "model_df['desc_punc_ratio'] = model_df['desc_no_html'].apply(punctuation_ratio)\n",
    "model_df['name_caps_ratio'] = model_df['name'].apply(caps_ratio)\n",
    "model_df['desc_caps_ratio'] = model_df['desc_no_html'].apply(caps_ratio)\n",
    "model_df['org_name_caps_ratio'] = model_df['org_name'].apply(caps_ratio)\n",
    "model_df['org_name_punc_ratio'] = model_df['org_name'].apply(punctuation_ratio)\n",
    "model_df['org_desc_caps_ratio'] = model_df['org_desc'].apply(caps_ratio)\n",
    "model_df['org_desc_punc_ratio'] = model_df['org_desc'].apply(punctuation_ratio)"
   ]
  },
  {
   "cell_type": "code",
   "execution_count": 203,
   "id": "c804adbc-0f48-4c98-8f71-b519d2c97b61",
   "metadata": {},
   "outputs": [
    {
     "name": "stdout",
     "output_type": "stream",
     "text": [
      "<class 'pandas.core.frame.DataFrame'>\n",
      "RangeIndex: 14337 entries, 0 to 14336\n",
      "Data columns (total 54 columns):\n",
      " #   Column               Non-Null Count  Dtype  \n",
      "---  ------               --------------  -----  \n",
      " 0   acct_type            14337 non-null  object \n",
      " 1   approx_payout_date   14337 non-null  int64  \n",
      " 2   body_length          14337 non-null  int64  \n",
      " 3   channels             14337 non-null  int64  \n",
      " 4   country              14337 non-null  object \n",
      " 5   currency             14337 non-null  object \n",
      " 6   delivery_method      14321 non-null  float64\n",
      " 7   description          14337 non-null  object \n",
      " 8   email_domain         14337 non-null  object \n",
      " 9   event_created        14337 non-null  int64  \n",
      " 10  event_end            14337 non-null  int64  \n",
      " 11  event_published      14238 non-null  float64\n",
      " 12  event_start          14337 non-null  int64  \n",
      " 13  fb_published         14337 non-null  int64  \n",
      " 14  gts                  14337 non-null  float64\n",
      " 15  has_analytics        14337 non-null  int64  \n",
      " 16  has_header           8928 non-null   float64\n",
      " 17  has_logo             14337 non-null  int64  \n",
      " 18  listed               14337 non-null  object \n",
      " 19  name                 14337 non-null  object \n",
      " 20  name_length          14337 non-null  int64  \n",
      " 21  num_order            14337 non-null  int64  \n",
      " 22  num_payouts          14337 non-null  int64  \n",
      " 23  object_id            14337 non-null  int64  \n",
      " 24  org_desc             14337 non-null  object \n",
      " 25  org_facebook         14278 non-null  float64\n",
      " 26  org_name             14337 non-null  object \n",
      " 27  org_twitter          14278 non-null  float64\n",
      " 28  payee_name           14337 non-null  object \n",
      " 29  payout_type          14337 non-null  object \n",
      " 30  previous_payouts     14337 non-null  object \n",
      " 31  sale_duration        14182 non-null  float64\n",
      " 32  sale_duration2       14337 non-null  int64  \n",
      " 33  show_map             14337 non-null  int64  \n",
      " 34  ticket_types         14337 non-null  object \n",
      " 35  user_age             14337 non-null  int64  \n",
      " 36  user_created         14337 non-null  int64  \n",
      " 37  user_type            14337 non-null  int64  \n",
      " 38  venue_address        14337 non-null  object \n",
      " 39  venue_country        13261 non-null  object \n",
      " 40  venue_latitude       13261 non-null  float64\n",
      " 41  venue_longitude      13261 non-null  float64\n",
      " 42  venue_name           13261 non-null  object \n",
      " 43  venue_state          13261 non-null  object \n",
      " 44  fraud                14337 non-null  bool   \n",
      " 45  desc_no_html         14337 non-null  object \n",
      " 46  name_punc_ratio      14337 non-null  float64\n",
      " 47  desc_punc_ratio      14337 non-null  float64\n",
      " 48  name_caps_ratio      14337 non-null  float64\n",
      " 49  desc_caps_ratio      14337 non-null  float64\n",
      " 50  org_name_caps_ratio  14337 non-null  float64\n",
      " 51  org_name_punc_ratio  14337 non-null  float64\n",
      " 52  org_desc_caps_ratio  14337 non-null  float64\n",
      " 53  org_desc_punc_ratio  14337 non-null  float64\n",
      "dtypes: bool(1), float64(17), int64(18), object(18)\n",
      "memory usage: 5.8+ MB\n"
     ]
    }
   ],
   "source": [
    "model_df.info()"
   ]
  },
  {
   "cell_type": "code",
   "execution_count": 204,
   "id": "24296303-bb2c-4b2d-a843-2f1567b02483",
   "metadata": {},
   "outputs": [],
   "source": [
    "# Dropping columns with lots of NaNs or text only \n",
    "\n",
    "model_df.drop(columns=['acct_type', 'description', 'name', 'desc_no_html',\n",
    "                 'org_desc', 'previous_payouts', \n",
    "                 'ticket_types', 'venue_country', \n",
    "                 'venue_longitude', 'venue_latitude', \n",
    "                 'venue_name', 'venue_state', 'venue_address', 'has_header'], inplace=True)\n"
   ]
  },
  {
   "cell_type": "code",
   "execution_count": null,
   "id": "a739338b-90fb-4389-b6c0-732745eec4a9",
   "metadata": {},
   "outputs": [],
   "source": []
  },
  {
   "cell_type": "code",
   "execution_count": 205,
   "id": "a7a7a6ba-a868-4ffa-b32c-c6580fcdff55",
   "metadata": {},
   "outputs": [],
   "source": [
    "# label encoding first to make it easy... \n",
    "le = LabelEncoder()"
   ]
  },
  {
   "cell_type": "code",
   "execution_count": 206,
   "id": "83feeade-2db1-4c18-b95a-78479c82bcad",
   "metadata": {},
   "outputs": [],
   "source": [
    "# Testing out the label encoder on one column \n",
    "\n",
    "model_df['country'] = le.fit_transform(model_df['country'])"
   ]
  },
  {
   "cell_type": "code",
   "execution_count": 207,
   "id": "3ec8c334-10f2-4710-a826-2c250f7d9f7d",
   "metadata": {},
   "outputs": [
    {
     "data": {
      "text/plain": [
       "0        65\n",
       "1        65\n",
       "2        65\n",
       "3        30\n",
       "4        65\n",
       "         ..\n",
       "14332    65\n",
       "14333    65\n",
       "14334    67\n",
       "14335    65\n",
       "14336    24\n",
       "Name: country, Length: 14337, dtype: int64"
      ]
     },
     "execution_count": 207,
     "metadata": {},
     "output_type": "execute_result"
    }
   ],
   "source": [
    "model_df.country"
   ]
  },
  {
   "cell_type": "code",
   "execution_count": 208,
   "id": "4222d72b-948c-40b1-89ee-deeecc1bafce",
   "metadata": {},
   "outputs": [],
   "source": [
    "# Label encoding for other categorical columns \n",
    "model_df['currency'] = le.fit_transform(model_df['currency'])\n",
    "model_df['email_domain'] = le.fit_transform(model_df['email_domain'])\n",
    "model_df['listed'] = le.fit_transform(model_df['listed'])\n",
    "model_df['payee_name'] = le.fit_transform(model_df['payee_name'])\n",
    "model_df['payout_type'] = le.fit_transform(model_df['payout_type'])\n",
    "model_df['org_name'] = le.fit_transform(model_df['org_name'])\n"
   ]
  },
  {
   "cell_type": "code",
   "execution_count": 209,
   "id": "2716c626-40cc-4d0f-b304-1164081f10d8",
   "metadata": {},
   "outputs": [],
   "source": [
    "model_df.dropna(inplace=True)"
   ]
  },
  {
   "cell_type": "code",
   "execution_count": 275,
   "id": "371e48ee-9305-4f65-a16c-f1a0b9bd203f",
   "metadata": {},
   "outputs": [
    {
     "data": {
      "text/plain": [
       "(14132, 39)"
      ]
     },
     "execution_count": 275,
     "metadata": {},
     "output_type": "execute_result"
    }
   ],
   "source": [
    "model_df.shape"
   ]
  },
  {
   "cell_type": "code",
   "execution_count": 211,
   "id": "151f4c17-0ab6-45e3-9e1c-fb903d6ace33",
   "metadata": {},
   "outputs": [
    {
     "data": {
      "text/plain": [
       "False    13044\n",
       "True      1293\n",
       "Name: fraud, dtype: int64"
      ]
     },
     "execution_count": 211,
     "metadata": {},
     "output_type": "execute_result"
    }
   ],
   "source": [
    "df.fraud.value_counts()"
   ]
  },
  {
   "cell_type": "code",
   "execution_count": 212,
   "id": "97d7f1e2-6c3b-4f05-9658-e89290296812",
   "metadata": {},
   "outputs": [
    {
     "name": "stdout",
     "output_type": "stream",
     "text": [
      "<class 'pandas.core.frame.DataFrame'>\n",
      "Int64Index: 14132 entries, 0 to 14336\n",
      "Data columns (total 40 columns):\n",
      " #   Column               Non-Null Count  Dtype  \n",
      "---  ------               --------------  -----  \n",
      " 0   approx_payout_date   14132 non-null  int64  \n",
      " 1   body_length          14132 non-null  int64  \n",
      " 2   channels             14132 non-null  int64  \n",
      " 3   country              14132 non-null  int64  \n",
      " 4   currency             14132 non-null  int64  \n",
      " 5   delivery_method      14132 non-null  float64\n",
      " 6   email_domain         14132 non-null  int64  \n",
      " 7   event_created        14132 non-null  int64  \n",
      " 8   event_end            14132 non-null  int64  \n",
      " 9   event_published      14132 non-null  float64\n",
      " 10  event_start          14132 non-null  int64  \n",
      " 11  fb_published         14132 non-null  int64  \n",
      " 12  gts                  14132 non-null  float64\n",
      " 13  has_analytics        14132 non-null  int64  \n",
      " 14  has_logo             14132 non-null  int64  \n",
      " 15  listed               14132 non-null  int64  \n",
      " 16  name_length          14132 non-null  int64  \n",
      " 17  num_order            14132 non-null  int64  \n",
      " 18  num_payouts          14132 non-null  int64  \n",
      " 19  object_id            14132 non-null  int64  \n",
      " 20  org_facebook         14132 non-null  float64\n",
      " 21  org_name             14132 non-null  int64  \n",
      " 22  org_twitter          14132 non-null  float64\n",
      " 23  payee_name           14132 non-null  int64  \n",
      " 24  payout_type          14132 non-null  int64  \n",
      " 25  sale_duration        14132 non-null  float64\n",
      " 26  sale_duration2       14132 non-null  int64  \n",
      " 27  show_map             14132 non-null  int64  \n",
      " 28  user_age             14132 non-null  int64  \n",
      " 29  user_created         14132 non-null  int64  \n",
      " 30  user_type            14132 non-null  int64  \n",
      " 31  fraud                14132 non-null  bool   \n",
      " 32  name_punc_ratio      14132 non-null  float64\n",
      " 33  desc_punc_ratio      14132 non-null  float64\n",
      " 34  name_caps_ratio      14132 non-null  float64\n",
      " 35  desc_caps_ratio      14132 non-null  float64\n",
      " 36  org_name_caps_ratio  14132 non-null  float64\n",
      " 37  org_name_punc_ratio  14132 non-null  float64\n",
      " 38  org_desc_caps_ratio  14132 non-null  float64\n",
      " 39  org_desc_punc_ratio  14132 non-null  float64\n",
      "dtypes: bool(1), float64(14), int64(25)\n",
      "memory usage: 4.3 MB\n"
     ]
    }
   ],
   "source": [
    "model_df.info()"
   ]
  },
  {
   "cell_type": "code",
   "execution_count": 213,
   "id": "941a6cd4-0f5f-4bd6-8d69-a6efbe255a69",
   "metadata": {},
   "outputs": [],
   "source": [
    "# Retain new-df as a checkpoint to return to -- new_df is checkpoint, make a copy if messing with ... \n",
    "\n",
    "new_df = model_df.copy()"
   ]
  },
  {
   "cell_type": "code",
   "execution_count": 214,
   "id": "65b89448-1093-4b4d-b243-60920e8d4307",
   "metadata": {},
   "outputs": [],
   "source": [
    "from sklearn.model_selection import train_test_split"
   ]
  },
  {
   "cell_type": "code",
   "execution_count": null,
   "id": "2d47d6f6-82c9-49e7-8322-6901bf9a5075",
   "metadata": {},
   "outputs": [],
   "source": []
  },
  {
   "cell_type": "code",
   "execution_count": 215,
   "id": "121edbaf-98fb-4ded-ab08-e54da5200dea",
   "metadata": {},
   "outputs": [],
   "source": [
    "y = model_df.pop('fraud')"
   ]
  },
  {
   "cell_type": "code",
   "execution_count": 216,
   "id": "e71d7faf-3c28-43de-90ec-97e94ca9176d",
   "metadata": {},
   "outputs": [],
   "source": [
    "X = model_df.copy()"
   ]
  },
  {
   "cell_type": "code",
   "execution_count": 217,
   "id": "aab5ae46-bb39-48c6-a8f5-faad07ee24fc",
   "metadata": {},
   "outputs": [],
   "source": [
    "X_train, X_test, y_train, y_test = train_test_split(X, y, random_state=42, stratify=y)"
   ]
  },
  {
   "cell_type": "code",
   "execution_count": 276,
   "id": "967fb522-8d63-4c01-b719-e35a0e1a523b",
   "metadata": {},
   "outputs": [
    {
     "data": {
      "text/plain": [
       "False    0.919898\n",
       "True     0.080102\n",
       "Name: fraud, dtype: float64"
      ]
     },
     "execution_count": 276,
     "metadata": {},
     "output_type": "execute_result"
    }
   ],
   "source": [
    "y_train.value_counts(normalize=True)"
   ]
  },
  {
   "cell_type": "code",
   "execution_count": 277,
   "id": "c4cc64db-7b8f-4ad8-a965-527862229e52",
   "metadata": {},
   "outputs": [
    {
     "data": {
      "text/plain": [
       "False    0.919898\n",
       "True     0.080102\n",
       "Name: fraud, dtype: float64"
      ]
     },
     "execution_count": 277,
     "metadata": {},
     "output_type": "execute_result"
    }
   ],
   "source": [
    "y_test.value_counts(normalize=True)"
   ]
  },
  {
   "cell_type": "code",
   "execution_count": 220,
   "id": "60b69d5f-565e-4d6a-add3-a9b88bef9167",
   "metadata": {},
   "outputs": [],
   "source": [
    "feature_list = list(model_df.columns)\n"
   ]
  },
  {
   "cell_type": "code",
   "execution_count": 221,
   "id": "1112b101-c585-409b-ad70-ba4b9be9f9cf",
   "metadata": {},
   "outputs": [
    {
     "name": "stdout",
     "output_type": "stream",
     "text": [
      "Training Features Shape: (10599, 39)\n",
      "Training Labels Shape: (10599,)\n",
      "Testing Features Shape: (3533, 39)\n",
      "Testing Labels Shape: (3533,)\n"
     ]
    }
   ],
   "source": [
    "print('Training Features Shape:', X_train.shape)\n",
    "print('Training Labels Shape:', y_train.shape)\n",
    "print('Testing Features Shape:', X_test.shape)\n",
    "print('Testing Labels Shape:', y_test.shape)"
   ]
  },
  {
   "cell_type": "code",
   "execution_count": 222,
   "id": "824c973b-acf0-4589-b04b-cb763e49a3ea",
   "metadata": {},
   "outputs": [
    {
     "data": {
      "text/plain": [
       "283"
      ]
     },
     "execution_count": 222,
     "metadata": {},
     "output_type": "execute_result"
    }
   ],
   "source": [
    "y_test.sum()\n"
   ]
  },
  {
   "cell_type": "code",
   "execution_count": 223,
   "id": "6615dd09-efe3-471b-a568-83695a7db8be",
   "metadata": {},
   "outputs": [
    {
     "data": {
      "text/plain": [
       "3250"
      ]
     },
     "execution_count": 223,
     "metadata": {},
     "output_type": "execute_result"
    }
   ],
   "source": [
    "len(y_test) - y_test.sum()"
   ]
  },
  {
   "cell_type": "code",
   "execution_count": 224,
   "id": "930878d7-1d2d-41d2-b8e9-40f3f4ad13e4",
   "metadata": {},
   "outputs": [],
   "source": [
    "from sklearn.ensemble import RandomForestClassifier\n",
    "from sklearn.model_selection import StratifiedKFold\n"
   ]
  },
  {
   "cell_type": "code",
   "execution_count": 225,
   "id": "6a41d6c8-11a1-4554-877e-2d0eb504d02f",
   "metadata": {},
   "outputs": [],
   "source": [
    "rf = RandomForestClassifier(class_weight='balanced', random_state=42)"
   ]
  },
  {
   "cell_type": "code",
   "execution_count": 226,
   "id": "b49ba896-e33e-49f9-9585-42c5984da716",
   "metadata": {},
   "outputs": [],
   "source": [
    "rf_classifier = rf.fit(X_train, y_train)"
   ]
  },
  {
   "cell_type": "code",
   "execution_count": 227,
   "id": "600b172d-5add-4567-81af-ab1051ddad46",
   "metadata": {},
   "outputs": [],
   "source": [
    "preds = rf_classifier.predict(X_test)"
   ]
  },
  {
   "cell_type": "code",
   "execution_count": 228,
   "id": "0a3da587-a4e0-4b2a-8e93-fe057feed9c2",
   "metadata": {},
   "outputs": [],
   "source": [
    "from sklearn import metrics"
   ]
  },
  {
   "cell_type": "code",
   "execution_count": 229,
   "id": "e5dd055c-debd-45f3-aa66-835f77ed5d1f",
   "metadata": {},
   "outputs": [
    {
     "name": "stdout",
     "output_type": "stream",
     "text": [
      "Accuracy: 0.9765072176620436\n",
      "Precision: 0.9385964912280702\n",
      "Recall: 0.7561837455830389\n",
      "F1: 0.8375733855185911\n"
     ]
    }
   ],
   "source": [
    "print(\"Accuracy:\",metrics.accuracy_score(y_test, preds))\n",
    "print(\"Precision:\",metrics.precision_score(y_test, preds))\n",
    "print(\"Recall:\",metrics.recall_score(y_test, preds))\n",
    "print(\"F1:\",metrics.f1_score(y_test, preds))\n"
   ]
  },
  {
   "cell_type": "code",
   "execution_count": 230,
   "id": "514d48be-0e7f-428c-9c1c-f7133daf9686",
   "metadata": {},
   "outputs": [
    {
     "data": {
      "text/plain": [
       "Text(0.76, 0.06, 'Recall')"
      ]
     },
     "execution_count": 230,
     "metadata": {},
     "output_type": "execute_result"
    },
    {
     "data": {
      "image/png": "[encoded data removed]",
      "text/plain": [
       "<Figure size 252x360 with 1 Axes>"
      ]
     },
     "metadata": {},
     "output_type": "display_data"
    }
   ],
   "source": [
    "sns.set_style('whitegrid')\n",
    "scores = ['scores']\n",
    "fig, ax = plt.subplots(figsize=(3.5, 5))\n",
    "sns.scatterplot(x=scores, y=metrics.accuracy_score(y_test, preds), marker='D', color='#4878d0', s=140, ax=ax)\n",
    "sns.scatterplot(x=scores, y=metrics.precision_score(y_test, preds), marker='D', color='#ee854a', s=140, ax=ax)\n",
    "sns.scatterplot(x=scores, y=metrics.recall_score(y_test, preds), marker='D', color='#d5bb67', s=140, ax=ax)\n",
    "sns.scatterplot(x=scores, y=metrics.f1_score(y_test, preds), marker='D', color='#82c6e2', s=140, ax=ax)\n",
    "ax.annotate('Accuracy',\n",
    "            xy=(.54, 0.96),\n",
    "            xytext=(0.8, 0.98),\n",
    "            xycoords=('axes fraction'),\n",
    "            fontsize=14,\n",
    "            arrowprops=dict(facecolor='black'), \n",
    "           horizontalalignment='center', verticalalignment='top')\n",
    "ax.annotate('Precision',\n",
    "            xy=(.54, 0.79),\n",
    "            xytext=(0.8, 0.81),\n",
    "            xycoords='axes fraction',\n",
    "            fontsize=14,\n",
    "            arrowprops=dict(facecolor='black'), \n",
    "           horizontalalignment='center', verticalalignment='top')\n",
    "ax.annotate('F1 Score',\n",
    "            xy=(.54, 0.38),\n",
    "            xytext=(0.8, 0.40),\n",
    "            xycoords='axes fraction',\n",
    "            fontsize=14,\n",
    "            arrowprops=dict(facecolor='black'), \n",
    "           horizontalalignment='center', verticalalignment='top')\n",
    "ax.annotate('Recall', xy=(.54, 0.04),\n",
    "            xytext=(0.76, 0.06),\n",
    "            xycoords='axes fraction',\n",
    "            fontsize=14,\n",
    "            arrowprops=dict(facecolor='black'), \n",
    "           horizontalalignment='center', verticalalignment='top')"
   ]
  },
  {
   "cell_type": "code",
   "execution_count": 231,
   "id": "886181c8-4996-4f12-988a-82db4c31196a",
   "metadata": {},
   "outputs": [],
   "source": [
    "pred_prob = rf.predict_proba(X_test)"
   ]
  },
  {
   "cell_type": "code",
   "execution_count": 232,
   "id": "433605dc-ce83-47c3-b85d-6b7beed87f76",
   "metadata": {},
   "outputs": [],
   "source": [
    "# Just keep probabilities for positive class (fraud)\n",
    "y_hat_fraud = pred_prob[:, 1]"
   ]
  },
  {
   "cell_type": "code",
   "execution_count": 233,
   "id": "88dcb795-fc9f-48c8-bc14-11360a51153b",
   "metadata": {},
   "outputs": [
    {
     "data": {
      "text/plain": [
       "array([0.  , 0.  , 0.  , ..., 0.9 , 0.05, 0.01])"
      ]
     },
     "execution_count": 233,
     "metadata": {},
     "output_type": "execute_result"
    }
   ],
   "source": [
    "y_hat_fraud"
   ]
  },
  {
   "cell_type": "code",
   "execution_count": 234,
   "id": "e1d66730-4259-4320-8465-a75085a4d53c",
   "metadata": {},
   "outputs": [],
   "source": [
    "from sklearn.metrics import roc_curve"
   ]
  },
  {
   "cell_type": "code",
   "execution_count": 235,
   "id": "4dbd6a8e-8ab8-40c7-9def-c1104248811b",
   "metadata": {},
   "outputs": [],
   "source": [
    "fpr, tpr, thresh = roc_curve(y_test, y_hat_fraud)"
   ]
  },
  {
   "cell_type": "code",
   "execution_count": 236,
   "id": "2bb1de2c-d885-4df5-a5fe-262c8b98b7fd",
   "metadata": {},
   "outputs": [
    {
     "data": {
      "image/png": "[encoded data removed]",
      "text/plain": [
       "<Figure size 576x396 with 1 Axes>"
      ]
     },
     "metadata": {},
     "output_type": "display_data"
    }
   ],
   "source": [
    "plt.style.use('seaborn')\n",
    "sns.set_style('whitegrid')\n",
    "\n",
    "plt.plot(fpr, tpr, linestyle='--',color='red', marker='.', alpha=0.6, label='Random Forest')\n",
    "plt.plot([0,1], [0,1], linestyle='--', label='Random Guess')\n",
    "\n",
    "plt.title('ROC curve for Test Set')\n",
    "plt.xlabel('False Positive Rate')\n",
    "plt.ylabel('True Positive rate')\n",
    "plt.xlabel('False Positive Rate')\n",
    "plt.ylabel('True Positive Rate')\n",
    "\n",
    "plt.legend(loc='best')\n",
    "plt.show();"
   ]
  },
  {
   "cell_type": "code",
   "execution_count": 237,
   "id": "d0bf7741-63d4-46a2-81ea-052d45722c5b",
   "metadata": {},
   "outputs": [],
   "source": [
    "gmeans = np.sqrt(tpr * (1-fpr))"
   ]
  },
  {
   "cell_type": "code",
   "execution_count": 238,
   "id": "f59fae5c-8ee0-4b1f-8827-143b40a1d66b",
   "metadata": {},
   "outputs": [],
   "source": [
    "ix = np.argmax(gmeans)"
   ]
  },
  {
   "cell_type": "code",
   "execution_count": 239,
   "id": "b608667d-8519-4ca1-bda2-2c0a88f1fa1e",
   "metadata": {},
   "outputs": [
    {
     "name": "stdout",
     "output_type": "stream",
     "text": [
      "Best Threshold = 0.120000, G-mean=0.946\n"
     ]
    }
   ],
   "source": [
    "print('Best Threshold = %f, G-mean=%.3f' % (thresh[ix], gmeans[ix]))"
   ]
  },
  {
   "cell_type": "code",
   "execution_count": 244,
   "id": "fdab5680-6b41-49b4-9971-95d122771ed7",
   "metadata": {},
   "outputs": [
    {
     "data": {
      "image/png": "[encoded data removed]",
      "text/plain": [
       "<Figure size 576x396 with 1 Axes>"
      ]
     },
     "metadata": {},
     "output_type": "display_data"
    }
   ],
   "source": [
    "fig, ax = plt.subplots()\n",
    "plt.style.use('seaborn')\n",
    "sns.set_style('whitegrid')\n",
    "\n",
    "plt.plot(fpr, tpr, linestyle='--',color='red', marker='.', alpha=0.6, label='Random Forest')\n",
    "plt.plot([0,1], [0,1], linestyle='--', label='Random Guess')\n",
    "plt.scatter(fpr[ix], tpr[ix], marker='o', color='black', label='Best')\n",
    "\n",
    "ax.annotate('Best Threshold',\n",
    "            xy=(0.1, 0.87),\n",
    "            xytext=(.4, 0.8),\n",
    "            xycoords='axes fraction',\n",
    "            fontsize=15,\n",
    "            arrowprops=dict(facecolor='black'), \n",
    "           horizontalalignment='right', verticalalignment='top')\n",
    "plt.title('ROC curve for Test Set')\n",
    "plt.xlabel('False Positive Rate')\n",
    "plt.ylabel('True Positive rate')\n",
    "plt.xlabel('False Positive Rate')\n",
    "plt.ylabel('True Positive Rate')\n",
    "\n",
    "plt.legend(loc='best')\n",
    "plt.show();"
   ]
  },
  {
   "cell_type": "code",
   "execution_count": 245,
   "id": "69d2b6c0-5d40-443a-8002-ca12c2323d77",
   "metadata": {},
   "outputs": [
    {
     "data": {
      "text/plain": [
       "0.12"
      ]
     },
     "execution_count": 245,
     "metadata": {},
     "output_type": "execute_result"
    }
   ],
   "source": [
    "J = tpr-fpr\n",
    "ix = np.argmax(J)\n",
    "best_thresh = thresh[ix]\n",
    "best_thresh"
   ]
  },
  {
   "cell_type": "code",
   "execution_count": 246,
   "id": "61e89ecc-271a-41da-88b0-186503d7102b",
   "metadata": {},
   "outputs": [],
   "source": [
    "from sklearn.metrics import precision_recall_curve"
   ]
  },
  {
   "cell_type": "code",
   "execution_count": 247,
   "id": "9bdcdcc8-2a1d-4392-88b9-99ba4b16c9b6",
   "metadata": {},
   "outputs": [],
   "source": [
    "precision, recall, thresholds = precision_recall_curve(y_test, preds)"
   ]
  },
  {
   "cell_type": "code",
   "execution_count": 248,
   "id": "72d89d51-61ff-412a-a2d5-dd35013f459e",
   "metadata": {},
   "outputs": [],
   "source": [
    "no_skill = len(y_test[y_test=='True']) / len(y_test)"
   ]
  },
  {
   "cell_type": "code",
   "execution_count": 249,
   "id": "66e64780-b57b-4160-bc19-07c1a64e236a",
   "metadata": {},
   "outputs": [
    {
     "data": {
      "image/png": "[encoded data removed]",
      "text/plain": [
       "<Figure size 576x396 with 1 Axes>"
      ]
     },
     "metadata": {},
     "output_type": "display_data"
    }
   ],
   "source": [
    "plt.plot([0, 1], [no_skill, no_skill], linestyle='--', label='Random Guess')\n",
    "plt.plot(recall, precision, marker = '.', label = 'Random Forest')\n",
    "plt.xlabel('Recall')\n",
    "plt.ylabel('Precision')\n",
    "plt.legend()\n",
    "plt.show();"
   ]
  },
  {
   "cell_type": "code",
   "execution_count": 250,
   "id": "297e7c09-a8f7-48eb-8c71-2bcbe0769b0f",
   "metadata": {},
   "outputs": [
    {
     "name": "stdout",
     "output_type": "stream",
     "text": [
      "Best Threshold to balance Precision, Recall = 1.000000, F-Score=0.838\n"
     ]
    }
   ],
   "source": [
    "#Use F score to determine a good balance between precision and recall; see how low that makes precision and if we want to bump it for recall \n",
    "fscore = (2 * precision * recall) / (precision + recall)\n",
    "ix = np.argmax(fscore)\n",
    "print('Best Threshold to balance Precision, Recall = %f, F-Score=%.3f' % (thresh[ix], fscore[ix]))"
   ]
  },
  {
   "cell_type": "code",
   "execution_count": 253,
   "id": "6e05c8c4-9472-4f14-ac64-435943a02d01",
   "metadata": {},
   "outputs": [],
   "source": [
    "threshold = 0.12\n",
    "\n",
    "pred_prob = rf.predict_proba(X_test)\n",
    "predicted = (pred_prob [:, 1] >= threshold).astype('int')\n",
    "accuracy = metrics.accuracy_score(y_test, predicted)\n",
    "precision = metrics.precision_score(y_test, predicted)\n",
    "recall = metrics.recall_score(y_test, predicted)\n",
    "f1 = metrics.f1_score(y_test, predicted)"
   ]
  },
  {
   "cell_type": "code",
   "execution_count": 362,
   "id": "5107558c-3786-4ee8-816c-89b1527e3f7c",
   "metadata": {},
   "outputs": [
    {
     "data": {
      "text/plain": [
       "0.8135334872979215"
      ]
     },
     "execution_count": 362,
     "metadata": {},
     "output_type": "execute_result"
    }
   ],
   "source": [
    "(0.927*.76*2)/((.972+.76))"
   ]
  },
  {
   "cell_type": "code",
   "execution_count": 255,
   "id": "426a9a8f-3813-4f33-a55d-dd1553bc9e2f",
   "metadata": {},
   "outputs": [
    {
     "data": {
      "text/plain": [
       "(0.9609397112935183,\n",
       " 0.6902887139107612,\n",
       " 0.9293286219081273,\n",
       " 0.7921686746987951)"
      ]
     },
     "execution_count": 255,
     "metadata": {},
     "output_type": "execute_result"
    }
   ],
   "source": [
    "accuracy, precision, recall, f1"
   ]
  },
  {
   "cell_type": "code",
   "execution_count": 256,
   "id": "dda7bb43-b32d-4bb6-85a9-ae2c9c60c98c",
   "metadata": {},
   "outputs": [],
   "source": [
    "from sklearn.metrics import confusion_matrix"
   ]
  },
  {
   "cell_type": "code",
   "execution_count": 257,
   "id": "19d91ab4-1180-49ee-bffa-b8b9ab4e1fc1",
   "metadata": {},
   "outputs": [
    {
     "data": {
      "text/plain": [
       "array([[3132,  118],\n",
       "       [  20,  263]])"
      ]
     },
     "execution_count": 257,
     "metadata": {},
     "output_type": "execute_result"
    }
   ],
   "source": [
    "cf_thresh = confusion_matrix(y_test, predicted)\n",
    "cf_thresh"
   ]
  },
  {
   "cell_type": "code",
   "execution_count": 258,
   "id": "4e6d267b-2204-4bfe-9585-2b18312caf58",
   "metadata": {},
   "outputs": [],
   "source": [
    "thresholds = np.linspace(0, 1, 100)\n",
    "thresholds = thresholds.round(2)\n",
    "accuracy = []\n",
    "recall = []\n",
    "precision = []\n",
    "f1 = []\n",
    "df = pd.DataFrame(index=thresholds)\n",
    "for thresh in thresholds: \n",
    "    pred_prob = rf.predict_proba(X_test)\n",
    "    predicted = (pred_prob[:, 1] >= thresh).astype('int')\n",
    "    acc = metrics.accuracy_score(y_test, predicted)\n",
    "    rec = metrics.recall_score(y_test, predicted)\n",
    "    prec = metrics.precision_score(y_test, predicted)\n",
    "    f1sc = metrics.f1_score(y_test, predicted)\n",
    "    accuracy.append(acc)\n",
    "    recall.append(rec)\n",
    "    precision.append(prec)\n",
    "    f1.append(f1sc)\n",
    "\n",
    "df['accuracy'] = accuracy\n",
    "df['recall'] = recall\n",
    "df['precision'] = precision\n",
    "df['f1'] = f1\n",
    "\n"
   ]
  },
  {
   "cell_type": "code",
   "execution_count": 259,
   "id": "1fd04da9-26c3-426a-b83a-5fe1bea204b9",
   "metadata": {},
   "outputs": [
    {
     "data": {
      "text/html": [
       "<div>\n",
       "<style scoped>\n",
       "    .dataframe tbody tr th:only-of-type {\n",
       "        vertical-align: middle;\n",
       "    }\n",
       "\n",
       "    .dataframe tbody tr th {\n",
       "        vertical-align: top;\n",
       "    }\n",
       "\n",
       "    .dataframe thead th {\n",
       "        text-align: right;\n",
       "    }\n",
       "</style>\n",
       "<table border=\"1\" class=\"dataframe\">\n",
       "  <thead>\n",
       "    <tr style=\"text-align: right;\">\n",
       "      <th></th>\n",
       "      <th>accuracy</th>\n",
       "      <th>recall</th>\n",
       "      <th>precision</th>\n",
       "      <th>f1</th>\n",
       "    </tr>\n",
       "  </thead>\n",
       "  <tbody>\n",
       "    <tr>\n",
       "      <th>0.00</th>\n",
       "      <td>0.080102</td>\n",
       "      <td>1.000000</td>\n",
       "      <td>0.080102</td>\n",
       "      <td>0.148323</td>\n",
       "    </tr>\n",
       "    <tr>\n",
       "      <th>0.01</th>\n",
       "      <td>0.625814</td>\n",
       "      <td>1.000000</td>\n",
       "      <td>0.176324</td>\n",
       "      <td>0.299788</td>\n",
       "    </tr>\n",
       "    <tr>\n",
       "      <th>0.02</th>\n",
       "      <td>0.761393</td>\n",
       "      <td>1.000000</td>\n",
       "      <td>0.251332</td>\n",
       "      <td>0.401703</td>\n",
       "    </tr>\n",
       "    <tr>\n",
       "      <th>0.03</th>\n",
       "      <td>0.827908</td>\n",
       "      <td>0.992933</td>\n",
       "      <td>0.316798</td>\n",
       "      <td>0.480342</td>\n",
       "    </tr>\n",
       "    <tr>\n",
       "      <th>0.04</th>\n",
       "      <td>0.869233</td>\n",
       "      <td>0.989399</td>\n",
       "      <td>0.378890</td>\n",
       "      <td>0.547945</td>\n",
       "    </tr>\n",
       "    <tr>\n",
       "      <th>...</th>\n",
       "      <td>...</td>\n",
       "      <td>...</td>\n",
       "      <td>...</td>\n",
       "      <td>...</td>\n",
       "    </tr>\n",
       "    <tr>\n",
       "      <th>0.96</th>\n",
       "      <td>0.937164</td>\n",
       "      <td>0.219081</td>\n",
       "      <td>0.984127</td>\n",
       "      <td>0.358382</td>\n",
       "    </tr>\n",
       "    <tr>\n",
       "      <th>0.97</th>\n",
       "      <td>0.934050</td>\n",
       "      <td>0.180212</td>\n",
       "      <td>0.980769</td>\n",
       "      <td>0.304478</td>\n",
       "    </tr>\n",
       "    <tr>\n",
       "      <th>0.98</th>\n",
       "      <td>0.929805</td>\n",
       "      <td>0.123675</td>\n",
       "      <td>1.000000</td>\n",
       "      <td>0.220126</td>\n",
       "    </tr>\n",
       "    <tr>\n",
       "      <th>0.99</th>\n",
       "      <td>0.926691</td>\n",
       "      <td>0.084806</td>\n",
       "      <td>1.000000</td>\n",
       "      <td>0.156352</td>\n",
       "    </tr>\n",
       "    <tr>\n",
       "      <th>1.00</th>\n",
       "      <td>0.923012</td>\n",
       "      <td>0.038869</td>\n",
       "      <td>1.000000</td>\n",
       "      <td>0.074830</td>\n",
       "    </tr>\n",
       "  </tbody>\n",
       "</table>\n",
       "<p>100 rows × 4 columns</p>\n",
       "</div>"
      ],
      "text/plain": [
       "      accuracy    recall  precision        f1\n",
       "0.00  0.080102  1.000000   0.080102  0.148323\n",
       "0.01  0.625814  1.000000   0.176324  0.299788\n",
       "0.02  0.761393  1.000000   0.251332  0.401703\n",
       "0.03  0.827908  0.992933   0.316798  0.480342\n",
       "0.04  0.869233  0.989399   0.378890  0.547945\n",
       "...        ...       ...        ...       ...\n",
       "0.96  0.937164  0.219081   0.984127  0.358382\n",
       "0.97  0.934050  0.180212   0.980769  0.304478\n",
       "0.98  0.929805  0.123675   1.000000  0.220126\n",
       "0.99  0.926691  0.084806   1.000000  0.156352\n",
       "1.00  0.923012  0.038869   1.000000  0.074830\n",
       "\n",
       "[100 rows x 4 columns]"
      ]
     },
     "execution_count": 259,
     "metadata": {},
     "output_type": "execute_result"
    }
   ],
   "source": [
    "df"
   ]
  },
  {
   "cell_type": "code",
   "execution_count": 260,
   "id": "b4caac88-30e7-45f9-a039-6b0fa4a2c17a",
   "metadata": {},
   "outputs": [],
   "source": [
    "thresholds_df = df.copy"
   ]
  },
  {
   "cell_type": "code",
   "execution_count": 261,
   "id": "af19b7f1-03bd-42ae-9ead-83120d433c75",
   "metadata": {},
   "outputs": [
    {
     "name": "stdout",
     "output_type": "stream",
     "text": [
      "['#4878d0', '#ee854a', '#6acc64', '#d65f5f', '#956cb4', '#8c613c', '#dc7ec0', '#797979', '#d5bb67', '#82c6e2']\n"
     ]
    },
    {
     "data": {
      "text/html": [
       "<svg  width=\"550\" height=\"55\"><rect x=\"0\" y=\"0\" width=\"55\" height=\"55\" style=\"fill:#4878d0;stroke-width:2;stroke:rgb(255,255,255)\"/><rect x=\"55\" y=\"0\" width=\"55\" height=\"55\" style=\"fill:#ee854a;stroke-width:2;stroke:rgb(255,255,255)\"/><rect x=\"110\" y=\"0\" width=\"55\" height=\"55\" style=\"fill:#6acc64;stroke-width:2;stroke:rgb(255,255,255)\"/><rect x=\"165\" y=\"0\" width=\"55\" height=\"55\" style=\"fill:#d65f5f;stroke-width:2;stroke:rgb(255,255,255)\"/><rect x=\"220\" y=\"0\" width=\"55\" height=\"55\" style=\"fill:#956cb4;stroke-width:2;stroke:rgb(255,255,255)\"/><rect x=\"275\" y=\"0\" width=\"55\" height=\"55\" style=\"fill:#8c613c;stroke-width:2;stroke:rgb(255,255,255)\"/><rect x=\"330\" y=\"0\" width=\"55\" height=\"55\" style=\"fill:#dc7ec0;stroke-width:2;stroke:rgb(255,255,255)\"/><rect x=\"385\" y=\"0\" width=\"55\" height=\"55\" style=\"fill:#797979;stroke-width:2;stroke:rgb(255,255,255)\"/><rect x=\"440\" y=\"0\" width=\"55\" height=\"55\" style=\"fill:#d5bb67;stroke-width:2;stroke:rgb(255,255,255)\"/><rect x=\"495\" y=\"0\" width=\"55\" height=\"55\" style=\"fill:#82c6e2;stroke-width:2;stroke:rgb(255,255,255)\"/></svg>"
      ],
      "text/plain": [
       "['#4878d0',\n",
       " '#ee854a',\n",
       " '#6acc64',\n",
       " '#d65f5f',\n",
       " '#956cb4',\n",
       " '#8c613c',\n",
       " '#dc7ec0',\n",
       " '#797979',\n",
       " '#d5bb67',\n",
       " '#82c6e2']"
      ]
     },
     "execution_count": 261,
     "metadata": {},
     "output_type": "execute_result"
    }
   ],
   "source": [
    "pal = sns.color_palette('muted')\n",
    "hexes = pal.as_hex()\n",
    "print(hexes)\n",
    "hexes"
   ]
  },
  {
   "cell_type": "code",
   "execution_count": 262,
   "id": "18d9ebff-09e5-475c-9ce2-14e3c944666b",
   "metadata": {},
   "outputs": [
    {
     "data": {
      "text/plain": [
       "Text(0.5, 0, 'Classification Thresholds')"
      ]
     },
     "execution_count": 262,
     "metadata": {},
     "output_type": "execute_result"
    },
    {
     "data": {
      "image/png": "[encoded data removed]",
      "text/plain": [
       "<Figure size 1080x432 with 1 Axes>"
      ]
     },
     "metadata": {},
     "output_type": "display_data"
    }
   ],
   "source": [
    "fig, ax = plt.subplots(figsize=(15, 6))\n",
    "sns.set_style('whitegrid')\n",
    "\n",
    "sns.lineplot(x=thresholds, y=precision, ax=ax, color='#ee854a', label='Precision', linewidth=4)\n",
    "sns.lineplot(x=thresholds, y=recall, ax=ax, color='#d5bb67', label='Recall', linewidth=4)\n",
    "sns.lineplot(x=thresholds, y=accuracy, ax=ax, color='#4878d0', label='Accuracy', alpha=0.5)\n",
    "sns.lineplot(x=thresholds, y=f1, ax=ax, color='#82c6e2', label='F1 Score', alpha=0.5)\n",
    "ax.set_title('Model Evaluation Scores for Classification Thresholds', fontsize=16)\n",
    "ax.legend(fontsize=14)\n",
    "ax.set_ylabel('Score')\n",
    "ax.set_xlabel('Classification Thresholds')"
   ]
  },
  {
   "cell_type": "code",
   "execution_count": 263,
   "id": "74fb0731-1607-42aa-b5a3-dda9fb52958e",
   "metadata": {},
   "outputs": [
    {
     "name": "stdout",
     "output_type": "stream",
     "text": [
      "{0.8515901060070671, 1.0}\n"
     ]
    },
    {
     "data": {
      "text/plain": [
       "Float64Index([], dtype='float64')"
      ]
     },
     "execution_count": 263,
     "metadata": {},
     "output_type": "execute_result"
    }
   ],
   "source": [
    "intersection_set = set.intersection(set(precision), set(recall))\n",
    "print(intersection_set)\n",
    "df.index[df['precision'] == 0.8409893992932862]\n"
   ]
  },
  {
   "cell_type": "code",
   "execution_count": 264,
   "id": "209e56c9-922e-4478-8c91-fce2e8d12325",
   "metadata": {},
   "outputs": [
    {
     "data": {
      "text/plain": [
       "283"
      ]
     },
     "execution_count": 264,
     "metadata": {},
     "output_type": "execute_result"
    }
   ],
   "source": [
    "fraud_count = np.sum(y_test)\n",
    "fraud_count"
   ]
  },
  {
   "cell_type": "code",
   "execution_count": 267,
   "id": "744d43cc-0ad3-4e1b-baef-27b03ca705d1",
   "metadata": {},
   "outputs": [
    {
     "data": {
      "text/plain": [
       "accuracy     0.976224\n",
       "recall       0.851590\n",
       "precision    0.851590\n",
       "f1           0.851590\n",
       "Name: 0.29, dtype: float64"
      ]
     },
     "execution_count": 267,
     "metadata": {},
     "output_type": "execute_result"
    }
   ],
   "source": [
    "df.loc[0.29]"
   ]
  },
  {
   "cell_type": "code",
   "execution_count": 268,
   "id": "8a6053d8-26b7-4159-9fdf-a6959b30a62f",
   "metadata": {},
   "outputs": [],
   "source": [
    "# thresh of 0.29 where P / R are 'balanced'\n"
   ]
  },
  {
   "cell_type": "code",
   "execution_count": 292,
   "id": "25940390-bc12-4030-a36d-6acfd825ff2f",
   "metadata": {},
   "outputs": [],
   "source": [
    "threshold = 0.48\n",
    "\n",
    "pred_prob = rf.predict_proba(X_test)\n",
    "predicted = (pred_prob [:, 1] >= threshold).astype('int')\n",
    "accuracy = metrics.accuracy_score(y_test, predicted)\n",
    "recall = metrics.recall_score(y_test, predicted)\n",
    "precision = metrics.precision_score(y_test, predicted)\n",
    "f1 = metrics.f1_score(y_test, predicted)"
   ]
  },
  {
   "cell_type": "code",
   "execution_count": 293,
   "id": "7e5dbf7a-3726-4756-bfbb-b1973c93c93b",
   "metadata": {},
   "outputs": [
    {
     "data": {
      "text/plain": [
       "(0.9765072176620436,\n",
       " 0.9347826086956522,\n",
       " 0.7597173144876325,\n",
       " 0.8382066276803118)"
      ]
     },
     "execution_count": 293,
     "metadata": {},
     "output_type": "execute_result"
    }
   ],
   "source": [
    "accuracy, precision, recall, f1"
   ]
  },
  {
   "cell_type": "code",
   "execution_count": 271,
   "id": "ae4443fd-5989-4593-a1e1-3c79b3518165",
   "metadata": {},
   "outputs": [
    {
     "data": {
      "text/plain": [
       "array([[3208,   42],\n",
       "       [  42,  241]])"
      ]
     },
     "execution_count": 271,
     "metadata": {},
     "output_type": "execute_result"
    }
   ],
   "source": [
    "confusion = confusion_matrix(y_test, predicted)\n",
    "confusion"
   ]
  },
  {
   "cell_type": "code",
   "execution_count": 274,
   "id": "1ac35dff-030c-4570-9aef-446a9eb29014",
   "metadata": {},
   "outputs": [
    {
     "data": {
      "text/plain": [
       "(0.75, 1.0)"
      ]
     },
     "execution_count": 274,
     "metadata": {},
     "output_type": "execute_result"
    },
    {
     "data": {
      "image/png": "[encoded data removed]",
      "text/plain": [
       "<Figure size 288x360 with 1 Axes>"
      ]
     },
     "metadata": {},
     "output_type": "display_data"
    }
   ],
   "source": [
    "sns.set_style('whitegrid')\n",
    "scores = ['scores']\n",
    "fig, ax = plt.subplots(figsize=(4, 5))\n",
    "sns.scatterplot(x=scores, y=metrics.accuracy_score(y_test, predicted), marker='D', color='#4878d0', s=140, ax=ax)\n",
    "# sns.scatterplot(x=scores, y=metrics.precision_score(y_test, predicted), marker='D', color='#ee854a', s=210, ax=ax)\n",
    "sns.scatterplot(x=scores, y=metrics.recall_score(y_test, predicted), marker='D', color='#d5bb67', s=180, ax=ax)\n",
    "# sns.scatterplot(x=scores, y=metrics.f1_score(y_test, predicted), marker='D', color='#82c6e2', s=140, ax=ax)\n",
    "ax.annotate('Accuracy',\n",
    "            xy=(.54, 0.90),\n",
    "            xytext=(0.8, 0.92),\n",
    "            xycoords=('axes fraction'),\n",
    "            fontsize=14,\n",
    "            arrowprops=dict(facecolor='black'), \n",
    "           horizontalalignment='center', verticalalignment='top')\n",
    "ax.annotate('Precision,\\n Recall, and \\n F1',\n",
    "            xy=(.54, 0.38),\n",
    "            xytext=(0.88, 0.40),\n",
    "            xycoords='axes fraction',\n",
    "            fontsize=14,\n",
    "            arrowprops=dict(facecolor='black'), \n",
    "           horizontalalignment='center', verticalalignment='top')\n",
    "ax.set_ylim(0.75,1)"
   ]
  },
  {
   "cell_type": "code",
   "execution_count": 133,
   "id": "22b7ddc7-660e-48b9-98cc-76c1edb00a43",
   "metadata": {},
   "outputs": [
    {
     "data": {
      "image/png": "[encoded data removed]",
      "text/plain": [
       "<Figure size 936x360 with 1 Axes>"
      ]
     },
     "metadata": {},
     "output_type": "display_data"
    }
   ],
   "source": [
    "fig, ax = plt.subplots(figsize=(13, 5))\n",
    "sns.lineplot(data=feature_imp, ax=ax)\n",
    "ax.tick_params(axis='x', rotation=45)"
   ]
  },
  {
   "cell_type": "code",
   "execution_count": 517,
   "id": "d718bf00-3c2e-4514-a1f0-a35dd25bd2eb",
   "metadata": {},
   "outputs": [
    {
     "data": {
      "text/plain": [
       "{'bootstrap': True,\n",
       " 'ccp_alpha': 0.0,\n",
       " 'class_weight': 'balanced',\n",
       " 'criterion': 'gini',\n",
       " 'max_depth': None,\n",
       " 'max_features': 'auto',\n",
       " 'max_leaf_nodes': None,\n",
       " 'max_samples': None,\n",
       " 'min_impurity_decrease': 0.0,\n",
       " 'min_impurity_split': None,\n",
       " 'min_samples_leaf': 1,\n",
       " 'min_samples_split': 2,\n",
       " 'min_weight_fraction_leaf': 0.0,\n",
       " 'n_estimators': 100,\n",
       " 'n_jobs': None,\n",
       " 'oob_score': False,\n",
       " 'random_state': 42,\n",
       " 'verbose': 0,\n",
       " 'warm_start': False}"
      ]
     },
     "execution_count": 517,
     "metadata": {},
     "output_type": "execute_result"
    }
   ],
   "source": [
    "rf.get_params()"
   ]
  },
  {
   "cell_type": "code",
   "execution_count": 216,
   "id": "130eb65a-a2e3-48f9-96ee-d3ad3687ff86",
   "metadata": {},
   "outputs": [],
   "source": [
    "param_grid = {'n_estimators': [140, 150, 175], 'criterion': ['gini', 'entropy'], \n",
    "             'max_depth': [10, 20, 40], 'max_features': [5, 10, 20]}"
   ]
  },
  {
   "cell_type": "code",
   "execution_count": 105,
   "id": "33bdc142-b895-4423-b809-09da3b72847a",
   "metadata": {},
   "outputs": [],
   "source": [
    "from sklearn.model_selection import GridSearchCV, StratifiedKFold"
   ]
  },
  {
   "cell_type": "code",
   "execution_count": 106,
   "id": "cb8f87e1-5351-49fe-8292-ee9b8abeb7b0",
   "metadata": {},
   "outputs": [],
   "source": [
    "skf = StratifiedKFold()"
   ]
  },
  {
   "cell_type": "code",
   "execution_count": 107,
   "id": "95840e38-c50d-4330-9abe-270536abec97",
   "metadata": {},
   "outputs": [
    {
     "data": {
      "text/plain": [
       "GridSearchCV(cv=StratifiedKFold(n_splits=5, random_state=None, shuffle=False),\n",
       "             estimator=RandomForestClassifier(class_weight='balanced',\n",
       "                                              random_state=42),\n",
       "             param_grid={'criterion': ['gini', 'entropy'],\n",
       "                         'max_depth': [10, 20, 40], 'max_features': [5, 10, 20],\n",
       "                         'n_estimators': [140, 150, 175]})"
      ]
     },
     "execution_count": 107,
     "metadata": {},
     "output_type": "execute_result"
    }
   ],
   "source": [
    "grid_rf = GridSearchCV(rf, param_grid, cv=skf)\n",
    "grid_rf.fit(X_train, y_train)"
   ]
  },
  {
   "cell_type": "code",
   "execution_count": 108,
   "id": "70ebd3de-824e-4d94-939e-8ceafb74cd42",
   "metadata": {},
   "outputs": [
    {
     "data": {
      "text/plain": [
       "RandomForestClassifier(class_weight='balanced', criterion='entropy',\n",
       "                       max_depth=20, max_features=10, n_estimators=175,\n",
       "                       random_state=42)"
      ]
     },
     "execution_count": 108,
     "metadata": {},
     "output_type": "execute_result"
    }
   ],
   "source": [
    "grid_rf.best_estimator_"
   ]
  },
  {
   "cell_type": "code",
   "execution_count": 109,
   "id": "efd3b2b7-4d3e-4c4b-9258-ecaa0ed55448",
   "metadata": {},
   "outputs": [
    {
     "data": {
      "text/plain": [
       "{'criterion': 'entropy',\n",
       " 'max_depth': 20,\n",
       " 'max_features': 10,\n",
       " 'n_estimators': 175}"
      ]
     },
     "execution_count": 109,
     "metadata": {},
     "output_type": "execute_result"
    }
   ],
   "source": [
    "grid_rf.best_params_"
   ]
  },
  {
   "cell_type": "code",
   "execution_count": null,
   "id": "45a39092-2113-45de-b120-00a87bce77e8",
   "metadata": {},
   "outputs": [],
   "source": []
  },
  {
   "cell_type": "code",
   "execution_count": 278,
   "id": "7383f222-c979-4b9e-b1f5-92a7edf71fa1",
   "metadata": {},
   "outputs": [],
   "source": [
    "rf_hyp = RandomForestClassifier(class_weight='balanced', criterion='entropy',\n",
    "                       max_depth=20, max_features=10, n_estimators=175,\n",
    "                       random_state=42)"
   ]
  },
  {
   "cell_type": "code",
   "execution_count": null,
   "id": "ad4e3d73-b5c2-49f1-9801-87188647b7a5",
   "metadata": {},
   "outputs": [],
   "source": []
  },
  {
   "cell_type": "code",
   "execution_count": 279,
   "id": "dbd4bfc8-2f9e-4c58-8e73-cb6eb2467315",
   "metadata": {},
   "outputs": [],
   "source": [
    "rf_hyp_clf = rf_hyp.fit(X_train, y_train)"
   ]
  },
  {
   "cell_type": "code",
   "execution_count": 280,
   "id": "d3f0f65d-0da0-4914-974c-e9e686ee8f14",
   "metadata": {},
   "outputs": [],
   "source": [
    "preds_rf_hyp = rf_hyp_clf.predict(X_test)"
   ]
  },
  {
   "cell_type": "code",
   "execution_count": 281,
   "id": "f5bf9863-5a05-4375-9aa0-366284f7e61f",
   "metadata": {},
   "outputs": [
    {
     "name": "stdout",
     "output_type": "stream",
     "text": [
      "Accuracy: 0.9762241720917068\n",
      "Precision: 0.9383259911894273\n",
      "Recall: 0.7526501766784452\n",
      "F1: 0.8352941176470589\n"
     ]
    }
   ],
   "source": [
    "print(\"Accuracy:\",metrics.accuracy_score(y_test, preds_rf_hyp))\n",
    "print(\"Precision:\",metrics.precision_score(y_test, preds_rf_hyp))\n",
    "print(\"Recall:\",metrics.recall_score(y_test, preds_rf_hyp))\n",
    "print(\"F1:\",metrics.f1_score(y_test, preds_rf_hyp))\n"
   ]
  },
  {
   "cell_type": "code",
   "execution_count": 282,
   "id": "363e1f7b-40e2-4f6d-ab7f-c007e745dcfd",
   "metadata": {},
   "outputs": [
    {
     "data": {
      "text/plain": [
       "array([[3236,   14],\n",
       "       [  70,  213]])"
      ]
     },
     "execution_count": 282,
     "metadata": {},
     "output_type": "execute_result"
    }
   ],
   "source": [
    "cf_hyp = confusion_matrix(y_test, preds_rf_hyp)\n",
    "cf_hyp"
   ]
  },
  {
   "cell_type": "code",
   "execution_count": null,
   "id": "efc11cc5-e9dd-44be-8e65-c92d59abc1d4",
   "metadata": {},
   "outputs": [],
   "source": []
  },
  {
   "cell_type": "code",
   "execution_count": null,
   "id": "1b14e07f-3e17-42c8-a9b4-61a0294db411",
   "metadata": {},
   "outputs": [],
   "source": []
  },
  {
   "cell_type": "code",
   "execution_count": 284,
   "id": "b91184e8-0ad1-467a-a11a-5aae5c2675a7",
   "metadata": {},
   "outputs": [],
   "source": [
    "import joblib"
   ]
  },
  {
   "cell_type": "code",
   "execution_count": 285,
   "id": "050f2b85-ec66-433a-af8b-0b7b5e8f37ab",
   "metadata": {},
   "outputs": [
    {
     "data": {
      "text/plain": [
       "['tuned_balanced_rf.sav']"
      ]
     },
     "execution_count": 285,
     "metadata": {},
     "output_type": "execute_result"
    }
   ],
   "source": [
    "filename = 'tuned_balanced_rf.sav'\n",
    "joblib.dump(rf_hyp, filename)"
   ]
  },
  {
   "cell_type": "code",
   "execution_count": null,
   "id": "85a29981-f274-407e-9f96-884fb5f10518",
   "metadata": {},
   "outputs": [],
   "source": []
  },
  {
   "cell_type": "markdown",
   "id": "afc24d55-5027-4e60-a8a0-9be3873d7064",
   "metadata": {},
   "source": [
    "Code for flask for putting predictions into high / med / low risk categories: "
   ]
  },
  {
   "cell_type": "code",
   "execution_count": 287,
   "id": "fbc08027-f3b1-4935-b058-e12023bc83a8",
   "metadata": {},
   "outputs": [],
   "source": [
    "low_thresh = 0.08\n",
    "high_thresh = 0.48"
   ]
  },
  {
   "cell_type": "code",
   "execution_count": 313,
   "id": "cf20aefd-5c8e-4af2-b81a-46c9c32c0211",
   "metadata": {},
   "outputs": [],
   "source": [
    "model = joblib.load('tuned_balanced_rf.sav')\n",
    "\n",
    "def scores(test_set): \n",
    "    pred_prob = model.predict_proba(test_set)\n",
    "    predicted = (pred_prob[:, 1] >= threshold).astype('int')\n",
    "    accuracy = metrics.accuracy_score(y_test, predicted)\n",
    "    recall = metrics.recall_score(y_test, predicted)\n",
    "    precision = metrics.precision_score(y_test, predicted)\n",
    "    f1 = metrics.f1_score(y_test, predicted)\n",
    "    return accuracy, precision, recall, f1"
   ]
  },
  {
   "cell_type": "code",
   "execution_count": 319,
   "id": "a0ca122e-daf8-4c79-ba40-fe6693bb6d8b",
   "metadata": {},
   "outputs": [],
   "source": [
    "def new_event_prediction(event_array): \n",
    "    classification = ''\n",
    "    event_array = event_array.reshape(1, -1)\n",
    "    if event_array is not None and event_array is not '': \n",
    "        try: \n",
    "            pred_prob = model.predict_proba(event_array)\n",
    "            prob = pred_prob[:, 1]\n",
    "            if prob >= high_thresh: \n",
    "                classification = 'High Risk'\n",
    "            elif prob >= low_thresh and prob < high_thresh: \n",
    "                classification = 'Medium Risk'\n",
    "            elif prob < low_thresh: \n",
    "                classification = 'Low Risk'\n",
    "        except: \n",
    "            pass\n",
    "    return classification"
   ]
  },
  {
   "cell_type": "code",
   "execution_count": 320,
   "id": "f1cd96a2-8618-4591-bc2f-902b4269ec7d",
   "metadata": {},
   "outputs": [
    {
     "data": {
      "text/plain": [
       "(array([1.32150600e+09, 8.21000000e+03, 8.00000000e+00, 2.40000000e+01,\n",
       "        3.00000000e+00, 0.00000000e+00, 4.64100000e+03, 1.31681388e+09,\n",
       "        1.32107400e+09, 1.31707597e+09, 1.32106680e+09, 0.00000000e+00,\n",
       "        1.77600000e+01, 0.00000000e+00, 0.00000000e+00, 1.00000000e+00,\n",
       "        3.20000000e+01, 1.00000000e+00, 1.00000000e+00, 2.11218700e+06,\n",
       "        3.20000000e+01, 7.41300000e+03, 1.60000000e+01, 0.00000000e+00,\n",
       "        1.00000000e+00, 4.60000000e+01, 4.90000000e+01, 1.00000000e+00,\n",
       "        2.30000000e+01, 1.31477851e+09, 1.00000000e+00, 0.00000000e+00,\n",
       "        1.91522763e-02, 1.25000000e-01, 2.90423862e-02, 1.87500000e-01,\n",
       "        0.00000000e+00, 0.00000000e+00, 0.00000000e+00]),\n",
       " False)"
      ]
     },
     "execution_count": 320,
     "metadata": {},
     "output_type": "execute_result"
    }
   ],
   "source": [
    "X_train.iloc[100].values, y_train.loc[100]"
   ]
  },
  {
   "cell_type": "code",
   "execution_count": 327,
   "id": "0e35ba76-bf87-468a-8bcc-ee9f9fcfab76",
   "metadata": {},
   "outputs": [],
   "source": [
    "low_sample = X_train.iloc[100].values"
   ]
  },
  {
   "cell_type": "code",
   "execution_count": 357,
   "id": "1bfad082-42a0-4f48-939c-a3489187f37d",
   "metadata": {},
   "outputs": [],
   "source": [
    "mid_sample = X_train.iloc[16].values"
   ]
  },
  {
   "cell_type": "code",
   "execution_count": 345,
   "id": "88baf571-0fc2-41b2-8e5d-0de10008c403",
   "metadata": {},
   "outputs": [],
   "source": [
    "high_sample = X_train.iloc[7].values"
   ]
  },
  {
   "cell_type": "code",
   "execution_count": 346,
   "id": "377814ba-69f8-40f4-97c1-207db0a45892",
   "metadata": {},
   "outputs": [
    {
     "data": {
      "text/plain": [
       "array([1.30396770e+09, 2.03000000e+02, 5.00000000e+00, 6.50000000e+01,\n",
       "       6.00000000e+00, 0.00000000e+00, 5.69100000e+03, 1.30095020e+09,\n",
       "       1.30353570e+09, 1.30095083e+09, 1.30222620e+09, 0.00000000e+00,\n",
       "       5.47400000e+01, 0.00000000e+00, 0.00000000e+00, 1.00000000e+00,\n",
       "       1.60000000e+01, 1.00000000e+00, 1.00000000e+00, 1.47833300e+06,\n",
       "       0.00000000e+00, 8.53800000e+03, 0.00000000e+00, 0.00000000e+00,\n",
       "       1.00000000e+00, 1.40000000e+01, 1.40000000e+01, 0.00000000e+00,\n",
       "       1.69000000e+02, 1.28641092e+09, 1.00000000e+00, 6.25000000e-02,\n",
       "       0.00000000e+00, 1.87500000e-01, 0.00000000e+00, 1.39534884e-01,\n",
       "       2.32558140e-02, 4.00000000e-02, 2.80000000e-01])"
      ]
     },
     "execution_count": 346,
     "metadata": {},
     "output_type": "execute_result"
    }
   ],
   "source": [
    "high_sample"
   ]
  },
  {
   "cell_type": "code",
   "execution_count": 356,
   "id": "55cfb68f-d44c-4c72-9724-7c9b8513979c",
   "metadata": {},
   "outputs": [
    {
     "data": {
      "text/plain": [
       "approx_payout_date     1.314148e+09\n",
       "body_length            2.610000e+02\n",
       "channels               8.000000e+00\n",
       "country                6.500000e+01\n",
       "currency               6.000000e+00\n",
       "delivery_method        0.000000e+00\n",
       "email_domain           5.711000e+03\n",
       "event_created          1.313649e+09\n",
       "event_end              1.313716e+09\n",
       "event_published        1.313649e+09\n",
       "event_start            1.313708e+09\n",
       "fb_published           0.000000e+00\n",
       "gts                    1.813400e+02\n",
       "has_analytics          0.000000e+00\n",
       "has_logo               1.000000e+00\n",
       "listed                 1.000000e+00\n",
       "name_length            5.000000e+01\n",
       "num_order              2.000000e+00\n",
       "num_payouts            0.000000e+00\n",
       "object_id              2.057301e+06\n",
       "org_facebook           0.000000e+00\n",
       "org_name               3.180000e+02\n",
       "org_twitter            0.000000e+00\n",
       "payee_name             0.000000e+00\n",
       "payout_type            1.000000e+00\n",
       "sale_duration          1.000000e+00\n",
       "sale_duration2         1.000000e+00\n",
       "show_map               0.000000e+00\n",
       "user_age               6.000000e+00\n",
       "user_created           1.313079e+09\n",
       "user_type              1.000000e+00\n",
       "name_punc_ratio        0.000000e+00\n",
       "desc_punc_ratio        9.708738e-02\n",
       "name_caps_ratio        1.000000e-01\n",
       "desc_caps_ratio        1.456311e-01\n",
       "org_name_caps_ratio    1.428571e-01\n",
       "org_name_punc_ratio    0.000000e+00\n",
       "org_desc_caps_ratio    0.000000e+00\n",
       "org_desc_punc_ratio    0.000000e+00\n",
       "Name: 8568, dtype: float64"
      ]
     },
     "execution_count": 356,
     "metadata": {},
     "output_type": "execute_result"
    }
   ],
   "source": [
    "X_train.iloc[16]"
   ]
  },
  {
   "cell_type": "code",
   "execution_count": 359,
   "id": "98561cab-e698-4a4a-892b-955772691b8c",
   "metadata": {},
   "outputs": [
    {
     "data": {
      "text/plain": [
       "'High Risk'"
      ]
     },
     "execution_count": 359,
     "metadata": {},
     "output_type": "execute_result"
    }
   ],
   "source": [
    "new_event_prediction(high_sample)"
   ]
  },
  {
   "cell_type": "code",
   "execution_count": 324,
   "id": "273ae1ba-6fc3-4e6e-a013-da532114fcf7",
   "metadata": {},
   "outputs": [
    {
     "data": {
      "text/plain": [
       "array([[0.99428571, 0.00571429]])"
      ]
     },
     "execution_count": 324,
     "metadata": {},
     "output_type": "execute_result"
    }
   ],
   "source": [
    "model.predict_proba(sample.reshape(1, -1))"
   ]
  },
  {
   "cell_type": "code",
   "execution_count": 326,
   "id": "e645f162-db8b-4ac8-ae20-ee92be88f2f8",
   "metadata": {},
   "outputs": [
    {
     "data": {
      "text/plain": [
       "39"
      ]
     },
     "execution_count": 326,
     "metadata": {},
     "output_type": "execute_result"
    }
   ],
   "source": [
    "len(X_train.columns)"
   ]
  },
  {
   "cell_type": "code",
   "execution_count": null,
   "id": "05b93e3e-3d74-4e35-b0e5-83a93369fdf0",
   "metadata": {},
   "outputs": [],
   "source": []
  }
 ],
 "metadata": {
  "kernelspec": {
   "display_name": "Python 3",
   "language": "python",
   "name": "python3"
  },
  "language_info": {
   "codemirror_mode": {
    "name": "ipython",
    "version": 3
   },
   "file_extension": ".py",
   "mimetype": "text/x-python",
   "name": "python",
   "nbconvert_exporter": "python",
   "pygments_lexer": "ipython3",
   "version": "3.7.7"
  }
 },
 "nbformat": 4,
 "nbformat_minor": 5
}
